{
  "nbformat": 4,
  "nbformat_minor": 0,
  "metadata": {
    "colab": {
      "name": "AL21Test_AugTest_Plus_Save.ipynb",
      "provenance": [],
      "collapsed_sections": [],
      "authorship_tag": "ABX9TyO8bVjzqZvbMQfkD26FESsS",
      "include_colab_link": true
    },
    "kernelspec": {
      "name": "python3",
      "display_name": "Python 3"
    },
    "language_info": {
      "name": "python"
    },
    "accelerator": "GPU",
    "widgets": {
      "application/vnd.jupyter.widget-state+json": {
        "3e5d7ed033644cf4b2bbb7d8fe439297": {
          "model_module": "@jupyter-widgets/controls",
          "model_name": "HBoxModel",
          "state": {
            "_view_name": "HBoxView",
            "_dom_classes": [],
            "_model_name": "HBoxModel",
            "_view_module": "@jupyter-widgets/controls",
            "_model_module_version": "1.5.0",
            "_view_count": null,
            "_view_module_version": "1.5.0",
            "box_style": "",
            "layout": "IPY_MODEL_8b8087b9cc6a46eb968c93e98641ea45",
            "_model_module": "@jupyter-widgets/controls",
            "children": [
              "IPY_MODEL_7a0ed5c91a7949e6beeade0a31bc3298",
              "IPY_MODEL_f2bc2eb965f24eb381d01182e88e4396"
            ]
          }
        },
        "8b8087b9cc6a46eb968c93e98641ea45": {
          "model_module": "@jupyter-widgets/base",
          "model_name": "LayoutModel",
          "state": {
            "_view_name": "LayoutView",
            "grid_template_rows": null,
            "right": null,
            "justify_content": null,
            "_view_module": "@jupyter-widgets/base",
            "overflow": null,
            "_model_module_version": "1.2.0",
            "_view_count": null,
            "flex_flow": null,
            "width": null,
            "min_width": null,
            "border": null,
            "align_items": null,
            "bottom": null,
            "_model_module": "@jupyter-widgets/base",
            "top": null,
            "grid_column": null,
            "overflow_y": null,
            "overflow_x": null,
            "grid_auto_flow": null,
            "grid_area": null,
            "grid_template_columns": null,
            "flex": null,
            "_model_name": "LayoutModel",
            "justify_items": null,
            "grid_row": null,
            "max_height": null,
            "align_content": null,
            "visibility": null,
            "align_self": null,
            "height": null,
            "min_height": null,
            "padding": null,
            "grid_auto_rows": null,
            "grid_gap": null,
            "max_width": null,
            "order": null,
            "_view_module_version": "1.2.0",
            "grid_template_areas": null,
            "object_position": null,
            "object_fit": null,
            "grid_auto_columns": null,
            "margin": null,
            "display": null,
            "left": null
          }
        },
        "7a0ed5c91a7949e6beeade0a31bc3298": {
          "model_module": "@jupyter-widgets/controls",
          "model_name": "FloatProgressModel",
          "state": {
            "_view_name": "ProgressView",
            "style": "IPY_MODEL_b26deab607624f3099a3077d6590797c",
            "_dom_classes": [],
            "description": "",
            "_model_name": "FloatProgressModel",
            "bar_style": "success",
            "max": 170498071,
            "_view_module": "@jupyter-widgets/controls",
            "_model_module_version": "1.5.0",
            "value": 170498071,
            "_view_count": null,
            "_view_module_version": "1.5.0",
            "orientation": "horizontal",
            "min": 0,
            "description_tooltip": null,
            "_model_module": "@jupyter-widgets/controls",
            "layout": "IPY_MODEL_6521aba72fb04abe948d1f4ece233d49"
          }
        },
        "f2bc2eb965f24eb381d01182e88e4396": {
          "model_module": "@jupyter-widgets/controls",
          "model_name": "HTMLModel",
          "state": {
            "_view_name": "HTMLView",
            "style": "IPY_MODEL_6b55352237404d68ad6deea9e39a1415",
            "_dom_classes": [],
            "description": "",
            "_model_name": "HTMLModel",
            "placeholder": "​",
            "_view_module": "@jupyter-widgets/controls",
            "_model_module_version": "1.5.0",
            "value": " 170499072/? [13:07&lt;00:00, 216399.87it/s]",
            "_view_count": null,
            "_view_module_version": "1.5.0",
            "description_tooltip": null,
            "_model_module": "@jupyter-widgets/controls",
            "layout": "IPY_MODEL_1e6c3ecd21c8423b9bbfc3fbe9500198"
          }
        },
        "b26deab607624f3099a3077d6590797c": {
          "model_module": "@jupyter-widgets/controls",
          "model_name": "ProgressStyleModel",
          "state": {
            "_view_name": "StyleView",
            "_model_name": "ProgressStyleModel",
            "description_width": "initial",
            "_view_module": "@jupyter-widgets/base",
            "_model_module_version": "1.5.0",
            "_view_count": null,
            "_view_module_version": "1.2.0",
            "bar_color": null,
            "_model_module": "@jupyter-widgets/controls"
          }
        },
        "6521aba72fb04abe948d1f4ece233d49": {
          "model_module": "@jupyter-widgets/base",
          "model_name": "LayoutModel",
          "state": {
            "_view_name": "LayoutView",
            "grid_template_rows": null,
            "right": null,
            "justify_content": null,
            "_view_module": "@jupyter-widgets/base",
            "overflow": null,
            "_model_module_version": "1.2.0",
            "_view_count": null,
            "flex_flow": null,
            "width": null,
            "min_width": null,
            "border": null,
            "align_items": null,
            "bottom": null,
            "_model_module": "@jupyter-widgets/base",
            "top": null,
            "grid_column": null,
            "overflow_y": null,
            "overflow_x": null,
            "grid_auto_flow": null,
            "grid_area": null,
            "grid_template_columns": null,
            "flex": null,
            "_model_name": "LayoutModel",
            "justify_items": null,
            "grid_row": null,
            "max_height": null,
            "align_content": null,
            "visibility": null,
            "align_self": null,
            "height": null,
            "min_height": null,
            "padding": null,
            "grid_auto_rows": null,
            "grid_gap": null,
            "max_width": null,
            "order": null,
            "_view_module_version": "1.2.0",
            "grid_template_areas": null,
            "object_position": null,
            "object_fit": null,
            "grid_auto_columns": null,
            "margin": null,
            "display": null,
            "left": null
          }
        },
        "6b55352237404d68ad6deea9e39a1415": {
          "model_module": "@jupyter-widgets/controls",
          "model_name": "DescriptionStyleModel",
          "state": {
            "_view_name": "StyleView",
            "_model_name": "DescriptionStyleModel",
            "description_width": "",
            "_view_module": "@jupyter-widgets/base",
            "_model_module_version": "1.5.0",
            "_view_count": null,
            "_view_module_version": "1.2.0",
            "_model_module": "@jupyter-widgets/controls"
          }
        },
        "1e6c3ecd21c8423b9bbfc3fbe9500198": {
          "model_module": "@jupyter-widgets/base",
          "model_name": "LayoutModel",
          "state": {
            "_view_name": "LayoutView",
            "grid_template_rows": null,
            "right": null,
            "justify_content": null,
            "_view_module": "@jupyter-widgets/base",
            "overflow": null,
            "_model_module_version": "1.2.0",
            "_view_count": null,
            "flex_flow": null,
            "width": null,
            "min_width": null,
            "border": null,
            "align_items": null,
            "bottom": null,
            "_model_module": "@jupyter-widgets/base",
            "top": null,
            "grid_column": null,
            "overflow_y": null,
            "overflow_x": null,
            "grid_auto_flow": null,
            "grid_area": null,
            "grid_template_columns": null,
            "flex": null,
            "_model_name": "LayoutModel",
            "justify_items": null,
            "grid_row": null,
            "max_height": null,
            "align_content": null,
            "visibility": null,
            "align_self": null,
            "height": null,
            "min_height": null,
            "padding": null,
            "grid_auto_rows": null,
            "grid_gap": null,
            "max_width": null,
            "order": null,
            "_view_module_version": "1.2.0",
            "grid_template_areas": null,
            "object_position": null,
            "object_fit": null,
            "grid_auto_columns": null,
            "margin": null,
            "display": null,
            "left": null
          }
        },
        "bbe45c3345304bf5a9bee5fd2ba7c734": {
          "model_module": "@jupyter-widgets/controls",
          "model_name": "HBoxModel",
          "state": {
            "_view_name": "HBoxView",
            "_dom_classes": [],
            "_model_name": "HBoxModel",
            "_view_module": "@jupyter-widgets/controls",
            "_model_module_version": "1.5.0",
            "_view_count": null,
            "_view_module_version": "1.5.0",
            "box_style": "",
            "layout": "IPY_MODEL_ce95ce758cd147f1a52eda1e18b8bc65",
            "_model_module": "@jupyter-widgets/controls",
            "children": [
              "IPY_MODEL_dbeb63b85af340a49effe4f4860ec9ac",
              "IPY_MODEL_2b67d5cb45374c79b011670afe67064b"
            ]
          }
        },
        "ce95ce758cd147f1a52eda1e18b8bc65": {
          "model_module": "@jupyter-widgets/base",
          "model_name": "LayoutModel",
          "state": {
            "_view_name": "LayoutView",
            "grid_template_rows": null,
            "right": null,
            "justify_content": null,
            "_view_module": "@jupyter-widgets/base",
            "overflow": null,
            "_model_module_version": "1.2.0",
            "_view_count": null,
            "flex_flow": null,
            "width": null,
            "min_width": null,
            "border": null,
            "align_items": null,
            "bottom": null,
            "_model_module": "@jupyter-widgets/base",
            "top": null,
            "grid_column": null,
            "overflow_y": null,
            "overflow_x": null,
            "grid_auto_flow": null,
            "grid_area": null,
            "grid_template_columns": null,
            "flex": null,
            "_model_name": "LayoutModel",
            "justify_items": null,
            "grid_row": null,
            "max_height": null,
            "align_content": null,
            "visibility": null,
            "align_self": null,
            "height": null,
            "min_height": null,
            "padding": null,
            "grid_auto_rows": null,
            "grid_gap": null,
            "max_width": null,
            "order": null,
            "_view_module_version": "1.2.0",
            "grid_template_areas": null,
            "object_position": null,
            "object_fit": null,
            "grid_auto_columns": null,
            "margin": null,
            "display": null,
            "left": null
          }
        },
        "dbeb63b85af340a49effe4f4860ec9ac": {
          "model_module": "@jupyter-widgets/controls",
          "model_name": "FloatProgressModel",
          "state": {
            "_view_name": "ProgressView",
            "style": "IPY_MODEL_6e7e0fae5a84433b9b08e990f6861630",
            "_dom_classes": [],
            "description": "",
            "_model_name": "FloatProgressModel",
            "bar_style": "success",
            "max": 170498071,
            "_view_module": "@jupyter-widgets/controls",
            "_model_module_version": "1.5.0",
            "value": 170498071,
            "_view_count": null,
            "_view_module_version": "1.5.0",
            "orientation": "horizontal",
            "min": 0,
            "description_tooltip": null,
            "_model_module": "@jupyter-widgets/controls",
            "layout": "IPY_MODEL_e9022464e9364196895537872d1f2638"
          }
        },
        "2b67d5cb45374c79b011670afe67064b": {
          "model_module": "@jupyter-widgets/controls",
          "model_name": "HTMLModel",
          "state": {
            "_view_name": "HTMLView",
            "style": "IPY_MODEL_66ab6aa52da34dd081f0dcccf2d478f9",
            "_dom_classes": [],
            "description": "",
            "_model_name": "HTMLModel",
            "placeholder": "​",
            "_view_module": "@jupyter-widgets/controls",
            "_model_module_version": "1.5.0",
            "value": " 170499072/? [00:17&lt;00:00, 9795734.21it/s]",
            "_view_count": null,
            "_view_module_version": "1.5.0",
            "description_tooltip": null,
            "_model_module": "@jupyter-widgets/controls",
            "layout": "IPY_MODEL_56eccd65e606433fbf90d646ab5e94fe"
          }
        },
        "6e7e0fae5a84433b9b08e990f6861630": {
          "model_module": "@jupyter-widgets/controls",
          "model_name": "ProgressStyleModel",
          "state": {
            "_view_name": "StyleView",
            "_model_name": "ProgressStyleModel",
            "description_width": "initial",
            "_view_module": "@jupyter-widgets/base",
            "_model_module_version": "1.5.0",
            "_view_count": null,
            "_view_module_version": "1.2.0",
            "bar_color": null,
            "_model_module": "@jupyter-widgets/controls"
          }
        },
        "e9022464e9364196895537872d1f2638": {
          "model_module": "@jupyter-widgets/base",
          "model_name": "LayoutModel",
          "state": {
            "_view_name": "LayoutView",
            "grid_template_rows": null,
            "right": null,
            "justify_content": null,
            "_view_module": "@jupyter-widgets/base",
            "overflow": null,
            "_model_module_version": "1.2.0",
            "_view_count": null,
            "flex_flow": null,
            "width": null,
            "min_width": null,
            "border": null,
            "align_items": null,
            "bottom": null,
            "_model_module": "@jupyter-widgets/base",
            "top": null,
            "grid_column": null,
            "overflow_y": null,
            "overflow_x": null,
            "grid_auto_flow": null,
            "grid_area": null,
            "grid_template_columns": null,
            "flex": null,
            "_model_name": "LayoutModel",
            "justify_items": null,
            "grid_row": null,
            "max_height": null,
            "align_content": null,
            "visibility": null,
            "align_self": null,
            "height": null,
            "min_height": null,
            "padding": null,
            "grid_auto_rows": null,
            "grid_gap": null,
            "max_width": null,
            "order": null,
            "_view_module_version": "1.2.0",
            "grid_template_areas": null,
            "object_position": null,
            "object_fit": null,
            "grid_auto_columns": null,
            "margin": null,
            "display": null,
            "left": null
          }
        },
        "66ab6aa52da34dd081f0dcccf2d478f9": {
          "model_module": "@jupyter-widgets/controls",
          "model_name": "DescriptionStyleModel",
          "state": {
            "_view_name": "StyleView",
            "_model_name": "DescriptionStyleModel",
            "description_width": "",
            "_view_module": "@jupyter-widgets/base",
            "_model_module_version": "1.5.0",
            "_view_count": null,
            "_view_module_version": "1.2.0",
            "_model_module": "@jupyter-widgets/controls"
          }
        },
        "56eccd65e606433fbf90d646ab5e94fe": {
          "model_module": "@jupyter-widgets/base",
          "model_name": "LayoutModel",
          "state": {
            "_view_name": "LayoutView",
            "grid_template_rows": null,
            "right": null,
            "justify_content": null,
            "_view_module": "@jupyter-widgets/base",
            "overflow": null,
            "_model_module_version": "1.2.0",
            "_view_count": null,
            "flex_flow": null,
            "width": null,
            "min_width": null,
            "border": null,
            "align_items": null,
            "bottom": null,
            "_model_module": "@jupyter-widgets/base",
            "top": null,
            "grid_column": null,
            "overflow_y": null,
            "overflow_x": null,
            "grid_auto_flow": null,
            "grid_area": null,
            "grid_template_columns": null,
            "flex": null,
            "_model_name": "LayoutModel",
            "justify_items": null,
            "grid_row": null,
            "max_height": null,
            "align_content": null,
            "visibility": null,
            "align_self": null,
            "height": null,
            "min_height": null,
            "padding": null,
            "grid_auto_rows": null,
            "grid_gap": null,
            "max_width": null,
            "order": null,
            "_view_module_version": "1.2.0",
            "grid_template_areas": null,
            "object_position": null,
            "object_fit": null,
            "grid_auto_columns": null,
            "margin": null,
            "display": null,
            "left": null
          }
        }
      }
    }
  },
  "cells": [
    {
      "cell_type": "markdown",
      "metadata": {
        "id": "view-in-github",
        "colab_type": "text"
      },
      "source": [
        "<a href=\"https://colab.research.google.com/github/secutron/TesTime/blob/main/AL21Test_AugTest_Plus_Save.ipynb\" target=\"_parent\"><img src=\"https://colab.research.google.com/assets/colab-badge.svg\" alt=\"Open In Colab\"/></a>"
      ]
    },
    {
      "cell_type": "code",
      "metadata": {
        "colab": {
          "base_uri": "https://localhost:8080/"
        },
        "id": "k5YDP1kry9B3",
        "outputId": "1bcacea5-7484-45b1-c936-dba840238e26"
      },
      "source": [
        "# torch dataset인 cifar10은, 낱개로 다루기 번거로움\n",
        "# 대신 cifar2png 사용하여 준비\n",
        "\n",
        "!pip install cifar2png"
      ],
      "execution_count": 1,
      "outputs": [
        {
          "output_type": "stream",
          "text": [
            "Collecting cifar2png\n",
            "  Downloading https://files.pythonhosted.org/packages/ec/19/b92d71d4c062488308f59b53d51792e111d77caac675e40f112c6b1e7f9f/cifar2png-0.0.4.tar.gz\n",
            "Requirement already satisfied: numpy in /usr/local/lib/python3.7/dist-packages (from cifar2png) (1.19.5)\n",
            "Requirement already satisfied: pathlib in /usr/local/lib/python3.7/dist-packages (from cifar2png) (1.0.1)\n",
            "Requirement already satisfied: Pillow>=6.2.0 in /usr/local/lib/python3.7/dist-packages (from cifar2png) (7.1.2)\n",
            "Requirement already satisfied: requests>=2.20.0 in /usr/local/lib/python3.7/dist-packages (from cifar2png) (2.23.0)\n",
            "Requirement already satisfied: six in /usr/local/lib/python3.7/dist-packages (from cifar2png) (1.15.0)\n",
            "Requirement already satisfied: tqdm in /usr/local/lib/python3.7/dist-packages (from cifar2png) (4.41.1)\n",
            "Requirement already satisfied: certifi>=2017.4.17 in /usr/local/lib/python3.7/dist-packages (from requests>=2.20.0->cifar2png) (2020.12.5)\n",
            "Requirement already satisfied: urllib3!=1.25.0,!=1.25.1,<1.26,>=1.21.1 in /usr/local/lib/python3.7/dist-packages (from requests>=2.20.0->cifar2png) (1.24.3)\n",
            "Requirement already satisfied: idna<3,>=2.5 in /usr/local/lib/python3.7/dist-packages (from requests>=2.20.0->cifar2png) (2.10)\n",
            "Requirement already satisfied: chardet<4,>=3.0.2 in /usr/local/lib/python3.7/dist-packages (from requests>=2.20.0->cifar2png) (3.0.4)\n",
            "Building wheels for collected packages: cifar2png\n",
            "  Building wheel for cifar2png (setup.py) ... \u001b[?25l\u001b[?25hdone\n",
            "  Created wheel for cifar2png: filename=cifar2png-0.0.4-cp37-none-any.whl size=5935 sha256=39285c7879f8807b066597b5bd40cf19590be6a54126742cb74edfe7b8e540be\n",
            "  Stored in directory: /root/.cache/pip/wheels/88/74/1b/879adc36940e0e572a5999df305d325778a460cbfd6555a981\n",
            "Successfully built cifar2png\n",
            "Installing collected packages: cifar2png\n",
            "Successfully installed cifar2png-0.0.4\n"
          ],
          "name": "stdout"
        }
      ]
    },
    {
      "cell_type": "code",
      "metadata": {
        "colab": {
          "base_uri": "https://localhost:8080/"
        },
        "id": "Xd1StNfHy8-p",
        "outputId": "138ae280-eafb-4efe-f3f5-81784c5cef05"
      },
      "source": [
        "'''\n",
        "structure\n",
        "\n",
        "train/\n",
        "  airplane/\n",
        "    001.png\n",
        "    002.png\n",
        "    ...\n",
        "  automobile/\n",
        "    001.png\n",
        "    002.png\n",
        "    ...\n",
        "'''\n",
        "\n",
        "cifar_dir = './cifar10'\n",
        "!cifar2png cifar10 cifar10"
      ],
      "execution_count": 2,
      "outputs": [
        {
          "output_type": "stream",
          "text": [
            "cifar-10-python.tar.gz does not exists.\n",
            "Downloading cifar-10-python.tar.gz\n",
            "167kKB [00:03, 54.5kKB/s]              \n",
            "Saving train images: 100% 50000/50000 [00:18<00:00, 2659.31it/s]\n",
            "Saving test images: 100% 10000/10000 [00:03<00:00, 2642.98it/s]\n"
          ],
          "name": "stdout"
        }
      ]
    },
    {
      "cell_type": "code",
      "metadata": {
        "colab": {
          "base_uri": "https://localhost:8080/"
        },
        "id": "YU1JWS8ay87e",
        "outputId": "22e9feed-acb8-45e0-c907-757b80a6daf5"
      },
      "source": [
        "\n",
        "import os\n",
        "import numpy as np\n",
        "import matplotlib.pyplot as plt\n",
        "from imageio import imread\n",
        "from tqdm import tqdm\n",
        "\n",
        "# first, list the categories available in the data\n",
        "data_dir = os.path.join(cifar_dir, \"train\")\n",
        "categories = os.listdir(data_dir)\n",
        "categories.sort()\n",
        "print(categories)"
      ],
      "execution_count": 3,
      "outputs": [
        {
          "output_type": "stream",
          "text": [
            "['airplane', 'automobile', 'bird', 'cat', 'deer', 'dog', 'frog', 'horse', 'ship', 'truck']\n"
          ],
          "name": "stdout"
        }
      ]
    },
    {
      "cell_type": "code",
      "metadata": {
        "colab": {
          "base_uri": "https://localhost:8080/"
        },
        "id": "t24cjrjby84u",
        "outputId": "99d47ebd-c8cd-4d01-826b-228e4e372af3"
      },
      "source": [
        "# next load the images and labels\n",
        "images = []\n",
        "labels = []\n",
        "for label_id, category in tqdm(enumerate(categories), total=len(categories)):\n",
        "    category_dir = os.path.join(data_dir, category)\n",
        "    image_names = os.listdir(category_dir)\n",
        "    for im_name in image_names:\n",
        "        im_file = os.path.join(category_dir, im_name)\n",
        "        images.append(imread(im_file))\n",
        "        labels.append(label_id)\n",
        "        \n",
        "# make numpy arrays out of the lists\n",
        "# for th images, we stack along a new first axis\n",
        "images = np.concatenate([im[None] for im in images], axis=0)\n",
        "labels = np.array(labels)\n",
        "\n",
        "print(\"Number of images:\", len(images))\n",
        "print(\"Number of labels:\", len(labels))"
      ],
      "execution_count": 4,
      "outputs": [
        {
          "output_type": "stream",
          "text": [
            "100%|██████████| 10/10 [00:16<00:00,  1.69s/it]\n"
          ],
          "name": "stderr"
        },
        {
          "output_type": "stream",
          "text": [
            "Number of images: 50000\n",
            "Number of labels: 50000\n"
          ],
          "name": "stdout"
        }
      ]
    },
    {
      "cell_type": "code",
      "metadata": {
        "colab": {
          "base_uri": "https://localhost:8080/",
          "height": 109
        },
        "id": "HLRSsGohy81j",
        "outputId": "619476ce-333e-418b-a882-c4f115a3f273"
      },
      "source": [
        "# plot one image for each category\n",
        "fig, ax = plt.subplots(1, 10, figsize=(18, 6))\n",
        "label_list = labels.tolist()\n",
        "#print(label_list.index(1))\n",
        "for label_id, category in enumerate(categories):\n",
        "    ax[label_id].imshow(images[label_list.index(label_id)])\n",
        "    ax[label_id].set_title(category)\n",
        "plt.show()"
      ],
      "execution_count": 5,
      "outputs": [
        {
          "output_type": "display_data",
          "data": {
            "image/png": "[encoded data removed]",
            "text/plain": [
              "<Figure size 1296x432 with 10 Axes>"
            ]
          },
          "metadata": {
            "tags": [],
            "needs_background": "light"
          }
        }
      ]
    },
    {
      "cell_type": "code",
      "metadata": {
        "id": "DzEzPngR71Yf"
      },
      "source": [
        ""
      ],
      "execution_count": 5,
      "outputs": []
    },
    {
      "cell_type": "code",
      "metadata": {
        "id": "Kkw-FQGF71U8",
        "colab": {
          "base_uri": "https://localhost:8080/"
        },
        "outputId": "93defb8e-bf6c-4a82-d7dd-65e0a95d0089"
      },
      "source": [
        "rc_path = './cirar10_rc/'\n",
        "\n",
        "if not os.path.exists(rc_path):\n",
        "    os.mkdir(rc_path)\n",
        "\n",
        "for label_id, category in tqdm(enumerate(categories), total=len(categories)):\n",
        "    category_dir = os.path.join(rc_path, category)  \n",
        "    os.mkdir(category_dir)\n"
      ],
      "execution_count": 6,
      "outputs": [
        {
          "output_type": "stream",
          "text": [
            "100%|██████████| 10/10 [00:00<00:00, 11163.97it/s]\n"
          ],
          "name": "stderr"
        }
      ]
    },
    {
      "cell_type": "code",
      "metadata": {
        "colab": {
          "base_uri": "https://localhost:8080/"
        },
        "id": "-fLTZ8NzHVaD",
        "outputId": "b3f425d4-d1c2-464c-ba39-d2abd80aa102"
      },
      "source": [
        "import PIL\n",
        "#from PIL import PILImage\n",
        "\n",
        "import torchvision.transforms as T\n",
        "import torchvision.transforms.functional as F\n",
        "import torch\n",
        "\n",
        "\n",
        "for label_id, category in tqdm(enumerate(categories), total=len(categories)):\n",
        "    category_dir = os.path.join(data_dir, category)\n",
        "    rc_dir = os.path.join(rc_path, category)\n",
        "    print('rc_dir: ', rc_dir)\n",
        "    image_names = os.listdir(category_dir)\n",
        "    for cnt, im_name in enumerate(image_names):\n",
        "        im_file = os.path.join(category_dir, im_name)\n",
        "        print('im_file: ', im_file)\n",
        "        img = PIL.Image.open(im_file)\n",
        "        tensor = F.to_tensor(img)\n",
        "        tr = F.hflip(tensor)\n",
        "        img = F.to_pil_image(tr)\n",
        "        fname, fext = im_name.split('.')\n",
        "        sname = os.path.join(rc_dir, fname + '-t001.' + fext)\n",
        "        print('sname: ', sname)\n",
        "        img.save(sname)\n",
        "\n",
        "        if cnt > 0:\n",
        "            break"
      ],
      "execution_count": 7,
      "outputs": [
        {
          "output_type": "stream",
          "text": [
            " 10%|█         | 1/10 [00:00<00:01,  7.32it/s]"
          ],
          "name": "stderr"
        },
        {
          "output_type": "stream",
          "text": [
            "rc_dir:  ./cirar10_rc/airplane\n",
            "im_file:  ./cifar10/train/airplane/2077.png\n",
            "sname:  ./cirar10_rc/airplane/2077-t001.png\n",
            "im_file:  ./cifar10/train/airplane/0211.png\n",
            "sname:  ./cirar10_rc/airplane/0211-t001.png\n",
            "rc_dir:  ./cirar10_rc/automobile\n",
            "im_file:  ./cifar10/train/automobile/2077.png\n",
            "sname:  ./cirar10_rc/automobile/2077-t001.png\n",
            "im_file:  ./cifar10/train/automobile/0211.png\n",
            "sname:  ./cirar10_rc/automobile/0211-t001.png\n",
            "rc_dir:  ./cirar10_rc/bird\n",
            "im_file:  ./cifar10/train/bird/2077.png\n",
            "sname:  ./cirar10_rc/bird/2077-t001.png\n",
            "im_file:  ./cifar10/train/bird/0211.png\n",
            "sname:  ./cirar10_rc/bird/0211-t001.png\n",
            "rc_dir:  ./cirar10_rc/cat\n",
            "im_file:  ./cifar10/train/cat/2077.png\n",
            "sname:  ./cirar10_rc/cat/2077-t001.png\n",
            "im_file:  ./cifar10/train/cat/0211.png\n",
            "sname:  ./cirar10_rc/cat/0211-t001.png\n",
            "rc_dir:  ./cirar10_rc/deer\n",
            "im_file:  ./cifar10/train/deer/2077.png\n",
            "sname:  ./cirar10_rc/deer/2077-t001.png\n",
            "im_file:  ./cifar10/train/deer/0211.png\n",
            "sname:  ./cirar10_rc/deer/0211-t001.png\n",
            "rc_dir:  ./cirar10_rc/dog\n",
            "im_file:  ./cifar10/train/dog/2077.png\n",
            "sname:  ./cirar10_rc/dog/2077-t001.png\n",
            "im_file:  ./cifar10/train/dog/0211.png\n",
            "sname:  ./cirar10_rc/dog/0211-t001.png\n",
            "rc_dir:  ./cirar10_rc/frog\n",
            "im_file:  ./cifar10/train/frog/2077.png\n",
            "sname:  ./cirar10_rc/frog/2077-t001.png\n",
            "im_file:  ./cifar10/train/frog/0211.png\n",
            "sname:  ./cirar10_rc/frog/0211-t001.png\n",
            "rc_dir:  ./cirar10_rc/horse\n",
            "im_file:  ./cifar10/train/horse/2077.png\n",
            "sname:  ./cirar10_rc/horse/2077-t001.png\n",
            "im_file:  ./cifar10/train/horse/0211.png\n",
            "sname:  ./cirar10_rc/horse/0211-t001.png\n"
          ],
          "name": "stdout"
        },
        {
          "output_type": "stream",
          "text": [
            "\r100%|██████████| 10/10 [00:00<00:00, 44.83it/s]"
          ],
          "name": "stderr"
        },
        {
          "output_type": "stream",
          "text": [
            "rc_dir:  ./cirar10_rc/ship\n",
            "im_file:  ./cifar10/train/ship/2077.png\n",
            "sname:  ./cirar10_rc/ship/2077-t001.png\n",
            "im_file:  ./cifar10/train/ship/0211.png\n",
            "sname:  ./cirar10_rc/ship/0211-t001.png\n",
            "rc_dir:  ./cirar10_rc/truck\n",
            "im_file:  ./cifar10/train/truck/2077.png\n",
            "sname:  ./cirar10_rc/truck/2077-t001.png\n",
            "im_file:  ./cifar10/train/truck/0211.png\n",
            "sname:  ./cirar10_rc/truck/0211-t001.png\n"
          ],
          "name": "stdout"
        },
        {
          "output_type": "stream",
          "text": [
            "\n"
          ],
          "name": "stderr"
        }
      ]
    },
    {
      "cell_type": "code",
      "metadata": {
        "id": "5WpQamiB71SK",
        "colab": {
          "base_uri": "https://localhost:8080/",
          "height": 130
        },
        "outputId": "03516476-15b2-4d9f-f04e-7f69dd308b27"
      },
      "source": [
        "from PIL import PILImage\n",
        "\n",
        "import torchvision.transforms as T\n",
        "import torchvision.transforms.functional as F\n",
        "import torch\n",
        "\n",
        "\n",
        "#albumentations.Cutout(1,16,16,True),\n",
        "\n",
        "%%time\n",
        "\n",
        "for label_id, category in tqdm(enumerate(categories), total=len(categories)):\n",
        "    category_dir = os.path.join(data_dir, category)\n",
        "    image_names = os.listdir(category_dir)\n",
        "    for cnt, im_name in enumerate(image_names):\n",
        "        #im_file = os.path.join(category_dir, im_name)\n",
        "        img = PILImage.open(category_dir + im_name)\n",
        "        \n",
        "        '''\n",
        "        tensor = F.to_tensor(img)\n",
        "        tr = F.hflip(img)\n",
        "        #tr = F.crop(tensor, 192, 192, 192, 192)\n",
        "        #tr = F.resize(tr, [64, 64])\n",
        "        img = F.to_pil_image(tr)\n",
        "        in_parts = im_name.split('.')\n",
        "        img.save(rc_path + f'{i}-ER-{regr}.png')\n",
        "        counts[f'ER-{regr}'] = counts.get(f'ER-{regr}', 0) + 1\n",
        "        i += 1\n",
        "        ''' \n",
        "\n",
        "        if cnt > 0:\n",
        "            break\n",
        "\n",
        "\n",
        "counts = dict()\n",
        "i = 0\n",
        "for filename in os.listdir(er_trdat_path):\n",
        "    fn_parts = filename.split('_')\n",
        "    ind =  fn_parts.index('ER')\n",
        "    regr = fn_parts[ind+1]\n",
        "    if regr not in {'1', '3', '6', '10', '20', '30'}:\n",
        "        print(f'error fn_parts[7]')\n",
        "        print(fn_parts)\n",
        "        print(filename)\n",
        "        break    \n",
        "    img = Image.open(er_trdat_path + filename)\n",
        "    tensor = F.to_tensor(img)\n",
        "    tr = F.crop(tensor, 192, 192, 192, 192)\n",
        "    tr = F.resize(tr, [64, 64])\n",
        "    img = F.to_pil_image(tr)\n",
        "    img.save(cropdat_path + f'{i}-ER-{regr}.png')\n",
        "    counts[f'ER-{regr}'] = counts.get(f'ER-{regr}', 0) + 1\n",
        "    i += 1\n",
        "for filename in os.listdir(nr_trdat_path):\n",
        "    fn_parts = filename.split('_')\n",
        "    ind =  fn_parts.index('NR')\n",
        "    regr = fn_parts[ind+1]\n",
        "    if regr not in {'1', '3', '6', '10', '20', '30'}:\n",
        "        print(f'error fn_parts[7]')\n",
        "        print(fn_parts)\n",
        "        print(filename)\n",
        "        break    \n",
        "    img = Image.open(nr_trdat_path + filename)\n",
        "    tensor = F.to_tensor(img)\n",
        "    tr = F.crop(tensor, 192, 192, 192, 192)\n",
        "    tr = F.resize(tr, [64, 64])\n",
        "    img = F.to_pil_image(tr)\n",
        "    img.save(rc_path + f'{i}-NR-{regr}.png')\n",
        "    counts[f'NR-{regr}'] = counts.get(f'NR-{regr}', 0) + 1\n",
        "    i += 1"
      ],
      "execution_count": null,
      "outputs": [
        {
          "output_type": "error",
          "ename": "SyntaxError",
          "evalue": "ignored",
          "traceback": [
            "\u001b[0;36m  File \u001b[0;32m\"<ipython-input-35-efca582eb0cc>\"\u001b[0;36m, line \u001b[0;32m10\u001b[0m\n\u001b[0;31m    %%time\u001b[0m\n\u001b[0m    ^\u001b[0m\n\u001b[0;31mSyntaxError\u001b[0m\u001b[0;31m:\u001b[0m invalid syntax\n"
          ]
        }
      ]
    },
    {
      "cell_type": "code",
      "metadata": {
        "id": "f6kVLw5371Oy"
      },
      "source": [
        ""
      ],
      "execution_count": null,
      "outputs": []
    },
    {
      "cell_type": "code",
      "metadata": {
        "id": "3NVd7TRz71Ls"
      },
      "source": [
        "class Cutout(object):\n",
        "    \"\"\"Randomly mask out one or more patches from an image.\n",
        "    Args:\n",
        "        n_holes (int): Number of patches to cut out of each image.\n",
        "        length (int): The length (in pixels) of each square patch.\n",
        "    \"\"\"\n",
        "    def __init__(self, n_holes, length):\n",
        "        self.n_holes = n_holes\n",
        "        self.length = length\n",
        "\n",
        "    def __call__(self, img):\n",
        "        \"\"\"\n",
        "        Args:\n",
        "            img (Tensor): Tensor image of size (C, H, W).\n",
        "        Returns:\n",
        "            Tensor: Image with n_holes of dimension length x length cut out of it.\n",
        "        \"\"\"\n",
        "        h = img.size(1)\n",
        "        w = img.size(2)\n",
        "\n",
        "        mask = np.ones((h, w), np.float32)\n",
        "\n",
        "        for n in range(self.n_holes):\n",
        "            y = np.random.randint(h)\n",
        "            x = np.random.randint(w)\n",
        "\n",
        "            y1 = np.clip(y - self.length // 2, 0, h)\n",
        "            y2 = np.clip(y + self.length // 2, 0, h)\n",
        "            x1 = np.clip(x - self.length // 2, 0, w)\n",
        "            x2 = np.clip(x + self.length // 2, 0, w)\n",
        "\n",
        "            mask[y1: y2, x1: x2] = 0.\n",
        "\n",
        "        mask = torch.from_numpy(mask)\n",
        "        mask = mask.expand_as(img)\n",
        "        img = img * mask\n",
        "\n",
        "        return img"
      ],
      "execution_count": null,
      "outputs": []
    },
    {
      "cell_type": "code",
      "metadata": {
        "id": "KxOsj_uw71IQ"
      },
      "source": [
        ""
      ],
      "execution_count": null,
      "outputs": []
    },
    {
      "cell_type": "code",
      "metadata": {
        "id": "56cMn92U71Fn"
      },
      "source": [
        ""
      ],
      "execution_count": null,
      "outputs": []
    },
    {
      "cell_type": "code",
      "metadata": {
        "id": "MpIvkQ4I71CZ"
      },
      "source": [
        ""
      ],
      "execution_count": null,
      "outputs": []
    },
    {
      "cell_type": "code",
      "metadata": {
        "id": "9UuV-GLd70_q"
      },
      "source": [
        ""
      ],
      "execution_count": null,
      "outputs": []
    },
    {
      "cell_type": "code",
      "metadata": {
        "id": "ZnRYx2Om708a"
      },
      "source": [
        ""
      ],
      "execution_count": null,
      "outputs": []
    },
    {
      "cell_type": "code",
      "metadata": {
        "id": "Cbhv_k0W705h"
      },
      "source": [
        ""
      ],
      "execution_count": null,
      "outputs": []
    },
    {
      "cell_type": "code",
      "metadata": {
        "id": "xhS0My1dy8yb"
      },
      "source": [
        ""
      ],
      "execution_count": null,
      "outputs": []
    },
    {
      "cell_type": "code",
      "metadata": {
        "id": "26dtyeSgy8vX"
      },
      "source": [
        "import torch\n",
        "# datasets have to be sub-classes from torch.util.data.Dataset\n",
        "from torch.utils.data import Dataset\n",
        "\n",
        "class DatasetWithTransform(Dataset):\n",
        "    \"\"\" Our minimal dataset class. It holds data and target\n",
        "    as well as optional transforms that are applied to the data and target\n",
        "    on the fly when a batch is requested via the [] operator.\n",
        "    \"\"\"\n",
        "    def __init__(self, data, target, transform=None):\n",
        "        assert isinstance(data, np.ndarray)\n",
        "        assert isinstance(target, np.ndarray)\n",
        "        self.data = data\n",
        "        self.target = target\n",
        "        if transform is not None:\n",
        "            assert callable(transform)\n",
        "        self.transform = transform\n",
        "\n",
        "    # exposes the [] operator of our class\n",
        "    def __getitem__(self, index):\n",
        "        data, target = self.data[index], self.target[index]\n",
        "\n",
        "        # if we have transformations, apply them to the data and target\n",
        "        if self.transform is not None:\n",
        "            data, target = self.transform(data, target)\n",
        "        return data, target\n",
        "\n",
        "    def __len__(self):\n",
        "        return self.data.shape[0]"
      ],
      "execution_count": null,
      "outputs": []
    },
    {
      "cell_type": "code",
      "metadata": {
        "colab": {
          "base_uri": "https://localhost:8080/"
        },
        "id": "wYLlWGyNy8sk",
        "outputId": "5e976822-4ea3-413d-a635-8d950f3a3e04"
      },
      "source": [
        "# what transofrmations do we need to feed this data to pytorch?\n",
        "\n",
        "# first, let's check the shape of our images:\n",
        "image = images[0]\n",
        "print(image.shape)"
      ],
      "execution_count": null,
      "outputs": [
        {
          "output_type": "stream",
          "text": [
            "(32, 32, 3)\n"
          ],
          "name": "stdout"
        }
      ]
    },
    {
      "cell_type": "code",
      "metadata": {
        "id": "6PCQmfNmy8p0"
      },
      "source": [
        "\n",
        "# as we see, the images are stored in the order width, height, channel (WHC), \n",
        "# i.e. the first two axes are the image axes and the last axis\n",
        "# corresponds to the color channel.\n",
        "# pytorch however expects the color channel as first axis, i.e. CWH.\n",
        "# so our first transform switches the chanels\n",
        "\n",
        "# note that we have implemented the dataset in such a way, that the transforms\n",
        "# are functions that take bot the data (or image) and target as parameters.\n",
        "# thus we here accept the target (which is just the class label for the image) \n",
        "# as second parameter and return it without changing it\n",
        "def to_channel_first(image, target):\n",
        "    \"\"\" Transform images with color channel last (WHC) to channel first (CWH)\n",
        "    \"\"\"\n",
        "    # put channel first\n",
        "    image = image.transpose((2, 0, 1))\n",
        "    return image, target\n"
      ],
      "execution_count": null,
      "outputs": []
    },
    {
      "cell_type": "code",
      "metadata": {
        "colab": {
          "base_uri": "https://localhost:8080/"
        },
        "id": "Oh2dJWPOy8nG",
        "outputId": "e38417db-27b8-4372-fcea-35b9f5926784"
      },
      "source": [
        "# next, let's see what datatype and value range our images have\n",
        "print(image.dtype)\n",
        "print(image.min(), image.max())"
      ],
      "execution_count": null,
      "outputs": [
        {
          "output_type": "stream",
          "text": [
            "uint8\n",
            "11 196\n"
          ],
          "name": "stdout"
        }
      ]
    },
    {
      "cell_type": "code",
      "metadata": {
        "id": "8hbsdlfHy8kg"
      },
      "source": [
        "# as we can see, the images are stored as 8 bit integers with a value range [0, 255]\n",
        "# instead, torch expects images as 32 bit floats that should also be normalized to a 'reasonable' data range.\n",
        "# here, we normalize the image such that all channels are in range 0 to 1\n",
        "def normalize(image, target, channel_wise=True):\n",
        "    eps = 1.e-6\n",
        "    image = image.astype('float32')\n",
        "    chan_min = image.min(axis=(1, 2), keepdims=True)\n",
        "    image -= chan_min\n",
        "    chan_max = image.max(axis=(1, 2), keepdims=True)\n",
        "    image /= (chan_max + eps)\n",
        "    return image, target\n",
        "\n",
        "\n",
        "# finally, we need to transform the input from a numpy array to a torch tensor\n",
        "# and also return the target (which in our case is a scalar) as a tensor\n",
        "def to_tensor(image, target):\n",
        "    return torch.from_numpy(image), torch.tensor([target], dtype=torch.int64)\n",
        "    \n",
        "\n",
        "# we also need a way to apply multiple transforms\n",
        "# (note that alternatively we could also have accepted a list of transforms\n",
        "# in DatasetWithTransform)\n",
        "def compose(image, target, transforms):\n",
        "    for trafo in transforms:\n",
        "        image, target = trafo(image, target)\n",
        "    return image, target"
      ],
      "execution_count": null,
      "outputs": []
    },
    {
      "cell_type": "code",
      "metadata": {
        "id": "kbWoV1to1jXx"
      },
      "source": [
        "# create the dataset with the transformations\n",
        "from functools import partial  # to bind function arguments\n",
        "\n",
        "trafos = [to_channel_first, normalize, to_tensor]\n",
        "trafo = partial(compose, transforms=trafos)\n",
        "\n",
        "dataset = DatasetWithTransform(images, labels, transform=trafo)"
      ],
      "execution_count": null,
      "outputs": []
    },
    {
      "cell_type": "code",
      "metadata": {
        "colab": {
          "base_uri": "https://localhost:8080/",
          "height": 171
        },
        "id": "ne2kTvmy1jU9",
        "outputId": "585d6c34-cf3c-4de4-cbb2-025ad3b05edf"
      },
      "source": [
        "def show_image(ax, image, target):\n",
        "    # need to go back to numpy array and WHC axis order\n",
        "    image = image.numpy().transpose((1, 2, 0))\n",
        "    # find the label name\n",
        "    label = categories[target.item()]\n",
        "    ax.imshow(image)\n",
        "    ax.set_title(label)\n",
        "\n",
        "    \n",
        "# sample a few images from the dataset and check their label\n",
        "n_images = len(dataset)\n",
        "n_samples = 8\n",
        "\n",
        "fig, ax = plt.subplots(1, n_samples, figsize=(18, 4))\n",
        "for sample in range(n_samples):\n",
        "    # datasets are random access, so we can request\n",
        "    # an image / target at an arbitrary index\n",
        "    sample_id = np.random.randint(0, n_images)\n",
        "    image, target = dataset[sample_id]\n",
        "    \n",
        "    # make sure that the image is in range 0, 1\n",
        "    assert np.isclose(image.min(), 0.)\n",
        "    assert np.isclose(image.max(), 1.)\n",
        "    \n",
        "    # add the image to our plots\n",
        "    show_image(ax[sample], image, target)"
      ],
      "execution_count": null,
      "outputs": [
        {
          "output_type": "display_data",
          "data": {
            "image/png": "[encoded data removed]",
            "text/plain": [
              "<Figure size 1296x288 with 8 Axes>"
            ]
          },
          "metadata": {
            "tags": [],
            "needs_background": "light"
          }
        }
      ]
    },
    {
      "cell_type": "code",
      "metadata": {
        "id": "0sMqw4h31jSG"
      },
      "source": [
        "# albumentations.Cutout(1,16,16,True),\n",
        "\n"
      ],
      "execution_count": null,
      "outputs": []
    },
    {
      "cell_type": "code",
      "metadata": {
        "id": "WIl4pdP-1jP1"
      },
      "source": [
        ""
      ],
      "execution_count": null,
      "outputs": []
    },
    {
      "cell_type": "code",
      "metadata": {
        "id": "D6AohYIX1jNK"
      },
      "source": [
        ""
      ],
      "execution_count": null,
      "outputs": []
    },
    {
      "cell_type": "code",
      "metadata": {
        "id": "xKyqwW4r1jLL"
      },
      "source": [
        ""
      ],
      "execution_count": null,
      "outputs": []
    },
    {
      "cell_type": "code",
      "metadata": {
        "id": "bkYYbkGl1jHM"
      },
      "source": [
        ""
      ],
      "execution_count": null,
      "outputs": []
    },
    {
      "cell_type": "code",
      "metadata": {
        "id": "ifcbxyWRy8g4"
      },
      "source": [
        ""
      ],
      "execution_count": null,
      "outputs": []
    },
    {
      "cell_type": "code",
      "metadata": {
        "colab": {
          "base_uri": "https://localhost:8080/"
        },
        "id": "I8vgWyzdbllk",
        "outputId": "0beb70fd-836b-495f-86d8-358e5c3fc5d1"
      },
      "source": [
        "from datetime import datetime\n",
        "import datetime\n",
        "print(\"Current Date/Time: \",  datetime.datetime.now())"
      ],
      "execution_count": null,
      "outputs": [
        {
          "output_type": "stream",
          "text": [
            "Current Date/Time:  2021-04-26 05:22:07.201174\n"
          ],
          "name": "stdout"
        }
      ]
    },
    {
      "cell_type": "code",
      "metadata": {
        "colab": {
          "base_uri": "https://localhost:8080/",
          "height": 117,
          "referenced_widgets": [
            "3e5d7ed033644cf4b2bbb7d8fe439297",
            "8b8087b9cc6a46eb968c93e98641ea45",
            "7a0ed5c91a7949e6beeade0a31bc3298",
            "f2bc2eb965f24eb381d01182e88e4396",
            "b26deab607624f3099a3077d6590797c",
            "6521aba72fb04abe948d1f4ece233d49",
            "6b55352237404d68ad6deea9e39a1415",
            "1e6c3ecd21c8423b9bbfc3fbe9500198"
          ]
        },
        "id": "RbOjBwzs-LrM",
        "outputId": "a286100a-8038-4571-8543-507c9cf831f0"
      },
      "source": [
        "import numpy as np\n",
        "import cv2\n",
        "\n",
        "import torch\n",
        "import torch.nn as nn\n",
        "import torch.nn.functional as F\n",
        "import torch.optim as optim\n",
        "import torchvision\n",
        "from torchvision import datasets, transforms\n",
        "\n",
        "from albumentations.pytorch import ToTensor\n",
        "\n",
        "trainset = torchvision.datasets.CIFAR10(root='./data', train=True, download=True, transform=None)\n",
        "testset = torchvision.datasets.CIFAR10(root='./data', train=False, download=True, transform=None)\n",
        "\n",
        "labels = ('plane', 'car', 'bird', 'cat', 'deer', 'dog', 'frog', 'horse', 'ship', 'truck')\n",
        "\n",
        "mean=[0.485, 0.456, 0.406]\n",
        "std=[0.229, 0.224, 0.225]\n",
        "\n",
        "label2index = dict([(label, n) for n, label in enumerate(labels)])\n",
        "index2label = dict(enumerate(labels))"
      ],
      "execution_count": null,
      "outputs": [
        {
          "output_type": "stream",
          "text": [
            "Downloading https://www.cs.toronto.edu/~kriz/cifar-10-python.tar.gz to ./data/cifar-10-python.tar.gz\n"
          ],
          "name": "stdout"
        },
        {
          "output_type": "display_data",
          "data": {
            "application/vnd.jupyter.widget-view+json": {
              "model_id": "3e5d7ed033644cf4b2bbb7d8fe439297",
              "version_minor": 0,
              "version_major": 2
            },
            "text/plain": [
              "HBox(children=(FloatProgress(value=0.0, max=170498071.0), HTML(value='')))"
            ]
          },
          "metadata": {
            "tags": []
          }
        },
        {
          "output_type": "stream",
          "text": [
            "\n",
            "Extracting ./data/cifar-10-python.tar.gz to ./data\n",
            "Files already downloaded and verified\n"
          ],
          "name": "stdout"
        }
      ]
    },
    {
      "cell_type": "code",
      "metadata": {
        "id": "Lreu-_QMDhZu"
      },
      "source": [
        "#import albumentations\n",
        "from torch.utils.data import DataLoader, Dataset\n",
        "\n",
        "train_transform = transforms.Compose(\n",
        "    [\n",
        "        #transforms.RandomHorizontalFlip(),\n",
        "        transforms.ToTensor(),\n",
        "        transforms.Normalize((0.4914, 0.4822, 0.4465), (0.2023, 0.1994, 0.2010))\n",
        "    ]\n",
        ")\n",
        "\n",
        "test_transform = transforms.Compose(\n",
        "    [\n",
        "        transforms.ToTensor(),\n",
        "        transforms.Normalize((0.4914, 0.4822, 0.4465), (0.2023, 0.1994, 0.2010))\n",
        "    ]\n",
        ")\n",
        "\n",
        "class CIFAR10Dataset(Dataset):\n",
        "    def __init__(self, image, augmentations = None):\n",
        "        super().__init__()\n",
        "\n",
        "        self.image = image\n",
        "        self.augmentations = augmentations\n",
        "\n",
        "    def __len__(self):\n",
        "        return len(self.image) # return 1 as we have only one image\n",
        "\n",
        "    def __getitem__(self, idx):\n",
        "      \n",
        "       images,labels=self.image[idx]\n",
        "       data = {\"image\":np.array(images,dtype=float)}\n",
        "       if self.augmentations is not None:\n",
        "          image = self.augmentations(**data)['image']\n",
        "          image=torch.tensor(image)\n",
        "          image=np.transpose(image,(2,1,0))\n",
        "          return image,labels\n",
        "\n",
        "\n",
        "train_ds = CIFAR10Dataset(image = trainset, augmentations = train_transform)\n",
        "test_ds = CIFAR10Dataset(image = testset, augmentations = test_transform)\n",
        "\n",
        "batch_size = 64\n",
        "\n",
        "trainloader = DataLoader(train_ds, batch_size=batch_size, shuffle=True, num_workers=2)\n",
        "testloader = DataLoader(test_ds, batch_size=batch_size, shuffle=False, num_workers=2)\n"
      ],
      "execution_count": null,
      "outputs": []
    },
    {
      "cell_type": "code",
      "metadata": {
        "colab": {
          "base_uri": "https://localhost:8080/"
        },
        "id": "JJ1Hic-SwjX2",
        "outputId": "08b247df-a66a-480b-a099-9e861c2f3a3a"
      },
      "source": [
        "# get some random training images\n",
        "dataiter = iter(trainloader)\n",
        "dataiter"
      ],
      "execution_count": null,
      "outputs": [
        {
          "output_type": "execute_result",
          "data": {
            "text/plain": [
              "<torch.utils.data.dataloader._MultiProcessingDataLoaderIter at 0x7f36d31c8110>"
            ]
          },
          "metadata": {
            "tags": []
          },
          "execution_count": 13
        }
      ]
    },
    {
      "cell_type": "code",
      "metadata": {
        "colab": {
          "base_uri": "https://localhost:8080/",
          "height": 562
        },
        "id": "-ekfuDfClS39",
        "outputId": "e0cefab6-c13b-4ce6-de83-5e74938dd7a2"
      },
      "source": [
        "import matplotlib.pyplot as plt\n",
        "\n",
        "plt.figure(figsize=(12,12))\n",
        "def imshow(img):\n",
        "    img = img / 2 + 0.5     # unnormalize\n",
        "    npimg = img.numpy()\n",
        "    plt.imshow(np.transpose(npimg, (1, 2, 0)))\n",
        "\n",
        "# get some random training images\n",
        "dataiter = iter(trainloader)\n",
        "\n",
        "dataiter\n",
        "\n",
        "images, classes = dataiter.next()\n",
        "\n",
        "# show images\n",
        "imshow(torchvision.utils.make_grid(images))\n",
        "\n",
        "# print labels\n",
        "print(' '.join('%5s' % labels[classes[j]] for j in range(4)))"
      ],
      "execution_count": null,
      "outputs": [
        {
          "output_type": "error",
          "ename": "TypeError",
          "evalue": "ignored",
          "traceback": [
            "\u001b[0;31m---------------------------------------------------------------------------\u001b[0m",
            "\u001b[0;31mTypeError\u001b[0m                                 Traceback (most recent call last)",
            "\u001b[0;32m<ipython-input-11-23004b069d29>\u001b[0m in \u001b[0;36m<module>\u001b[0;34m()\u001b[0m\n\u001b[1;32m     12\u001b[0m \u001b[0mdataiter\u001b[0m\u001b[0;34m\u001b[0m\u001b[0;34m\u001b[0m\u001b[0m\n\u001b[1;32m     13\u001b[0m \u001b[0;34m\u001b[0m\u001b[0m\n\u001b[0;32m---> 14\u001b[0;31m \u001b[0mimages\u001b[0m\u001b[0;34m,\u001b[0m \u001b[0mclasses\u001b[0m \u001b[0;34m=\u001b[0m \u001b[0mdataiter\u001b[0m\u001b[0;34m.\u001b[0m\u001b[0mnext\u001b[0m\u001b[0;34m(\u001b[0m\u001b[0;34m)\u001b[0m\u001b[0;34m\u001b[0m\u001b[0;34m\u001b[0m\u001b[0m\n\u001b[0m\u001b[1;32m     15\u001b[0m \u001b[0;34m\u001b[0m\u001b[0m\n\u001b[1;32m     16\u001b[0m \u001b[0;31m# show images\u001b[0m\u001b[0;34m\u001b[0m\u001b[0;34m\u001b[0m\u001b[0;34m\u001b[0m\u001b[0m\n",
            "\u001b[0;32m/usr/local/lib/python3.7/dist-packages/torch/utils/data/dataloader.py\u001b[0m in \u001b[0;36m__next__\u001b[0;34m(self)\u001b[0m\n\u001b[1;32m    515\u001b[0m             \u001b[0;32mif\u001b[0m \u001b[0mself\u001b[0m\u001b[0;34m.\u001b[0m\u001b[0m_sampler_iter\u001b[0m \u001b[0;32mis\u001b[0m \u001b[0;32mNone\u001b[0m\u001b[0;34m:\u001b[0m\u001b[0;34m\u001b[0m\u001b[0;34m\u001b[0m\u001b[0m\n\u001b[1;32m    516\u001b[0m                 \u001b[0mself\u001b[0m\u001b[0;34m.\u001b[0m\u001b[0m_reset\u001b[0m\u001b[0;34m(\u001b[0m\u001b[0;34m)\u001b[0m\u001b[0;34m\u001b[0m\u001b[0;34m\u001b[0m\u001b[0m\n\u001b[0;32m--> 517\u001b[0;31m             \u001b[0mdata\u001b[0m \u001b[0;34m=\u001b[0m \u001b[0mself\u001b[0m\u001b[0;34m.\u001b[0m\u001b[0m_next_data\u001b[0m\u001b[0;34m(\u001b[0m\u001b[0;34m)\u001b[0m\u001b[0;34m\u001b[0m\u001b[0;34m\u001b[0m\u001b[0m\n\u001b[0m\u001b[1;32m    518\u001b[0m             \u001b[0mself\u001b[0m\u001b[0;34m.\u001b[0m\u001b[0m_num_yielded\u001b[0m \u001b[0;34m+=\u001b[0m \u001b[0;36m1\u001b[0m\u001b[0;34m\u001b[0m\u001b[0;34m\u001b[0m\u001b[0m\n\u001b[1;32m    519\u001b[0m             \u001b[0;32mif\u001b[0m \u001b[0mself\u001b[0m\u001b[0;34m.\u001b[0m\u001b[0m_dataset_kind\u001b[0m \u001b[0;34m==\u001b[0m \u001b[0m_DatasetKind\u001b[0m\u001b[0;34m.\u001b[0m\u001b[0mIterable\u001b[0m \u001b[0;32mand\u001b[0m\u001b[0;31m \u001b[0m\u001b[0;31m\\\u001b[0m\u001b[0;34m\u001b[0m\u001b[0;34m\u001b[0m\u001b[0m\n",
            "\u001b[0;32m/usr/local/lib/python3.7/dist-packages/torch/utils/data/dataloader.py\u001b[0m in \u001b[0;36m_next_data\u001b[0;34m(self)\u001b[0m\n\u001b[1;32m   1197\u001b[0m             \u001b[0;32melse\u001b[0m\u001b[0;34m:\u001b[0m\u001b[0;34m\u001b[0m\u001b[0;34m\u001b[0m\u001b[0m\n\u001b[1;32m   1198\u001b[0m                 \u001b[0;32mdel\u001b[0m \u001b[0mself\u001b[0m\u001b[0;34m.\u001b[0m\u001b[0m_task_info\u001b[0m\u001b[0;34m[\u001b[0m\u001b[0midx\u001b[0m\u001b[0;34m]\u001b[0m\u001b[0;34m\u001b[0m\u001b[0;34m\u001b[0m\u001b[0m\n\u001b[0;32m-> 1199\u001b[0;31m                 \u001b[0;32mreturn\u001b[0m \u001b[0mself\u001b[0m\u001b[0;34m.\u001b[0m\u001b[0m_process_data\u001b[0m\u001b[0;34m(\u001b[0m\u001b[0mdata\u001b[0m\u001b[0;34m)\u001b[0m\u001b[0;34m\u001b[0m\u001b[0;34m\u001b[0m\u001b[0m\n\u001b[0m\u001b[1;32m   1200\u001b[0m \u001b[0;34m\u001b[0m\u001b[0m\n\u001b[1;32m   1201\u001b[0m     \u001b[0;32mdef\u001b[0m \u001b[0m_try_put_index\u001b[0m\u001b[0;34m(\u001b[0m\u001b[0mself\u001b[0m\u001b[0;34m)\u001b[0m\u001b[0;34m:\u001b[0m\u001b[0;34m\u001b[0m\u001b[0;34m\u001b[0m\u001b[0m\n",
            "\u001b[0;32m/usr/local/lib/python3.7/dist-packages/torch/utils/data/dataloader.py\u001b[0m in \u001b[0;36m_process_data\u001b[0;34m(self, data)\u001b[0m\n\u001b[1;32m   1223\u001b[0m         \u001b[0mself\u001b[0m\u001b[0;34m.\u001b[0m\u001b[0m_try_put_index\u001b[0m\u001b[0;34m(\u001b[0m\u001b[0;34m)\u001b[0m\u001b[0;34m\u001b[0m\u001b[0;34m\u001b[0m\u001b[0m\n\u001b[1;32m   1224\u001b[0m         \u001b[0;32mif\u001b[0m \u001b[0misinstance\u001b[0m\u001b[0;34m(\u001b[0m\u001b[0mdata\u001b[0m\u001b[0;34m,\u001b[0m \u001b[0mExceptionWrapper\u001b[0m\u001b[0;34m)\u001b[0m\u001b[0;34m:\u001b[0m\u001b[0;34m\u001b[0m\u001b[0;34m\u001b[0m\u001b[0m\n\u001b[0;32m-> 1225\u001b[0;31m             \u001b[0mdata\u001b[0m\u001b[0;34m.\u001b[0m\u001b[0mreraise\u001b[0m\u001b[0;34m(\u001b[0m\u001b[0;34m)\u001b[0m\u001b[0;34m\u001b[0m\u001b[0;34m\u001b[0m\u001b[0m\n\u001b[0m\u001b[1;32m   1226\u001b[0m         \u001b[0;32mreturn\u001b[0m \u001b[0mdata\u001b[0m\u001b[0;34m\u001b[0m\u001b[0;34m\u001b[0m\u001b[0m\n\u001b[1;32m   1227\u001b[0m \u001b[0;34m\u001b[0m\u001b[0m\n",
            "\u001b[0;32m/usr/local/lib/python3.7/dist-packages/torch/_utils.py\u001b[0m in \u001b[0;36mreraise\u001b[0;34m(self)\u001b[0m\n\u001b[1;32m    427\u001b[0m             \u001b[0;31m# have message field\u001b[0m\u001b[0;34m\u001b[0m\u001b[0;34m\u001b[0m\u001b[0;34m\u001b[0m\u001b[0m\n\u001b[1;32m    428\u001b[0m             \u001b[0;32mraise\u001b[0m \u001b[0mself\u001b[0m\u001b[0;34m.\u001b[0m\u001b[0mexc_type\u001b[0m\u001b[0;34m(\u001b[0m\u001b[0mmessage\u001b[0m\u001b[0;34m=\u001b[0m\u001b[0mmsg\u001b[0m\u001b[0;34m)\u001b[0m\u001b[0;34m\u001b[0m\u001b[0;34m\u001b[0m\u001b[0m\n\u001b[0;32m--> 429\u001b[0;31m         \u001b[0;32mraise\u001b[0m \u001b[0mself\u001b[0m\u001b[0;34m.\u001b[0m\u001b[0mexc_type\u001b[0m\u001b[0;34m(\u001b[0m\u001b[0mmsg\u001b[0m\u001b[0;34m)\u001b[0m\u001b[0;34m\u001b[0m\u001b[0;34m\u001b[0m\u001b[0m\n\u001b[0m\u001b[1;32m    430\u001b[0m \u001b[0;34m\u001b[0m\u001b[0m\n\u001b[1;32m    431\u001b[0m \u001b[0;34m\u001b[0m\u001b[0m\n",
            "\u001b[0;31mTypeError\u001b[0m: Caught TypeError in DataLoader worker process 0.\nOriginal Traceback (most recent call last):\n  File \"/usr/local/lib/python3.7/dist-packages/torch/utils/data/_utils/worker.py\", line 202, in _worker_loop\n    data = fetcher.fetch(index)\n  File \"/usr/local/lib/python3.7/dist-packages/torch/utils/data/_utils/fetch.py\", line 44, in fetch\n    data = [self.dataset[idx] for idx in possibly_batched_index]\n  File \"/usr/local/lib/python3.7/dist-packages/torch/utils/data/_utils/fetch.py\", line 44, in <listcomp>\n    data = [self.dataset[idx] for idx in possibly_batched_index]\n  File \"<ipython-input-9-07c8741c94c1>\", line 34, in __getitem__\n    image = self.augmentations(**data)['image']\nTypeError: __call__() got an unexpected keyword argument 'image'\n"
          ]
        },
        {
          "output_type": "display_data",
          "data": {
            "text/plain": [
              "<Figure size 864x864 with 0 Axes>"
            ]
          },
          "metadata": {
            "tags": []
          }
        }
      ]
    },
    {
      "cell_type": "code",
      "metadata": {
        "id": "du6Kdm9qlSzi"
      },
      "source": [
        ""
      ],
      "execution_count": null,
      "outputs": []
    },
    {
      "cell_type": "code",
      "metadata": {
        "id": "STALxRLSlSuv"
      },
      "source": [
        ""
      ],
      "execution_count": null,
      "outputs": []
    },
    {
      "cell_type": "code",
      "metadata": {
        "id": "oQ5p-H5OlSqU"
      },
      "source": [
        ""
      ],
      "execution_count": null,
      "outputs": []
    },
    {
      "cell_type": "code",
      "metadata": {
        "id": "2-shDl3v-LiB"
      },
      "source": [
        "\n",
        "import albumentations\n",
        "\n",
        "\n",
        "def album_transform(albumentations):\n",
        "    train_transforms = albumentations.Compose([\n",
        "                                       albumentations.RandomRotate90(),\n",
        "                                       albumentations.HorizontalFlip(),\n",
        "                                       albumentations.ShiftScaleRotate(shift_limit=0.0625, scale_limit=0.2, rotate_limit=45, p=.2),\n",
        "                                       #albumentations.GridDistortion(num_steps=5),\n",
        "                                       albumentations.augmentations.transforms.Normalize((0.4914, 0.48216, 0.4453), (0.24703, 0.24349, 0.26159))\n",
        "                                         ])\n",
        " \n",
        "    test_transforms=albumentations.Compose([albumentations.augmentations.transforms.Normalize((0.4914, 0.48216, 0.4453), (0.24703, 0.24349, 0.26159))])\n",
        "    return train_transforms,test_transforms\n",
        "\n",
        "train_transforms,test_transforms=album_transform(albumentations)    "
      ],
      "execution_count": null,
      "outputs": []
    },
    {
      "cell_type": "code",
      "metadata": {
        "id": "b3UCCwh1-Lej"
      },
      "source": [
        ""
      ],
      "execution_count": null,
      "outputs": []
    },
    {
      "cell_type": "code",
      "metadata": {
        "id": "9Odnjsj_blih"
      },
      "source": [
        ""
      ],
      "execution_count": null,
      "outputs": []
    },
    {
      "cell_type": "code",
      "metadata": {
        "id": "5TkbIAUVif0d"
      },
      "source": [
        "import albumentations\n",
        "\n",
        "class Albumentation():\n",
        "    def __init__(self):\n",
        "        self.Albumentation_transform = albumentations.Compose([\n",
        "                albumentations.PadIfNeeded(40,40,cv2.BORDER_REFLECT,True),\n",
        "                albumentations.RandomCrop(32,32,True),                                         \n",
        "                albumentations.HorizontalFlip(p=0.5),\n",
        "                #albumentations.RandomRotate90(True),\n",
        "                #albumentations.Rotate(-20,20),\n",
        "                albumentations.Normalize((0.485, 0.456, 0.406),(0.229, 0.224, 0.225)),\n",
        "                albumentations.Cutout(1,16,16,True),\n",
        "                ToTensor(),\n",
        "            ])\n",
        "   \n",
        "         \n",
        "    def __call__(self,image):\n",
        "        image_numpy = np.array(image)\n",
        "        augmented = self.Albumentation_transform(image=image_numpy)\n",
        "        image = augmented['image']\n",
        "        return image    "
      ],
      "execution_count": null,
      "outputs": []
    },
    {
      "cell_type": "code",
      "metadata": {
        "colab": {
          "base_uri": "https://localhost:8080/",
          "height": 134,
          "referenced_widgets": [
            "bbe45c3345304bf5a9bee5fd2ba7c734",
            "ce95ce758cd147f1a52eda1e18b8bc65",
            "dbeb63b85af340a49effe4f4860ec9ac",
            "2b67d5cb45374c79b011670afe67064b",
            "6e7e0fae5a84433b9b08e990f6861630",
            "e9022464e9364196895537872d1f2638",
            "66ab6aa52da34dd081f0dcccf2d478f9",
            "56eccd65e606433fbf90d646ab5e94fe"
          ]
        },
        "id": "Ozwye1nuirLZ",
        "outputId": "7bac3149-c350-4d5d-f024-7a5b8870f920"
      },
      "source": [
        "import numpy as np\n",
        "import cv2\n",
        "\n",
        "import torch\n",
        "import torch.nn as nn\n",
        "import torch.nn.functional as F\n",
        "import torch.optim as optim\n",
        "import torchvision\n",
        "from torchvision import datasets, transforms\n",
        "\n",
        "from albumentations.pytorch import ToTensor\n",
        "\n",
        "\n",
        "# ToTensor converts the PIL Image from range [0, 255] to a FloatTensor of shape (C x H x W) with range [0.0, 1.0]\n",
        "# We then renormalize the input to [-1, 1] based on the following formula with μ and standard deviation\n",
        "\n",
        "train_transform = transforms.Compose(\n",
        "    [\n",
        "        transforms.RandomHorizontalFlip(),\n",
        "        transforms.ToTensor(),\n",
        "        transforms.Normalize((0.4914, 0.4822, 0.4465), (0.2023, 0.1994, 0.2010))\n",
        "    ]\n",
        ")\n",
        "\n",
        "test_transform = transforms.Compose(\n",
        "    [\n",
        "        transforms.ToTensor(),\n",
        "        transforms.Normalize((0.4914, 0.4822, 0.4465), (0.2023, 0.1994, 0.2010))\n",
        "    ]\n",
        ")\n",
        "\n",
        "\n",
        "trainset = torchvision.datasets.CIFAR10(root='./data', train=True, download=True, transform=train_transform)\n",
        "\n",
        "\n",
        "# Train set with albumentation\n",
        "trainset_with_Albumentation = torchvision.datasets.CIFAR10(root='./data', train=True, download=True, transform=Albumentation())\n",
        "\n",
        "\n",
        "testset = torchvision.datasets.CIFAR10(root='./data', train=False, download=True, transform=test_transform)\n",
        "\n",
        "\n",
        "labels = ('plane', 'car', 'bird', 'cat', 'deer', 'dog', 'frog', 'horse', 'ship', 'truck')\n",
        "mean=[0.485, 0.456, 0.406]\n",
        "std=[0.229, 0.224, 0.225]\n",
        "label2index = dict([(label, n) for n, label in enumerate(labels)])\n",
        "index2label = dict(enumerate(labels))"
      ],
      "execution_count": null,
      "outputs": [
        {
          "output_type": "stream",
          "text": [
            "Downloading https://www.cs.toronto.edu/~kriz/cifar-10-python.tar.gz to ./data/cifar-10-python.tar.gz\n"
          ],
          "name": "stdout"
        },
        {
          "output_type": "display_data",
          "data": {
            "application/vnd.jupyter.widget-view+json": {
              "model_id": "bbe45c3345304bf5a9bee5fd2ba7c734",
              "version_minor": 0,
              "version_major": 2
            },
            "text/plain": [
              "HBox(children=(FloatProgress(value=0.0, max=170498071.0), HTML(value='')))"
            ]
          },
          "metadata": {
            "tags": []
          }
        },
        {
          "output_type": "stream",
          "text": [
            "\n",
            "Extracting ./data/cifar-10-python.tar.gz to ./data\n",
            "Files already downloaded and verified\n",
            "Files already downloaded and verified\n"
          ],
          "name": "stdout"
        }
      ]
    },
    {
      "cell_type": "code",
      "metadata": {
        "colab": {
          "base_uri": "https://localhost:8080/"
        },
        "id": "5gZIevQCblf2",
        "outputId": "c5c5ea88-cff9-4221-c9bd-67eb93ca9bd5"
      },
      "source": [
        "SEED = 1\n",
        "\n",
        "# CUDA?\n",
        "cuda = torch.cuda.is_available()\n",
        "print(\"CUDA Available?\", cuda)\n",
        "\n",
        "# For reproducibility\n",
        "torch.manual_seed(SEED)\n",
        "\n",
        "if cuda:\n",
        "    torch.cuda.manual_seed(SEED)\n",
        "\n",
        "\n",
        "dataloader_args = dict(shuffle=True, batch_size=512, num_workers=4, pin_memory=True) if cuda else dict(shuffle=True, batch_size=64)\n",
        "\n",
        "dataloader_args_Albumentation = dict(shuffle=True, batch_size=4, num_workers=4, pin_memory=True) if cuda else dict(shuffle=True, batch_size=64)\n",
        "\n",
        "\n",
        "# train dataloader\n",
        "train_loader = torch.utils.data.DataLoader(trainset, **dataloader_args)\n",
        "\n",
        "\n",
        "train_loader_Albumentation = torch.utils.data.DataLoader(trainset_with_Albumentation, **dataloader_args)\n",
        "\n",
        "# To view images\n",
        "train_loader_Alb = torch.utils.data.DataLoader(trainset_with_Albumentation, **dataloader_args_Albumentation)\n",
        "\n",
        "# test dataloader\n",
        "test_loader = torch.utils.data.DataLoader(testset, **dataloader_args)\n"
      ],
      "execution_count": null,
      "outputs": [
        {
          "output_type": "stream",
          "text": [
            "CUDA Available? True\n"
          ],
          "name": "stdout"
        },
        {
          "output_type": "stream",
          "text": [
            "/usr/local/lib/python3.7/dist-packages/torch/utils/data/dataloader.py:477: UserWarning: This DataLoader will create 4 worker processes in total. Our suggested max number of worker in current system is 2, which is smaller than what this DataLoader is going to create. Please be aware that excessive worker creation might get DataLoader running slow or even freeze, lower the worker number to avoid potential slowness/freeze if necessary.\n",
            "  cpuset_checked))\n"
          ],
          "name": "stderr"
        }
      ]
    },
    {
      "cell_type": "code",
      "metadata": {
        "colab": {
          "base_uri": "https://localhost:8080/",
          "height": 312
        },
        "id": "oIu2ksX2bldC",
        "outputId": "18a40257-a864-490e-b8a5-8a8fcf15e13a"
      },
      "source": [
        "import matplotlib.pyplot as plt\n",
        "\n",
        "plt.figure(figsize=(12,12))\n",
        "def imshow(img):\n",
        "    img = img / 2 + 0.5     # unnormalize\n",
        "    npimg = img.numpy()\n",
        "    plt.imshow(np.transpose(npimg, (1, 2, 0)))\n",
        "\n",
        "# get some random training images\n",
        "dataiter = iter(train_loader_Alb)\n",
        "images, classes = dataiter.next()\n",
        "\n",
        "# show images\n",
        "imshow(torchvision.utils.make_grid(images))\n",
        "\n",
        "# print labels\n",
        "print(' '.join('%5s' % labels[classes[j]] for j in range(4)))"
      ],
      "execution_count": null,
      "outputs": [
        {
          "output_type": "stream",
          "text": [
            "/usr/local/lib/python3.7/dist-packages/torch/utils/data/dataloader.py:477: UserWarning: This DataLoader will create 4 worker processes in total. Our suggested max number of worker in current system is 2, which is smaller than what this DataLoader is going to create. Please be aware that excessive worker creation might get DataLoader running slow or even freeze, lower the worker number to avoid potential slowness/freeze if necessary.\n",
            "  cpuset_checked))\n",
            "Clipping input data to the valid range for imshow with RGB data ([0..1] for floats or [0..255] for integers).\n"
          ],
          "name": "stderr"
        },
        {
          "output_type": "stream",
          "text": [
            " deer   car horse   dog\n"
          ],
          "name": "stdout"
        },
        {
          "output_type": "display_data",
          "data": {
            "image/png": "[encoded data removed]",
            "text/plain": [
              "<Figure size 864x864 with 1 Axes>"
            ]
          },
          "metadata": {
            "tags": [],
            "needs_background": "light"
          }
        }
      ]
    },
    {
      "cell_type": "code",
      "metadata": {
        "id": "NrzY8HamblaG"
      },
      "source": [
        "import torch.nn as nn\n",
        "import torch.nn.functional as F\n",
        "import torch\n",
        "\n",
        "\n",
        "class Net(nn.Module):\n",
        "    def __init__(self):\n",
        "        super(Net, self).__init__()\n",
        "\n",
        "        self.preplayer = nn.Sequential(nn.Conv2d(in_channels=3, out_channels=64, kernel_size=3, padding=1, bias=False),                                             \n",
        "                                       nn.BatchNorm2d(64),\n",
        "                                       nn.ReLU())      # Receptive Field 3\n",
        "                                                     \n",
        " #Layer 1 :         \n",
        "\n",
        "        self.x1 = nn.Sequential(nn.Conv2d(in_channels=64, out_channels=128, kernel_size=3, padding=1, bias=False), \n",
        "                                # Receptive Field  5                                         \n",
        "                                nn.MaxPool2d(2, 2),\n",
        "                                nn.BatchNorm2d(128),\n",
        "                                nn.ReLU())            # Receptive Field 6\n",
        "\n",
        "#ResBlock 1 :\n",
        "            \n",
        "    \n",
        "        self.R1 = nn.Sequential(nn.Conv2d(in_channels=128, out_channels=128, kernel_size=3, padding=1, bias=False),      \n",
        "                                nn.BatchNorm2d(128),\n",
        "                                nn.ReLU(),           # Receptive Field 10\n",
        "                                nn.Conv2d(in_channels=128, out_channels=128, kernel_size=3, padding=1, bias=False), \n",
        "                                nn.BatchNorm2d(128),\n",
        "                                nn.ReLU())           # Receptive Field 14\n",
        "\n",
        "           \n",
        "            \n",
        "            \n",
        "#Layer 2 :\n",
        "\n",
        "\n",
        "        self.x2 = nn.Sequential(nn.Conv2d(in_channels=128, out_channels=256, kernel_size=3, padding=1, bias=False),\n",
        "                                # Receptive Field 18\n",
        "                                nn.MaxPool2d(2, 2),\n",
        "                                nn.BatchNorm2d(256),\n",
        "                                nn.ReLU())         # Receptive Field 20\n",
        "\n",
        "           \n",
        "                    \n",
        "        \n",
        "#Layer 3 :\n",
        "\n",
        "\n",
        "        self.x3 = nn.Sequential(nn.Conv2d(in_channels=256, out_channels=512, kernel_size=3, padding=1, bias=False), \n",
        "                                # Receptive Field 28\n",
        "                                nn.MaxPool2d(2, 2),\n",
        "                                nn.BatchNorm2d(512),\n",
        "                                nn.ReLU())       # Receptive Field 32\n",
        " \n",
        "            \n",
        " #ResBlock 2 :       \n",
        "            \n",
        "\n",
        "        self.R2 = nn.Sequential(nn.Conv2d(in_channels=512, out_channels=512, kernel_size=3, padding=1, bias=False), \n",
        "                                nn.BatchNorm2d(512),\n",
        "                                nn.ReLU(),       # Receptive Field 48\n",
        "                                nn.Conv2d(in_channels=512, out_channels=512, kernel_size=3, padding=1, bias=False), \n",
        "                                nn.BatchNorm2d(512),\n",
        "                                nn.ReLU())       # Receptive Field 64\n",
        "\n",
        "          \n",
        "        \n",
        "        self.pool = nn.MaxPool2d(4)          # Receptive Field 88\n",
        "\n",
        "        self.fc = nn.Linear(in_features = 512, out_features = 10,bias=False)\n",
        "\n",
        "      \n",
        "\n",
        "\n",
        "    def forward(self, x):\n",
        "\n",
        "        preplayer = self.preplayer(x)  # Receptive Field 3\n",
        "        x = self.x1(preplayer)         # Receptive Field 6\n",
        "        R = self.R1(x)                 # Receptive Field 14\n",
        "        x = x+R                        \n",
        "        x = self.x2(x)                 # Receptive Field 20 , 14 , 6\n",
        "        x = self.x3(x)                 # Receptive Field 32 , 20 , 14 , 6   \n",
        "        R = self.R2(x)                 # Receptive Field 64 , 32 , 20 , 14 , 6 \n",
        "        x = R+x                          \n",
        "        x = self.pool(x)               # Receptive Field 88 , 64 , 32 , 20 , 14 , 6      \n",
        "        x = x.view(-1, 512)               \n",
        "        x = self.fc(x)                       \n",
        "\n",
        "        return F.log_softmax(x,dim=-1)"
      ],
      "execution_count": null,
      "outputs": []
    },
    {
      "cell_type": "code",
      "metadata": {
        "colab": {
          "base_uri": "https://localhost:8080/"
        },
        "id": "rLJO5Z6jblXR",
        "outputId": "de58bcdb-9ea4-472c-c1a0-3670c158447e"
      },
      "source": [
        "import torchsummary\n",
        "from torchsummary import summary\n",
        "\n",
        "\n",
        "use_cuda = torch.cuda.is_available()\n",
        "device = torch.device(\"cuda\" if use_cuda else \"cpu\")\n",
        "model = Net().to(device)\n",
        "summary(model, input_size=(3, 32, 32))"
      ],
      "execution_count": null,
      "outputs": [
        {
          "output_type": "stream",
          "text": [
            "----------------------------------------------------------------\n",
            "        Layer (type)               Output Shape         Param #\n",
            "================================================================\n",
            "            Conv2d-1           [-1, 64, 32, 32]           1,728\n",
            "       BatchNorm2d-2           [-1, 64, 32, 32]             128\n",
            "              ReLU-3           [-1, 64, 32, 32]               0\n",
            "            Conv2d-4          [-1, 128, 32, 32]          73,728\n",
            "         MaxPool2d-5          [-1, 128, 16, 16]               0\n",
            "       BatchNorm2d-6          [-1, 128, 16, 16]             256\n",
            "              ReLU-7          [-1, 128, 16, 16]               0\n",
            "            Conv2d-8          [-1, 128, 16, 16]         147,456\n",
            "       BatchNorm2d-9          [-1, 128, 16, 16]             256\n",
            "             ReLU-10          [-1, 128, 16, 16]               0\n",
            "           Conv2d-11          [-1, 128, 16, 16]         147,456\n",
            "      BatchNorm2d-12          [-1, 128, 16, 16]             256\n",
            "             ReLU-13          [-1, 128, 16, 16]               0\n",
            "           Conv2d-14          [-1, 256, 16, 16]         294,912\n",
            "        MaxPool2d-15            [-1, 256, 8, 8]               0\n",
            "      BatchNorm2d-16            [-1, 256, 8, 8]             512\n",
            "             ReLU-17            [-1, 256, 8, 8]               0\n",
            "           Conv2d-18            [-1, 512, 8, 8]       1,179,648\n",
            "        MaxPool2d-19            [-1, 512, 4, 4]               0\n",
            "      BatchNorm2d-20            [-1, 512, 4, 4]           1,024\n",
            "             ReLU-21            [-1, 512, 4, 4]               0\n",
            "           Conv2d-22            [-1, 512, 4, 4]       2,359,296\n",
            "      BatchNorm2d-23            [-1, 512, 4, 4]           1,024\n",
            "             ReLU-24            [-1, 512, 4, 4]               0\n",
            "           Conv2d-25            [-1, 512, 4, 4]       2,359,296\n",
            "      BatchNorm2d-26            [-1, 512, 4, 4]           1,024\n",
            "             ReLU-27            [-1, 512, 4, 4]               0\n",
            "        MaxPool2d-28            [-1, 512, 1, 1]               0\n",
            "           Linear-29                   [-1, 10]           5,120\n",
            "================================================================\n",
            "Total params: 6,573,120\n",
            "Trainable params: 6,573,120\n",
            "Non-trainable params: 0\n",
            "----------------------------------------------------------------\n",
            "Input size (MB): 0.01\n",
            "Forward/backward pass size (MB): 6.44\n",
            "Params size (MB): 25.07\n",
            "Estimated Total Size (MB): 31.53\n",
            "----------------------------------------------------------------\n"
          ],
          "name": "stdout"
        }
      ]
    },
    {
      "cell_type": "code",
      "metadata": {
        "id": "8qCHv0djzofT"
      },
      "source": [
        "\n",
        "\n",
        "from __future__ import print_function\n",
        "import torch\n",
        "import torch.nn as nn\n",
        "import torch.nn.functional as F\n",
        "import torch.optim as optim\n",
        "from torchvision import datasets, transforms\n",
        "# %matplotlib inline\n",
        "import matplotlib.pyplot as plt\n",
        "import torchvision\n",
        "import numpy as np\n",
        "import torchvision.transforms as transforms\n",
        "import albumentations\n",
        "from albumentations.pytorch import ToTensor\n",
        "from tqdm import tqdm\n",
        "\n",
        "train_acc = []\n",
        "train_losses = []\n",
        "def train(model, device, train_loader, optimizer, loss_func, epoch):\n",
        "  model.train()\n",
        "  pbar = tqdm(train_loader)\n",
        "  correct = 0\n",
        "  processed = 0\n",
        "  train_loss = 0\n",
        "  for batch_idx, (data, target) in enumerate(pbar):\n",
        "        # get the inputs\n",
        "        data, target = data.to(device), target.to(device)\n",
        "\n",
        "        # zero the parameter gradients\n",
        "        optimizer.zero_grad()\n",
        "\n",
        "        # predict\n",
        "        y_pred = model(data)\n",
        "\n",
        "        # loss\n",
        "        loss = loss_func(y_pred, target)\n",
        "        \n",
        "        # backprop\n",
        "        loss.backward()\n",
        "        optimizer.step()\n",
        "\n",
        "        # update pbar tqdm\n",
        "        pred = y_pred.argmax(dim=1, keepdim=True)  # get the index of the max log-probability\n",
        "        correct += pred.eq(target.view_as(pred)).sum().item()\n",
        "        processed += len(data)\n",
        "        train_loss += loss.item()\n",
        "\n",
        "        pbar.set_description(desc= f'Epoch= {epoch} Loss={loss.item()} Batch_id={batch_idx} Accuracy={100*correct/processed:0.2f}')\n",
        "  \n",
        "  train_loss /= len(train_loader)\n",
        "  train_losses.append(train_loss)\n",
        "  train_acc.append(100*correct/processed)"
      ],
      "execution_count": null,
      "outputs": []
    },
    {
      "cell_type": "code",
      "metadata": {
        "id": "asxEJ9gSzw0w"
      },
      "source": [
        "test_losses = []\n",
        "test_acc = []\n",
        "misclassified = []\n",
        "correct_pics = []\n",
        "def test(model, device, test_loader, loss_func, last_epoch):\n",
        "    model.eval()\n",
        "    correct = 0\n",
        "    test_loss = 0                                   \n",
        "    with torch.no_grad():\n",
        "        for data, target in test_loader:\n",
        "            img_batch = data\n",
        "            data, target = data.to(device), target.to(device)  # Get samples\n",
        "            output = model(data)  # Get trained model output\n",
        "            test_loss += loss_func(output, target).item()  # Sum up batch loss\n",
        "            pred = output.argmax(dim=1, keepdim=False)  # Get the index of the max log-probability\n",
        "            result = pred.eq(target.view_as(pred))\n",
        "\n",
        "            if last_epoch:\n",
        "              for i in range(len(list(result))):\n",
        "                if not list(result)[i] and len(misclassified) < 25:\n",
        "                  misclassified.append({\n",
        "                      'prediction': list(pred)[i],\n",
        "                      'label': list(target.view_as(pred))[i],\n",
        "                      'image': img_batch[i]})\n",
        "                \n",
        "                elif list(result)[i] and len(correct_pics) < 25:\n",
        "                  correct_pics.append({\n",
        "                      'prediction': list(pred)[i],\n",
        "                      'label': list(target.view_as(pred))[i],\n",
        "                      'image': img_batch[i]\n",
        "\n",
        "                        })\n",
        "\n",
        "\n",
        "            correct += result.sum().item()\n",
        "\n",
        "            \n",
        "          \n",
        "\n",
        "    test_loss /= len(test_loader.dataset)\n",
        "    test_losses.append(test_loss)\n",
        "\n",
        "    test_acc.append(100. * correct / len(test_loader.dataset))\n",
        "    print('\\nTest set: Average loss: {:.4f}, Accuracy: {}/{} ({:.2f}%)\\n'.format(\n",
        "        test_loss, correct, len(test_loader.dataset),\n",
        "        100. * correct / len(test_loader.dataset)))\n",
        "    \n",
        "    \n",
        "\n",
        "\n",
        "def test_class_performance(model, device, test_loader, classes):\n",
        "    class_correct = list(0. for i in range(10))\n",
        "    class_total = list(0. for i in range(10))\n",
        "    with torch.no_grad():\n",
        "        pbar = tqdm(test_loader)\n",
        "        for i, (data, target) in enumerate(pbar):\n",
        "            data, target = data.to(device), target.to(device)\n",
        "            outputs = model(data)\n",
        "            _, predicted = torch.max(outputs, 1)\n",
        "            c = (predicted == target).squeeze()\n",
        "            for i in range(4):\n",
        "                label = target[i]\n",
        "                class_correct[label] += c[i].item()\n",
        "                class_total[label] += 1\n",
        "\n",
        "\n",
        "    for i in range(10):\n",
        "        print('Accuracy of %5s : %2d %%' % (classes[i], 100 * class_correct[i] / class_total[i]))"
      ],
      "execution_count": null,
      "outputs": []
    },
    {
      "cell_type": "code",
      "metadata": {
        "colab": {
          "base_uri": "https://localhost:8080/"
        },
        "id": "-03rXCNTyMfG",
        "outputId": "79dd0865-b940-4113-f0e4-501092d5c532"
      },
      "source": [
        "from torch.optim.lr_scheduler import OneCycleLR\n",
        "\n",
        "model =  Net().to(device)\n",
        "optimizer = optim.SGD(model.parameters(), lr=0.01 , momentum=0.9, weight_decay=0.005) \n",
        "#scheduler = ReduceLROnPlateau(optimizer, patience = 3,min_lr=1e-4)\n",
        "scheduler = OneCycleLR(optimizer,max_lr = 0.04006 ,total_steps=None,epochs=24,steps_per_epoch=1,pct_start=0.208,anneal_strategy=\"linear\",cycle_momentum=False,base_momentum=0.85,max_momentum=0.95,div_factor=10.0,final_div_factor=1)\n",
        "loss_func=nn.CrossEntropyLoss()\n",
        "LR = []\n",
        "for epoch in range(24):\n",
        "   \n",
        "    lr = optimizer.param_groups[0]['lr']\n",
        "    LR.append(lr)\n",
        "    print(\"Epoch:\", epoch ,\" LR: \", lr)\n",
        "    train(model, device, train_loader_Albumentation, optimizer, loss_func, epoch)\n",
        "    # scheduler.step()\n",
        "    test(model, device, test_loader, loss_func, last_epoch=True)\n",
        "   # scheduler.step(test10.test_losses[-1])\n",
        "    scheduler.step()"
      ],
      "execution_count": null,
      "outputs": [
        {
          "output_type": "stream",
          "text": [
            "\r  0%|          | 0/98 [00:00<?, ?it/s]"
          ],
          "name": "stderr"
        },
        {
          "output_type": "stream",
          "text": [
            "Epoch: 0  LR:  0.004006\n"
          ],
          "name": "stdout"
        },
        {
          "output_type": "stream",
          "text": [
            "/usr/local/lib/python3.7/dist-packages/torch/utils/data/dataloader.py:477: UserWarning: This DataLoader will create 4 worker processes in total. Our suggested max number of worker in current system is 2, which is smaller than what this DataLoader is going to create. Please be aware that excessive worker creation might get DataLoader running slow or even freeze, lower the worker number to avoid potential slowness/freeze if necessary.\n",
            "  cpuset_checked))\n",
            "Epoch= 0 Loss=1.3581033945083618 Batch_id=97 Accuracy=41.22: 100%|██████████| 98/98 [00:23<00:00,  4.18it/s]\n",
            "  0%|          | 0/98 [00:00<?, ?it/s]"
          ],
          "name": "stderr"
        },
        {
          "output_type": "stream",
          "text": [
            "\n",
            "Test set: Average loss: 0.0027, Accuracy: 5348/10000 (53.48%)\n",
            "\n",
            "Epoch: 1  LR:  0.013037563126252504\n"
          ],
          "name": "stdout"
        },
        {
          "output_type": "stream",
          "text": [
            "Epoch= 1 Loss=1.2093836069107056 Batch_id=97 Accuracy=47.44: 100%|██████████| 98/98 [00:24<00:00,  4.08it/s]\n",
            "  0%|          | 0/98 [00:00<?, ?it/s]"
          ],
          "name": "stderr"
        },
        {
          "output_type": "stream",
          "text": [
            "\n",
            "Test set: Average loss: 0.0022, Accuracy: 6152/10000 (61.52%)\n",
            "\n",
            "Epoch: 2  LR:  0.022069126252505004\n"
          ],
          "name": "stdout"
        },
        {
          "output_type": "stream",
          "text": [
            "Epoch= 2 Loss=0.8835867047309875 Batch_id=97 Accuracy=60.02: 100%|██████████| 98/98 [00:25<00:00,  3.90it/s]\n",
            "  0%|          | 0/98 [00:00<?, ?it/s]"
          ],
          "name": "stderr"
        },
        {
          "output_type": "stream",
          "text": [
            "\n",
            "Test set: Average loss: 0.0018, Accuracy: 6808/10000 (68.08%)\n",
            "\n",
            "Epoch: 3  LR:  0.03110068937875751\n"
          ],
          "name": "stdout"
        },
        {
          "output_type": "stream",
          "text": [
            "Epoch= 3 Loss=0.8788419365882874 Batch_id=97 Accuracy=66.13: 100%|██████████| 98/98 [00:26<00:00,  3.73it/s]\n",
            "  0%|          | 0/98 [00:00<?, ?it/s]"
          ],
          "name": "stderr"
        },
        {
          "output_type": "stream",
          "text": [
            "\n",
            "Test set: Average loss: 0.0020, Accuracy: 6782/10000 (67.82%)\n",
            "\n",
            "Epoch: 4  LR:  0.04004482575757576\n"
          ],
          "name": "stdout"
        },
        {
          "output_type": "stream",
          "text": [
            "Epoch= 4 Loss=0.8498335480690002 Batch_id=97 Accuracy=69.83: 100%|██████████| 98/98 [00:25<00:00,  3.80it/s]\n",
            "  0%|          | 0/98 [00:00<?, ?it/s]"
          ],
          "name": "stderr"
        },
        {
          "output_type": "stream",
          "text": [
            "\n",
            "Test set: Average loss: 0.0017, Accuracy: 7191/10000 (71.91%)\n",
            "\n",
            "Epoch: 5  LR:  0.038148045454545455\n"
          ],
          "name": "stdout"
        },
        {
          "output_type": "stream",
          "text": [
            "Epoch= 5 Loss=0.609292209148407 Batch_id=97 Accuracy=74.58: 100%|██████████| 98/98 [00:25<00:00,  3.81it/s]\n",
            "  0%|          | 0/98 [00:00<?, ?it/s]"
          ],
          "name": "stderr"
        },
        {
          "output_type": "stream",
          "text": [
            "\n",
            "Test set: Average loss: 0.0012, Accuracy: 7821/10000 (78.21%)\n",
            "\n",
            "Epoch: 6  LR:  0.03625126515151515\n"
          ],
          "name": "stdout"
        },
        {
          "output_type": "stream",
          "text": [
            "Epoch= 6 Loss=0.5747907161712646 Batch_id=97 Accuracy=77.62: 100%|██████████| 98/98 [00:26<00:00,  3.77it/s]\n",
            "  0%|          | 0/98 [00:00<?, ?it/s]"
          ],
          "name": "stderr"
        },
        {
          "output_type": "stream",
          "text": [
            "\n",
            "Test set: Average loss: 0.0011, Accuracy: 8159/10000 (81.59%)\n",
            "\n",
            "Epoch: 7  LR:  0.03435448484848485\n"
          ],
          "name": "stdout"
        },
        {
          "output_type": "stream",
          "text": [
            "Epoch= 7 Loss=0.6242859959602356 Batch_id=97 Accuracy=79.36: 100%|██████████| 98/98 [00:26<00:00,  3.76it/s]\n",
            "  0%|          | 0/98 [00:00<?, ?it/s]"
          ],
          "name": "stderr"
        },
        {
          "output_type": "stream",
          "text": [
            "\n",
            "Test set: Average loss: 0.0013, Accuracy: 7759/10000 (77.59%)\n",
            "\n",
            "Epoch: 8  LR:  0.032457704545454547\n"
          ],
          "name": "stdout"
        },
        {
          "output_type": "stream",
          "text": [
            "Epoch= 8 Loss=0.5662239193916321 Batch_id=97 Accuracy=81.15: 100%|██████████| 98/98 [00:26<00:00,  3.77it/s]\n",
            "  0%|          | 0/98 [00:00<?, ?it/s]"
          ],
          "name": "stderr"
        },
        {
          "output_type": "stream",
          "text": [
            "\n",
            "Test set: Average loss: 0.0010, Accuracy: 8345/10000 (83.45%)\n",
            "\n",
            "Epoch: 9  LR:  0.030560924242424244\n"
          ],
          "name": "stdout"
        },
        {
          "output_type": "stream",
          "text": [
            "Epoch= 9 Loss=0.4610883593559265 Batch_id=97 Accuracy=82.60: 100%|██████████| 98/98 [00:26<00:00,  3.77it/s]\n",
            "  0%|          | 0/98 [00:00<?, ?it/s]"
          ],
          "name": "stderr"
        },
        {
          "output_type": "stream",
          "text": [
            "\n",
            "Test set: Average loss: 0.0010, Accuracy: 8304/10000 (83.04%)\n",
            "\n",
            "Epoch: 10  LR:  0.02866414393939394\n"
          ],
          "name": "stdout"
        },
        {
          "output_type": "stream",
          "text": [
            "Epoch= 10 Loss=0.49857133626937866 Batch_id=97 Accuracy=83.50: 100%|██████████| 98/98 [00:26<00:00,  3.77it/s]\n",
            "  0%|          | 0/98 [00:00<?, ?it/s]"
          ],
          "name": "stderr"
        },
        {
          "output_type": "stream",
          "text": [
            "\n",
            "Test set: Average loss: 0.0008, Accuracy: 8582/10000 (85.82%)\n",
            "\n",
            "Epoch: 11  LR:  0.026767363636363634\n"
          ],
          "name": "stdout"
        },
        {
          "output_type": "stream",
          "text": [
            "Epoch= 11 Loss=0.41805389523506165 Batch_id=97 Accuracy=84.49: 100%|██████████| 98/98 [00:26<00:00,  3.75it/s]\n",
            "  0%|          | 0/98 [00:00<?, ?it/s]"
          ],
          "name": "stderr"
        },
        {
          "output_type": "stream",
          "text": [
            "\n",
            "Test set: Average loss: 0.0008, Accuracy: 8616/10000 (86.16%)\n",
            "\n",
            "Epoch: 12  LR:  0.024870583333333335\n"
          ],
          "name": "stdout"
        },
        {
          "output_type": "stream",
          "text": [
            "Epoch= 12 Loss=0.47084781527519226 Batch_id=97 Accuracy=85.25: 100%|██████████| 98/98 [00:25<00:00,  3.79it/s]\n",
            "  0%|          | 0/98 [00:00<?, ?it/s]"
          ],
          "name": "stderr"
        },
        {
          "output_type": "stream",
          "text": [
            "\n",
            "Test set: Average loss: 0.0009, Accuracy: 8565/10000 (85.65%)\n",
            "\n",
            "Epoch: 13  LR:  0.022973803030303032\n"
          ],
          "name": "stdout"
        },
        {
          "output_type": "stream",
          "text": [
            "Epoch= 13 Loss=0.4188336431980133 Batch_id=97 Accuracy=86.00: 100%|██████████| 98/98 [00:25<00:00,  3.78it/s]\n",
            "  0%|          | 0/98 [00:00<?, ?it/s]"
          ],
          "name": "stderr"
        },
        {
          "output_type": "stream",
          "text": [
            "\n",
            "Test set: Average loss: 0.0009, Accuracy: 8491/10000 (84.91%)\n",
            "\n",
            "Epoch: 14  LR:  0.02107702272727273\n"
          ],
          "name": "stdout"
        },
        {
          "output_type": "stream",
          "text": [
            "Epoch= 14 Loss=0.34866780042648315 Batch_id=97 Accuracy=86.97: 100%|██████████| 98/98 [00:26<00:00,  3.76it/s]\n",
            "  0%|          | 0/98 [00:00<?, ?it/s]"
          ],
          "name": "stderr"
        },
        {
          "output_type": "stream",
          "text": [
            "\n",
            "Test set: Average loss: 0.0010, Accuracy: 8293/10000 (82.93%)\n",
            "\n",
            "Epoch: 15  LR:  0.019180242424242423\n"
          ],
          "name": "stdout"
        },
        {
          "output_type": "stream",
          "text": [
            "Epoch= 15 Loss=0.3803008496761322 Batch_id=97 Accuracy=87.53: 100%|██████████| 98/98 [00:25<00:00,  3.77it/s]\n",
            "  0%|          | 0/98 [00:00<?, ?it/s]"
          ],
          "name": "stderr"
        },
        {
          "output_type": "stream",
          "text": [
            "\n",
            "Test set: Average loss: 0.0009, Accuracy: 8554/10000 (85.54%)\n",
            "\n",
            "Epoch: 16  LR:  0.017283462121212123\n"
          ],
          "name": "stdout"
        },
        {
          "output_type": "stream",
          "text": [
            "Epoch= 16 Loss=0.3101869225502014 Batch_id=97 Accuracy=87.83: 100%|██████████| 98/98 [00:26<00:00,  3.76it/s]\n",
            "  0%|          | 0/98 [00:00<?, ?it/s]"
          ],
          "name": "stderr"
        },
        {
          "output_type": "stream",
          "text": [
            "\n",
            "Test set: Average loss: 0.0007, Accuracy: 8785/10000 (87.85%)\n",
            "\n",
            "Epoch: 17  LR:  0.01538668181818182\n"
          ],
          "name": "stdout"
        },
        {
          "output_type": "stream",
          "text": [
            "Epoch= 17 Loss=0.36562591791152954 Batch_id=97 Accuracy=88.94: 100%|██████████| 98/98 [00:26<00:00,  3.76it/s]\n",
            "  0%|          | 0/98 [00:00<?, ?it/s]"
          ],
          "name": "stderr"
        },
        {
          "output_type": "stream",
          "text": [
            "\n",
            "Test set: Average loss: 0.0008, Accuracy: 8658/10000 (86.58%)\n",
            "\n",
            "Epoch: 18  LR:  0.013489901515151517\n"
          ],
          "name": "stdout"
        },
        {
          "output_type": "stream",
          "text": [
            "Epoch= 18 Loss=0.28751668334007263 Batch_id=97 Accuracy=89.45: 100%|██████████| 98/98 [00:26<00:00,  3.76it/s]\n",
            "  0%|          | 0/98 [00:00<?, ?it/s]"
          ],
          "name": "stderr"
        },
        {
          "output_type": "stream",
          "text": [
            "\n",
            "Test set: Average loss: 0.0006, Accuracy: 8925/10000 (89.25%)\n",
            "\n",
            "Epoch: 19  LR:  0.011593121212121214\n"
          ],
          "name": "stdout"
        },
        {
          "output_type": "stream",
          "text": [
            "Epoch= 19 Loss=0.3433779180049896 Batch_id=97 Accuracy=90.26: 100%|██████████| 98/98 [00:26<00:00,  3.76it/s]\n",
            "  0%|          | 0/98 [00:00<?, ?it/s]"
          ],
          "name": "stderr"
        },
        {
          "output_type": "stream",
          "text": [
            "\n",
            "Test set: Average loss: 0.0006, Accuracy: 9003/10000 (90.03%)\n",
            "\n",
            "Epoch: 20  LR:  0.009696340909090911\n"
          ],
          "name": "stdout"
        },
        {
          "output_type": "stream",
          "text": [
            "Epoch= 20 Loss=0.2631487548351288 Batch_id=97 Accuracy=91.03: 100%|██████████| 98/98 [00:25<00:00,  3.77it/s]\n",
            "  0%|          | 0/98 [00:00<?, ?it/s]"
          ],
          "name": "stderr"
        },
        {
          "output_type": "stream",
          "text": [
            "\n",
            "Test set: Average loss: 0.0006, Accuracy: 8962/10000 (89.62%)\n",
            "\n",
            "Epoch: 21  LR:  0.0077995606060606085\n"
          ],
          "name": "stdout"
        },
        {
          "output_type": "stream",
          "text": [
            "Epoch= 21 Loss=0.291852742433548 Batch_id=97 Accuracy=91.89: 100%|██████████| 98/98 [00:26<00:00,  3.76it/s]\n",
            "  0%|          | 0/98 [00:00<?, ?it/s]"
          ],
          "name": "stderr"
        },
        {
          "output_type": "stream",
          "text": [
            "\n",
            "Test set: Average loss: 0.0006, Accuracy: 9021/10000 (90.21%)\n",
            "\n",
            "Epoch: 22  LR:  0.0059027803030303055\n"
          ],
          "name": "stdout"
        },
        {
          "output_type": "stream",
          "text": [
            "Epoch= 22 Loss=0.23807764053344727 Batch_id=97 Accuracy=92.73: 100%|██████████| 98/98 [00:26<00:00,  3.77it/s]\n",
            "  0%|          | 0/98 [00:00<?, ?it/s]"
          ],
          "name": "stderr"
        },
        {
          "output_type": "stream",
          "text": [
            "\n",
            "Test set: Average loss: 0.0005, Accuracy: 9205/10000 (92.05%)\n",
            "\n",
            "Epoch: 23  LR:  0.004006000000000003\n"
          ],
          "name": "stdout"
        },
        {
          "output_type": "stream",
          "text": [
            "Epoch= 23 Loss=0.17388902604579926 Batch_id=97 Accuracy=93.83: 100%|██████████| 98/98 [00:25<00:00,  3.79it/s]\n"
          ],
          "name": "stderr"
        },
        {
          "output_type": "stream",
          "text": [
            "\n",
            "Test set: Average loss: 0.0004, Accuracy: 9246/10000 (92.46%)\n",
            "\n"
          ],
          "name": "stdout"
        }
      ]
    },
    {
      "cell_type": "code",
      "metadata": {
        "colab": {
          "base_uri": "https://localhost:8080/",
          "height": 295
        },
        "id": "ZRvO5MHEyMcR",
        "outputId": "e601bf4c-85b1-4e55-af6b-c8c188091587"
      },
      "source": [
        "plt.plot(LR)\n",
        "plt.ylabel('Learning rate')\n",
        "plt.xlabel(\"epoch\")\n",
        "plt.title(\"Lr v/s epochs\")\n",
        "plt.show()"
      ],
      "execution_count": null,
      "outputs": [
        {
          "output_type": "display_data",
          "data": {
            "image/png": "[encoded data removed]",
            "text/plain": [
              "<Figure size 432x288 with 1 Axes>"
            ]
          },
          "metadata": {
            "tags": [],
            "needs_background": "light"
          }
        }
      ]
    },
    {
      "cell_type": "code",
      "metadata": {
        "colab": {
          "base_uri": "https://localhost:8080/"
        },
        "id": "7sWSXTnMyMZa",
        "outputId": "8dc1c2af-ef08-46d9-c1ed-e09de2f15fe8"
      },
      "source": [
        "from tqdm import tqdm\n",
        "\n",
        "class_correct = list(0. for i in range(10))\n",
        "class_total = list(0. for i in range(10))\n",
        "with torch.no_grad():\n",
        "  pbar = tqdm(test_loader)\n",
        "  for i, (data, target) in enumerate(pbar):\n",
        "    data, target = data.to(device), target.to(device)\n",
        "    outputs = model(data)\n",
        "    _, predicted = torch.max(outputs, 1)\n",
        "    c = (predicted == target).squeeze()\n",
        "    for i in range(4):\n",
        "        label = target[i]\n",
        "        class_correct[label] += c[i].item()\n",
        "        class_total[label] += 1\n",
        "for i in range(10):\n",
        "  print('Accuracy of %5s : %2d %%' % (labels[i], 100 * class_correct[i] / class_total[i]))"
      ],
      "execution_count": null,
      "outputs": [
        {
          "output_type": "stream",
          "text": [
            "\r  0%|          | 0/20 [00:00<?, ?it/s]/usr/local/lib/python3.7/dist-packages/torch/utils/data/dataloader.py:477: UserWarning: This DataLoader will create 4 worker processes in total. Our suggested max number of worker in current system is 2, which is smaller than what this DataLoader is going to create. Please be aware that excessive worker creation might get DataLoader running slow or even freeze, lower the worker number to avoid potential slowness/freeze if necessary.\n",
            "  cpuset_checked))\n",
            "100%|██████████| 20/20 [00:02<00:00,  9.14it/s]"
          ],
          "name": "stderr"
        },
        {
          "output_type": "stream",
          "text": [
            "Accuracy of plane : 100 %\n",
            "Accuracy of   car : 100 %\n",
            "Accuracy of  bird : 75 %\n",
            "Accuracy of   cat : 60 %\n",
            "Accuracy of  deer : 100 %\n",
            "Accuracy of   dog : 83 %\n",
            "Accuracy of  frog : 100 %\n",
            "Accuracy of horse : 100 %\n",
            "Accuracy of  ship : 100 %\n",
            "Accuracy of truck : 88 %\n"
          ],
          "name": "stdout"
        },
        {
          "output_type": "stream",
          "text": [
            "\n"
          ],
          "name": "stderr"
        }
      ]
    },
    {
      "cell_type": "code",
      "metadata": {
        "colab": {
          "base_uri": "https://localhost:8080/",
          "height": 567
        },
        "id": "GsxjJK4nyMWs",
        "outputId": "2b83a503-271e-436e-e463-23972cbc0131"
      },
      "source": [
        "fig, axs = plt.subplots(1,1,figsize=(12,9))\n",
        "plt.plot(train_acc)\n",
        "plt.plot(test_acc)\n",
        "\n",
        "plt.title('test & train Accuracy')\n",
        "plt.ylabel('Accuracy')\n",
        "plt.xlabel('epoch')\n",
        "plt.legend([\" train accuracy \", ' test accuracy '], loc='best')\n",
        "plt.show()"
      ],
      "execution_count": null,
      "outputs": [
        {
          "output_type": "display_data",
          "data": {
            "image/png": "[encoded data removed]",
            "text/plain": [
              "<Figure size 864x648 with 1 Axes>"
            ]
          },
          "metadata": {
            "tags": [],
            "needs_background": "light"
          }
        }
      ]
    },
    {
      "cell_type": "code",
      "metadata": {
        "id": "clKgfuBTyMTa"
      },
      "source": [
        ""
      ],
      "execution_count": null,
      "outputs": []
    },
    {
      "cell_type": "code",
      "metadata": {
        "id": "_dQVEBMVyMKb"
      },
      "source": [
        ""
      ],
      "execution_count": null,
      "outputs": []
    },
    {
      "cell_type": "code",
      "metadata": {
        "id": "drgkTjN7blUF"
      },
      "source": [
        ""
      ],
      "execution_count": null,
      "outputs": []
    },
    {
      "cell_type": "code",
      "metadata": {
        "id": "JyG5eP_7blRi"
      },
      "source": [
        ""
      ],
      "execution_count": null,
      "outputs": []
    },
    {
      "cell_type": "code",
      "metadata": {
        "id": "raMma6zZblOv"
      },
      "source": [
        ""
      ],
      "execution_count": null,
      "outputs": []
    }
  ]
}