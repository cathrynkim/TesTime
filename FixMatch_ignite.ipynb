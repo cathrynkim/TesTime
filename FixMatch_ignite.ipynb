{
  "nbformat": 4,
  "nbformat_minor": 0,
  "metadata": {
    "colab": {
      "name": "FixMatch-ignite.ipynb",
      "provenance": [],
      "collapsed_sections": [],
      "include_colab_link": true
    },
    "kernelspec": {
      "name": "python3",
      "display_name": "Python 3"
    },
    "accelerator": "TPU",
    "widgets": {
      "application/vnd.jupyter.widget-state+json": {
        "24cef70fa6b84f6784839adbb8aef5d8": {
          "model_module": "@jupyter-widgets/controls",
          "model_name": "HBoxModel",
          "state": {
            "_view_name": "HBoxView",
            "_dom_classes": [],
            "_model_name": "HBoxModel",
            "_view_module": "@jupyter-widgets/controls",
            "_model_module_version": "1.5.0",
            "_view_count": null,
            "_view_module_version": "1.5.0",
            "box_style": "",
            "layout": "IPY_MODEL_134faa03c31a4fa08be121a34540f8d8",
            "_model_module": "@jupyter-widgets/controls",
            "children": [
              "IPY_MODEL_1b161dfb8ded4df899593cdefbf160cf",
              "IPY_MODEL_b2792ce0eb9647f69fe6e742a160c35c"
            ]
          }
        },
        "134faa03c31a4fa08be121a34540f8d8": {
          "model_module": "@jupyter-widgets/base",
          "model_name": "LayoutModel",
          "state": {
            "_view_name": "LayoutView",
            "grid_template_rows": null,
            "right": null,
            "justify_content": null,
            "_view_module": "@jupyter-widgets/base",
            "overflow": null,
            "_model_module_version": "1.2.0",
            "_view_count": null,
            "flex_flow": null,
            "width": null,
            "min_width": null,
            "border": null,
            "align_items": null,
            "bottom": null,
            "_model_module": "@jupyter-widgets/base",
            "top": null,
            "grid_column": null,
            "overflow_y": null,
            "overflow_x": null,
            "grid_auto_flow": null,
            "grid_area": null,
            "grid_template_columns": null,
            "flex": null,
            "_model_name": "LayoutModel",
            "justify_items": null,
            "grid_row": null,
            "max_height": null,
            "align_content": null,
            "visibility": null,
            "align_self": null,
            "height": null,
            "min_height": null,
            "padding": null,
            "grid_auto_rows": null,
            "grid_gap": null,
            "max_width": null,
            "order": null,
            "_view_module_version": "1.2.0",
            "grid_template_areas": null,
            "object_position": null,
            "object_fit": null,
            "grid_auto_columns": null,
            "margin": null,
            "display": null,
            "left": null
          }
        },
        "1b161dfb8ded4df899593cdefbf160cf": {
          "model_module": "@jupyter-widgets/controls",
          "model_name": "FloatProgressModel",
          "state": {
            "_view_name": "ProgressView",
            "style": "IPY_MODEL_5057fc1b4f924087b81f20472e11a8c4",
            "_dom_classes": [],
            "description": "",
            "_model_name": "FloatProgressModel",
            "bar_style": "info",
            "max": 1,
            "_view_module": "@jupyter-widgets/controls",
            "_model_module_version": "1.5.0",
            "value": 1,
            "_view_count": null,
            "_view_module_version": "1.5.0",
            "orientation": "horizontal",
            "min": 0,
            "description_tooltip": null,
            "_model_module": "@jupyter-widgets/controls",
            "layout": "IPY_MODEL_8898be8729814501b6dcb3d3e48eea12"
          }
        },
        "b2792ce0eb9647f69fe6e742a160c35c": {
          "model_module": "@jupyter-widgets/controls",
          "model_name": "HTMLModel",
          "state": {
            "_view_name": "HTMLView",
            "style": "IPY_MODEL_b90101ebd5f3477eb3feac18cf9b8c8a",
            "_dom_classes": [],
            "description": "",
            "_model_name": "HTMLModel",
            "placeholder": "​",
            "_view_module": "@jupyter-widgets/controls",
            "_model_module_version": "1.5.0",
            "value": " 170500096/? [00:20&lt;00:00, 91832483.76it/s]",
            "_view_count": null,
            "_view_module_version": "1.5.0",
            "description_tooltip": null,
            "_model_module": "@jupyter-widgets/controls",
            "layout": "IPY_MODEL_337b210219fe418ab49af8cbacb92fd7"
          }
        },
        "5057fc1b4f924087b81f20472e11a8c4": {
          "model_module": "@jupyter-widgets/controls",
          "model_name": "ProgressStyleModel",
          "state": {
            "_view_name": "StyleView",
            "_model_name": "ProgressStyleModel",
            "description_width": "initial",
            "_view_module": "@jupyter-widgets/base",
            "_model_module_version": "1.5.0",
            "_view_count": null,
            "_view_module_version": "1.2.0",
            "bar_color": null,
            "_model_module": "@jupyter-widgets/controls"
          }
        },
        "8898be8729814501b6dcb3d3e48eea12": {
          "model_module": "@jupyter-widgets/base",
          "model_name": "LayoutModel",
          "state": {
            "_view_name": "LayoutView",
            "grid_template_rows": null,
            "right": null,
            "justify_content": null,
            "_view_module": "@jupyter-widgets/base",
            "overflow": null,
            "_model_module_version": "1.2.0",
            "_view_count": null,
            "flex_flow": null,
            "width": null,
            "min_width": null,
            "border": null,
            "align_items": null,
            "bottom": null,
            "_model_module": "@jupyter-widgets/base",
            "top": null,
            "grid_column": null,
            "overflow_y": null,
            "overflow_x": null,
            "grid_auto_flow": null,
            "grid_area": null,
            "grid_template_columns": null,
            "flex": null,
            "_model_name": "LayoutModel",
            "justify_items": null,
            "grid_row": null,
            "max_height": null,
            "align_content": null,
            "visibility": null,
            "align_self": null,
            "height": null,
            "min_height": null,
            "padding": null,
            "grid_auto_rows": null,
            "grid_gap": null,
            "max_width": null,
            "order": null,
            "_view_module_version": "1.2.0",
            "grid_template_areas": null,
            "object_position": null,
            "object_fit": null,
            "grid_auto_columns": null,
            "margin": null,
            "display": null,
            "left": null
          }
        },
        "b90101ebd5f3477eb3feac18cf9b8c8a": {
          "model_module": "@jupyter-widgets/controls",
          "model_name": "DescriptionStyleModel",
          "state": {
            "_view_name": "StyleView",
            "_model_name": "DescriptionStyleModel",
            "description_width": "",
            "_view_module": "@jupyter-widgets/base",
            "_model_module_version": "1.5.0",
            "_view_count": null,
            "_view_module_version": "1.2.0",
            "_model_module": "@jupyter-widgets/controls"
          }
        },
        "337b210219fe418ab49af8cbacb92fd7": {
          "model_module": "@jupyter-widgets/base",
          "model_name": "LayoutModel",
          "state": {
            "_view_name": "LayoutView",
            "grid_template_rows": null,
            "right": null,
            "justify_content": null,
            "_view_module": "@jupyter-widgets/base",
            "overflow": null,
            "_model_module_version": "1.2.0",
            "_view_count": null,
            "flex_flow": null,
            "width": null,
            "min_width": null,
            "border": null,
            "align_items": null,
            "bottom": null,
            "_model_module": "@jupyter-widgets/base",
            "top": null,
            "grid_column": null,
            "overflow_y": null,
            "overflow_x": null,
            "grid_auto_flow": null,
            "grid_area": null,
            "grid_template_columns": null,
            "flex": null,
            "_model_name": "LayoutModel",
            "justify_items": null,
            "grid_row": null,
            "max_height": null,
            "align_content": null,
            "visibility": null,
            "align_self": null,
            "height": null,
            "min_height": null,
            "padding": null,
            "grid_auto_rows": null,
            "grid_gap": null,
            "max_width": null,
            "order": null,
            "_view_module_version": "1.2.0",
            "grid_template_areas": null,
            "object_position": null,
            "object_fit": null,
            "grid_auto_columns": null,
            "margin": null,
            "display": null,
            "left": null
          }
        }
      }
    }
  },
  "cells": [
    {
      "cell_type": "markdown",
      "metadata": {
        "id": "view-in-github",
        "colab_type": "text"
      },
      "source": [
        "<a href=\"https://colab.research.google.com/github/secutron/TesTime/blob/main/FixMatch_ignite.ipynb\" target=\"_parent\"><img src=\"https://colab.research.google.com/assets/colab-badge.svg\" alt=\"Open In Colab\"/></a>"
      ]
    },
    {
      "cell_type": "markdown",
      "metadata": {
        "id": "djEc5_w9Clbu"
      },
      "source": [
        "### Install requirements:"
      ]
    },
    {
      "cell_type": "code",
      "metadata": {
        "id": "gifW7MX3eSaf",
        "colab": {
          "base_uri": "https://localhost:8080/",
          "height": 1000
        },
        "outputId": "ab7d1c94-277c-4c0a-c2cd-c14002d88445"
      },
      "source": [
        "import os\n",
        "assert os.environ['COLAB_TPU_ADDR'], 'Make sure to select TPU from Edit > Notebook settings > Hardware accelerator'\n",
        "\n",
        "\n",
        "try:\n",
        "  import torch_xla\n",
        "  import ignite\n",
        "except ImportError:\n",
        "  # VERSION = \"nightly\"\n",
        "  VERSION = \"20200607\"\n",
        "  # VERSION = \"2020060f\"\n",
        "\n",
        "  !pip install gsutil\n",
        "\n",
        "  !curl https://raw.githubusercontent.com/pytorch/xla/master/contrib/scripts/env-setup.py -o pytorch-xla-env-setup.py\n",
        "  !python pytorch-xla-env-setup.py --version $VERSION\n",
        "  !pip install --upgrade git+https://github.com/pytorch/ignite\n",
        "  !pip install --upgrade --pre hydra-core\n",
        "  !pip install wandb\n",
        "  !pip uninstall -y pillow && CC=\"cc -mavx2\" pip install --no-cache-dir --force-reinstall pillow-simd\n"
      ],
      "execution_count": 1,
      "outputs": [
        {
          "output_type": "stream",
          "text": [
            "Collecting gsutil\n",
            "\u001b[?25l  Downloading https://files.pythonhosted.org/packages/6a/fc/b0200efe90fa46eddf65df967ffe9bdfd2d42fc7777c88f2a8b50cd67361/gsutil-4.63.tar.gz (2.9MB)\n",
            "\u001b[K     |████████████████████████████████| 2.9MB 7.0MB/s \n",
            "\u001b[?25hCollecting argcomplete>=1.9.4\n",
            "  Downloading https://files.pythonhosted.org/packages/b7/9e/9dc74d330c07866d72f62d553fe8bdbe32786ff247a14e68b5659963e6bd/argcomplete-1.12.3-py2.py3-none-any.whl\n",
            "Requirement already satisfied: crcmod>=1.7 in /usr/local/lib/python3.7/dist-packages (from gsutil) (1.7)\n",
            "Collecting fasteners>=0.14.1\n",
            "  Downloading https://files.pythonhosted.org/packages/31/91/6630ebd169ca170634ca8a10dfcc5f5c11b0621672d4c2c9e40381c6d81a/fasteners-0.16.3-py2.py3-none-any.whl\n",
            "Collecting gcs-oauth2-boto-plugin>=2.7\n",
            "  Downloading https://files.pythonhosted.org/packages/f7/ab/3cc16742de84b76aa328c4b9e09fbf88447027827c12fb3913c5907be23b/gcs-oauth2-boto-plugin-2.7.tar.gz\n",
            "Collecting google-apitools>=0.5.32\n",
            "\u001b[?25l  Downloading https://files.pythonhosted.org/packages/5e/cb/cb0311f2ec371c83d6510847476c665edc9cc97564a51923557bc8f0b680/google_apitools-0.5.32-py3-none-any.whl (135kB)\n",
            "\u001b[K     |████████████████████████████████| 143kB 30.8MB/s \n",
            "\u001b[?25hCollecting httplib2>=0.18\n",
            "\u001b[?25l  Downloading https://files.pythonhosted.org/packages/15/dc/d14bce03f4bfd0214b90a3f556d7c96f75bb94ad597c816a641b962f22e9/httplib2-0.19.1-py3-none-any.whl (95kB)\n",
            "\u001b[K     |████████████████████████████████| 102kB 8.8MB/s \n",
            "\u001b[?25hCollecting google-reauth>=0.1.0\n",
            "  Downloading https://files.pythonhosted.org/packages/69/e1/67ffaa3a645b86318ce30717af7145070ebccec5eef5c623ae08b86129b8/google_reauth-0.1.1-py2.py3-none-any.whl\n",
            "Collecting mock==2.0.0\n",
            "\u001b[?25l  Downloading https://files.pythonhosted.org/packages/e6/35/f187bdf23be87092bd0f1200d43d23076cee4d0dec109f195173fd3ebc79/mock-2.0.0-py2.py3-none-any.whl (56kB)\n",
            "\u001b[K     |████████████████████████████████| 61kB 6.4MB/s \n",
            "\u001b[?25hCollecting monotonic>=1.4\n",
            "  Downloading https://files.pythonhosted.org/packages/9a/67/7e8406a29b6c45be7af7740456f7f37025f0506ae2e05fb9009a53946860/monotonic-1.6-py2.py3-none-any.whl\n",
            "Collecting pyOpenSSL>=0.13\n",
            "\u001b[?25l  Downloading https://files.pythonhosted.org/packages/b2/5e/06351ede29fd4899782ad335c2e02f1f862a887c20a3541f17c3fa1a3525/pyOpenSSL-20.0.1-py2.py3-none-any.whl (54kB)\n",
            "\u001b[K     |████████████████████████████████| 61kB 7.1MB/s \n",
            "\u001b[?25hCollecting retry_decorator>=1.0.0\n",
            "  Downloading https://files.pythonhosted.org/packages/6e/e6/bedc75b264cbcbf6e6d0e5071d96d739f540fc09be31744a7a8824c02a8e/retry_decorator-1.1.1.tar.gz\n",
            "Requirement already satisfied: six>=1.12.0 in /usr/local/lib/python3.7/dist-packages (from gsutil) (1.15.0)\n",
            "Requirement already satisfied: importlib-metadata<5,>=0.23; python_version == \"3.7\" in /usr/local/lib/python3.7/dist-packages (from argcomplete>=1.9.4->gsutil) (4.5.0)\n",
            "Collecting boto>=2.29.1\n",
            "\u001b[?25l  Downloading https://files.pythonhosted.org/packages/23/10/c0b78c27298029e4454a472a1919bde20cb182dab1662cec7f2ca1dcc523/boto-2.49.0-py2.py3-none-any.whl (1.4MB)\n",
            "\u001b[K     |████████████████████████████████| 1.4MB 37.0MB/s \n",
            "\u001b[?25hRequirement already satisfied: oauth2client>=2.2.0 in /usr/local/lib/python3.7/dist-packages (from gcs-oauth2-boto-plugin>=2.7->gsutil) (4.1.3)\n",
            "Requirement already satisfied: pyparsing<3,>=2.4.2 in /usr/local/lib/python3.7/dist-packages (from httplib2>=0.18->gsutil) (2.4.7)\n",
            "Collecting pyu2f\n",
            "  Downloading https://files.pythonhosted.org/packages/29/b5/c1209e6cb77647bc2c9a6a1a953355720f34f3b006b725e303c70f3c0786/pyu2f-0.1.5.tar.gz\n",
            "Collecting pbr>=0.11\n",
            "\u001b[?25l  Downloading https://files.pythonhosted.org/packages/18/e0/1d4702dd81121d04a477c272d47ee5b6bc970d1a0990b11befa275c55cf2/pbr-5.6.0-py2.py3-none-any.whl (111kB)\n",
            "\u001b[K     |████████████████████████████████| 112kB 38.9MB/s \n",
            "\u001b[?25hCollecting cryptography>=3.2\n",
            "\u001b[?25l  Downloading https://files.pythonhosted.org/packages/b2/26/7af637e6a7e87258b963f1731c5982fb31cd507f0d90d91836e446955d02/cryptography-3.4.7-cp36-abi3-manylinux2014_x86_64.whl (3.2MB)\n",
            "\u001b[K     |████████████████████████████████| 3.2MB 38.8MB/s \n",
            "\u001b[?25hRequirement already satisfied: zipp>=0.5 in /usr/local/lib/python3.7/dist-packages (from importlib-metadata<5,>=0.23; python_version == \"3.7\"->argcomplete>=1.9.4->gsutil) (3.4.1)\n",
            "Requirement already satisfied: typing-extensions>=3.6.4; python_version < \"3.8\" in /usr/local/lib/python3.7/dist-packages (from importlib-metadata<5,>=0.23; python_version == \"3.7\"->argcomplete>=1.9.4->gsutil) (3.7.4.3)\n",
            "Requirement already satisfied: pyasn1>=0.1.7 in /usr/local/lib/python3.7/dist-packages (from oauth2client>=2.2.0->gcs-oauth2-boto-plugin>=2.7->gsutil) (0.4.8)\n",
            "Requirement already satisfied: rsa>=3.1.4 in /usr/local/lib/python3.7/dist-packages (from oauth2client>=2.2.0->gcs-oauth2-boto-plugin>=2.7->gsutil) (4.7.2)\n",
            "Requirement already satisfied: pyasn1-modules>=0.0.5 in /usr/local/lib/python3.7/dist-packages (from oauth2client>=2.2.0->gcs-oauth2-boto-plugin>=2.7->gsutil) (0.2.8)\n",
            "Requirement already satisfied: cffi>=1.12 in /usr/local/lib/python3.7/dist-packages (from cryptography>=3.2->pyOpenSSL>=0.13->gsutil) (1.14.5)\n",
            "Requirement already satisfied: pycparser in /usr/local/lib/python3.7/dist-packages (from cffi>=1.12->cryptography>=3.2->pyOpenSSL>=0.13->gsutil) (2.20)\n",
            "Building wheels for collected packages: gsutil, gcs-oauth2-boto-plugin, retry-decorator, pyu2f\n",
            "  Building wheel for gsutil (setup.py) ... \u001b[?25l\u001b[?25hdone\n",
            "  Created wheel for gsutil: filename=gsutil-4.63-cp37-none-any.whl size=3693670 sha256=6d423f2a4d87a2f098ecde36ab84205828e6617347f53cc62f3cce4b78cc70b0\n",
            "  Stored in directory: /root/.cache/pip/wheels/0d/a1/dc/7da3f9e06320dbfe7989f9d036bd396eff3dbf25eb67cf0e30\n",
            "  Building wheel for gcs-oauth2-boto-plugin (setup.py) ... \u001b[?25l\u001b[?25hdone\n",
            "  Created wheel for gcs-oauth2-boto-plugin: filename=gcs_oauth2_boto_plugin-2.7-cp37-none-any.whl size=23218 sha256=69b0f2ff216038a112c477e2cd2282e1a6d1e157e127602cc3d1613404c02f11\n",
            "  Stored in directory: /root/.cache/pip/wheels/2e/6b/7c/bd86832ceb17e0ae3d362c44f461832452eeaacddfcf9128ee\n",
            "  Building wheel for retry-decorator (setup.py) ... \u001b[?25l\u001b[?25hdone\n",
            "  Created wheel for retry-decorator: filename=retry_decorator-1.1.1-py2.py3-none-any.whl size=3658 sha256=87b8d4ffcbe83d7da60720d284268e1304f3e7f7fcaaa0bb596b2ea04e37ed52\n",
            "  Stored in directory: /root/.cache/pip/wheels/a1/70/30/4af820545aa19a0d96f969ef5ecebbb9743fd89cf00db43273\n",
            "  Building wheel for pyu2f (setup.py) ... \u001b[?25l\u001b[?25hdone\n",
            "  Created wheel for pyu2f: filename=pyu2f-0.1.5-cp37-none-any.whl size=39404 sha256=9fcf4883ed79375cd01df8ad333b9693452567a8bcccf41cbbabfbeca3e124c0\n",
            "  Stored in directory: /root/.cache/pip/wheels/b9/74/4d/2a07cf37327596c99f570ebe983a9843cda0278ca36a27ad9d\n",
            "Successfully built gsutil gcs-oauth2-boto-plugin retry-decorator pyu2f\n",
            "Installing collected packages: argcomplete, fasteners, boto, pyu2f, google-reauth, httplib2, cryptography, pyOpenSSL, retry-decorator, gcs-oauth2-boto-plugin, google-apitools, pbr, mock, monotonic, gsutil\n",
            "  Found existing installation: httplib2 0.17.4\n",
            "    Uninstalling httplib2-0.17.4:\n",
            "      Successfully uninstalled httplib2-0.17.4\n",
            "Successfully installed argcomplete-1.12.3 boto-2.49.0 cryptography-3.4.7 fasteners-0.16.3 gcs-oauth2-boto-plugin-2.7 google-apitools-0.5.32 google-reauth-0.1.1 gsutil-4.63 httplib2-0.19.1 mock-2.0.0 monotonic-1.6 pbr-5.6.0 pyOpenSSL-20.0.1 pyu2f-0.1.5 retry-decorator-1.1.1\n",
            "  % Total    % Received % Xferd  Average Speed   Time    Time     Time  Current\n",
            "                                 Dload  Upload   Total   Spent    Left  Speed\n",
            "100  5116  100  5116    0     0  46509      0 --:--:-- --:--:-- --:--:-- 46509\n",
            "Updating... This may take around 2 minutes.\n",
            "Updating TPU runtime to pytorch-dev20200607 ...\n",
            "Collecting cloud-tpu-client\n",
            "  Downloading https://files.pythonhosted.org/packages/56/9f/7b1958c2886db06feb5de5b2c191096f9e619914b6c31fdf93999fdbbd8b/cloud_tpu_client-0.10-py3-none-any.whl\n",
            "Collecting google-api-python-client==1.8.0\n",
            "\u001b[?25l  Downloading https://files.pythonhosted.org/packages/9a/b4/a955f393b838bc47cbb6ae4643b9d0f90333d3b4db4dc1e819f36aad18cc/google_api_python_client-1.8.0-py3-none-any.whl (57kB)\n",
            "\u001b[K     |████████████████████████████████| 61kB 3.4MB/s \n",
            "\u001b[?25hRequirement already satisfied: oauth2client in /usr/local/lib/python3.7/dist-packages (from cloud-tpu-client) (4.1.3)\n",
            "Requirement already satisfied: google-auth-httplib2>=0.0.3 in /usr/local/lib/python3.7/dist-packages (from google-api-python-client==1.8.0->cloud-tpu-client) (0.0.4)\n",
            "Requirement already satisfied: httplib2<1dev,>=0.9.2 in /usr/local/lib/python3.7/dist-packages (from google-api-python-client==1.8.0->cloud-tpu-client) (0.19.1)\n",
            "Requirement already satisfied: google-api-core<2dev,>=1.13.0 in /usr/local/lib/python3.7/dist-packages (from google-api-python-client==1.8.0->cloud-tpu-client) (1.26.3)\n",
            "Requirement already satisfied: six<2dev,>=1.6.1 in /usr/local/lib/python3.7/dist-packages (from google-api-python-client==1.8.0->cloud-tpu-client) (1.15.0)\n",
            "Uninstalling torch-1.8.1+cu101:\n",
            "Requirement already satisfied: google-auth>=1.4.1 in /usr/local/lib/python3.7/dist-packages (from google-api-python-client==1.8.0->cloud-tpu-client) (1.31.0)\n",
            "Requirement already satisfied: uritemplate<4dev,>=3.0.0 in /usr/local/lib/python3.7/dist-packages (from google-api-python-client==1.8.0->cloud-tpu-client) (3.0.1)\n",
            "Requirement already satisfied: rsa>=3.1.4 in /usr/local/lib/python3.7/dist-packages (from oauth2client->cloud-tpu-client) (4.7.2)\n",
            "Requirement already satisfied: pyasn1-modules>=0.0.5 in /usr/local/lib/python3.7/dist-packages (from oauth2client->cloud-tpu-client) (0.2.8)\n",
            "Requirement already satisfied: pyasn1>=0.1.7 in /usr/local/lib/python3.7/dist-packages (from oauth2client->cloud-tpu-client) (0.4.8)\n",
            "Requirement already satisfied: pyparsing<3,>=2.4.2 in /usr/local/lib/python3.7/dist-packages (from httplib2<1dev,>=0.9.2->google-api-python-client==1.8.0->cloud-tpu-client) (2.4.7)\n",
            "Requirement already satisfied: requests<3.0.0dev,>=2.18.0 in /usr/local/lib/python3.7/dist-packages (from google-api-core<2dev,>=1.13.0->google-api-python-client==1.8.0->cloud-tpu-client) (2.23.0)\n",
            "Requirement already satisfied: packaging>=14.3 in /usr/local/lib/python3.7/dist-packages (from google-api-core<2dev,>=1.13.0->google-api-python-client==1.8.0->cloud-tpu-client) (20.9)\n",
            "Requirement already satisfied: setuptools>=40.3.0 in /usr/local/lib/python3.7/dist-packages (from google-api-core<2dev,>=1.13.0->google-api-python-client==1.8.0->cloud-tpu-client) (57.0.0)\n",
            "Requirement already satisfied: pytz in /usr/local/lib/python3.7/dist-packages (from google-api-core<2dev,>=1.13.0->google-api-python-client==1.8.0->cloud-tpu-client) (2018.9)\n",
            "Requirement already satisfied: googleapis-common-protos<2.0dev,>=1.6.0 in /usr/local/lib/python3.7/dist-packages (from google-api-core<2dev,>=1.13.0->google-api-python-client==1.8.0->cloud-tpu-client) (1.53.0)\n",
            "Requirement already satisfied: protobuf>=3.12.0 in /usr/local/lib/python3.7/dist-packages (from google-api-core<2dev,>=1.13.0->google-api-python-client==1.8.0->cloud-tpu-client) (3.12.4)\n",
            "Requirement already satisfied: cachetools<5.0,>=2.0.0 in /usr/local/lib/python3.7/dist-packages (from google-auth>=1.4.1->google-api-python-client==1.8.0->cloud-tpu-client) (4.2.2)\n",
            "Requirement already satisfied: urllib3!=1.25.0,!=1.25.1,<1.26,>=1.21.1 in /usr/local/lib/python3.7/dist-packages (from requests<3.0.0dev,>=2.18.0->google-api-core<2dev,>=1.13.0->google-api-python-client==1.8.0->cloud-tpu-client) (1.24.3)\n",
            "Requirement already satisfied: chardet<4,>=3.0.2 in /usr/local/lib/python3.7/dist-packages (from requests<3.0.0dev,>=2.18.0->google-api-core<2dev,>=1.13.0->google-api-python-client==1.8.0->cloud-tpu-client) (3.0.4)\n",
            "Requirement already satisfied: certifi>=2017.4.17 in /usr/local/lib/python3.7/dist-packages (from requests<3.0.0dev,>=2.18.0->google-api-core<2dev,>=1.13.0->google-api-python-client==1.8.0->cloud-tpu-client) (2021.5.30)\n",
            "Requirement already satisfied: idna<3,>=2.5 in /usr/local/lib/python3.7/dist-packages (from requests<3.0.0dev,>=2.18.0->google-api-core<2dev,>=1.13.0->google-api-python-client==1.8.0->cloud-tpu-client) (2.10)\n",
            "\u001b[31mERROR: earthengine-api 0.1.269 has requirement google-api-python-client<2,>=1.12.1, but you'll have google-api-python-client 1.8.0 which is incompatible.\u001b[0m\n",
            "Installing collected packages: google-api-python-client, cloud-tpu-client\n",
            "  Found existing installation: google-api-python-client 1.12.8\n",
            "    Uninstalling google-api-python-client-1.12.8:\n",
            "      Successfully uninstalled google-api-python-client-1.12.8\n",
            "Successfully installed cloud-tpu-client-0.10 google-api-python-client-1.8.0\n",
            "Done updating TPU runtime\n",
            "  Successfully uninstalled torch-1.8.1+cu101\n",
            "Uninstalling torchvision-0.9.1+cu101:\n",
            "  Successfully uninstalled torchvision-0.9.1+cu101\n",
            "Copying gs://tpu-pytorch/wheels/torch-nightly+20200607-cp37-cp37m-linux_x86_64.whl...\n",
            "\\ [1 files][ 89.5 MiB/ 89.5 MiB]                                                \n",
            "Operation completed over 1 objects/89.5 MiB.                                     \n",
            "Copying gs://tpu-pytorch/wheels/torch_xla-nightly+20200607-cp37-cp37m-linux_x86_64.whl...\n",
            "\\ [1 files][116.9 MiB/116.9 MiB]                                                \n",
            "Operation completed over 1 objects/116.9 MiB.                                    \n",
            "Copying gs://tpu-pytorch/wheels/torchvision-nightly+20200607-cp37-cp37m-linux_x86_64.whl...\n",
            "/ [1 files][  1.7 MiB/  1.7 MiB]                                                \n",
            "Operation completed over 1 objects/1.7 MiB.                                      \n",
            "Processing ./torch-nightly+20200607-cp37-cp37m-linux_x86_64.whl\n",
            "Requirement already satisfied: future in /usr/local/lib/python3.7/dist-packages (from torch==nightly+20200607) (0.16.0)\n",
            "Requirement already satisfied: numpy in /usr/local/lib/python3.7/dist-packages (from torch==nightly+20200607) (1.19.5)\n",
            "\u001b[31mERROR: fastai 1.0.61 requires torchvision, which is not installed.\u001b[0m\n",
            "\u001b[31mERROR: torchtext 0.9.1 has requirement torch==1.8.1, but you'll have torch 1.6.0a0+a25b1b9 which is incompatible.\u001b[0m\n",
            "Installing collected packages: torch\n",
            "Successfully installed torch-1.6.0a0+a25b1b9\n",
            "Processing ./torch_xla-nightly+20200607-cp37-cp37m-linux_x86_64.whl\n",
            "Installing collected packages: torch-xla\n",
            "Successfully installed torch-xla-1.6+407518\n",
            "Processing ./torchvision-nightly+20200607-cp37-cp37m-linux_x86_64.whl\n",
            "Requirement already satisfied: numpy in /usr/local/lib/python3.7/dist-packages (from torchvision==nightly+20200607) (1.19.5)\n",
            "Requirement already satisfied: torch in /usr/local/lib/python3.7/dist-packages (from torchvision==nightly+20200607) (1.6.0a0+a25b1b9)\n",
            "Requirement already satisfied: pillow>=4.1.1 in /usr/local/lib/python3.7/dist-packages (from torchvision==nightly+20200607) (7.1.2)\n",
            "Requirement already satisfied: future in /usr/local/lib/python3.7/dist-packages (from torch->torchvision==nightly+20200607) (0.16.0)\n",
            "Installing collected packages: torchvision\n",
            "Successfully installed torchvision-0.7.0a0+3e06bc6\n",
            "Reading package lists... Done\n",
            "Building dependency tree       \n",
            "Reading state information... Done\n",
            "The following NEW packages will be installed:\n",
            "  libomp5\n",
            "0 upgraded, 1 newly installed, 0 to remove and 39 not upgraded.\n",
            "Need to get 234 kB of archives.\n",
            "After this operation, 774 kB of additional disk space will be used.\n",
            "Get:1 http://archive.ubuntu.com/ubuntu bionic/universe amd64 libomp5 amd64 5.0.1-1 [234 kB]\n",
            "Fetched 234 kB in 1s (333 kB/s)\n",
            "Selecting previously unselected package libomp5:amd64.\n",
            "(Reading database ... 160772 files and directories currently installed.)\n",
            "Preparing to unpack .../libomp5_5.0.1-1_amd64.deb ...\n",
            "Unpacking libomp5:amd64 (5.0.1-1) ...\n",
            "Setting up libomp5:amd64 (5.0.1-1) ...\n",
            "Processing triggers for libc-bin (2.27-3ubuntu1.2) ...\n",
            "/sbin/ldconfig.real: /usr/local/lib/python3.7/dist-packages/ideep4py/lib/libmkldnn.so.0 is not a symbolic link\n",
            "\n",
            "Collecting git+https://github.com/pytorch/ignite\n",
            "  Cloning https://github.com/pytorch/ignite to /tmp/pip-req-build-j69ovfov\n",
            "  Running command git clone -q https://github.com/pytorch/ignite /tmp/pip-req-build-j69ovfov\n",
            "  Installing build dependencies ... \u001b[?25l\u001b[?25hdone\n",
            "  Getting requirements to build wheel ... \u001b[?25l\u001b[?25hdone\n",
            "    Preparing wheel metadata ... \u001b[?25l\u001b[?25hdone\n",
            "Requirement already satisfied, skipping upgrade: torch<2,>=1.3 in /usr/local/lib/python3.7/dist-packages (from pytorch-ignite==0.5.0) (1.6.0a0+a25b1b9)\n",
            "Requirement already satisfied, skipping upgrade: future in /usr/local/lib/python3.7/dist-packages (from torch<2,>=1.3->pytorch-ignite==0.5.0) (0.16.0)\n",
            "Requirement already satisfied, skipping upgrade: numpy in /usr/local/lib/python3.7/dist-packages (from torch<2,>=1.3->pytorch-ignite==0.5.0) (1.19.5)\n",
            "Building wheels for collected packages: pytorch-ignite\n",
            "  Building wheel for pytorch-ignite (PEP 517) ... \u001b[?25l\u001b[?25hdone\n",
            "  Created wheel for pytorch-ignite: filename=pytorch_ignite-0.5.0-cp37-none-any.whl size=222958 sha256=f0f6afa145f5d312a59db2d1e5e2224eb36169abd4afb6c4261cde9f4adea329\n",
            "  Stored in directory: /tmp/pip-ephem-wheel-cache-thzeaji6/wheels/92/9a/cd/39c0bc302c48329ecbe3a0d8b56678725a25332c7e9100d3b5\n",
            "Successfully built pytorch-ignite\n",
            "Installing collected packages: pytorch-ignite\n",
            "Successfully installed pytorch-ignite-0.5.0\n",
            "Collecting hydra-core\n",
            "\u001b[?25l  Downloading https://files.pythonhosted.org/packages/c3/cd/85aa2e3a8babc36feac99df785e54abf99afbc4acc20488630f3ef46980a/hydra_core-1.1.0-py3-none-any.whl (144kB)\n",
            "\u001b[K     |████████████████████████████████| 153kB 6.4MB/s \n",
            "\u001b[?25hCollecting antlr4-python3-runtime==4.8\n",
            "\u001b[?25l  Downloading https://files.pythonhosted.org/packages/56/02/789a0bddf9c9b31b14c3e79ec22b9656185a803dc31c15f006f9855ece0d/antlr4-python3-runtime-4.8.tar.gz (112kB)\n",
            "\u001b[K     |████████████████████████████████| 112kB 8.4MB/s \n",
            "\u001b[?25hCollecting omegaconf==2.1.*\n",
            "\u001b[?25l  Downloading https://files.pythonhosted.org/packages/f9/96/1966b48bfe6ca64bfadfa7bcc9a8d73c5d83b4be769321fcc5d617abeb0c/omegaconf-2.1.0-py3-none-any.whl (74kB)\n",
            "\u001b[K     |████████████████████████████████| 81kB 5.5MB/s \n",
            "\u001b[?25hRequirement already satisfied, skipping upgrade: importlib-resources; python_version < \"3.9\" in /usr/local/lib/python3.7/dist-packages (from hydra-core) (5.1.4)\n",
            "Collecting PyYAML>=5.1.*\n",
            "\u001b[?25l  Downloading https://files.pythonhosted.org/packages/7a/a5/393c087efdc78091afa2af9f1378762f9821c9c1d7a22c5753fb5ac5f97a/PyYAML-5.4.1-cp37-cp37m-manylinux1_x86_64.whl (636kB)\n",
            "\u001b[K     |████████████████████████████████| 645kB 8.0MB/s \n",
            "\u001b[?25hRequirement already satisfied, skipping upgrade: zipp>=3.1.0; python_version < \"3.10\" in /usr/local/lib/python3.7/dist-packages (from importlib-resources; python_version < \"3.9\"->hydra-core) (3.4.1)\n",
            "Building wheels for collected packages: antlr4-python3-runtime\n",
            "  Building wheel for antlr4-python3-runtime (setup.py) ... \u001b[?25l\u001b[?25hdone\n",
            "  Created wheel for antlr4-python3-runtime: filename=antlr4_python3_runtime-4.8-cp37-none-any.whl size=141231 sha256=89bbdccc31fb9a64ba21860687acd676dce72d2527d4ca596804b3ee215364b4\n",
            "  Stored in directory: /root/.cache/pip/wheels/e3/e2/fa/b78480b448b8579ddf393bebd3f47ee23aa84c89b6a78285c8\n",
            "Successfully built antlr4-python3-runtime\n",
            "Installing collected packages: antlr4-python3-runtime, PyYAML, omegaconf, hydra-core\n",
            "  Found existing installation: PyYAML 3.13\n",
            "    Uninstalling PyYAML-3.13:\n",
            "      Successfully uninstalled PyYAML-3.13\n",
            "Successfully installed PyYAML-5.4.1 antlr4-python3-runtime-4.8 hydra-core-1.1.0 omegaconf-2.1.0\n"
          ],
          "name": "stdout"
        },
        {
          "output_type": "display_data",
          "data": {
            "application/vnd.colab-display-data+json": {
              "pip_warning": {
                "packages": [
                  "pydevd_plugins"
                ]
              }
            }
          },
          "metadata": {
            "tags": []
          }
        },
        {
          "output_type": "stream",
          "text": [
            "Collecting wandb\n",
            "\u001b[?25l  Downloading https://files.pythonhosted.org/packages/e0/b4/9d92953d8cddc8450c859be12e3dbdd4c7754fb8def94c28b3b351c6ee4e/wandb-0.10.32-py2.py3-none-any.whl (1.8MB)\n",
            "\u001b[K     |████████████████████████████████| 1.8MB 6.7MB/s \n",
            "\u001b[?25hCollecting subprocess32>=3.5.3\n",
            "\u001b[?25l  Downloading https://files.pythonhosted.org/packages/32/c8/564be4d12629b912ea431f1a50eb8b3b9d00f1a0b1ceff17f266be190007/subprocess32-3.5.4.tar.gz (97kB)\n",
            "\u001b[K     |████████████████████████████████| 102kB 9.0MB/s \n",
            "\u001b[?25hRequirement already satisfied: promise<3,>=2.0 in /usr/local/lib/python3.7/dist-packages (from wandb) (2.3)\n",
            "Requirement already satisfied: Click!=8.0.0,>=7.0 in /usr/local/lib/python3.7/dist-packages (from wandb) (7.1.2)\n",
            "Requirement already satisfied: PyYAML in /usr/local/lib/python3.7/dist-packages (from wandb) (5.4.1)\n",
            "Collecting pathtools\n",
            "  Downloading https://files.pythonhosted.org/packages/e7/7f/470d6fcdf23f9f3518f6b0b76be9df16dcc8630ad409947f8be2eb0ed13a/pathtools-0.1.2.tar.gz\n",
            "Requirement already satisfied: six>=1.13.0 in /usr/local/lib/python3.7/dist-packages (from wandb) (1.15.0)\n",
            "Requirement already satisfied: requests<3,>=2.0.0 in /usr/local/lib/python3.7/dist-packages (from wandb) (2.23.0)\n",
            "Requirement already satisfied: protobuf>=3.12.0 in /usr/local/lib/python3.7/dist-packages (from wandb) (3.12.4)\n",
            "Collecting sentry-sdk>=0.4.0\n",
            "\u001b[?25l  Downloading https://files.pythonhosted.org/packages/1c/4a/a54b254f67d8f4052338d54ebe90126f200693440a93ef76d254d581e3ec/sentry_sdk-1.1.0-py2.py3-none-any.whl (131kB)\n",
            "\u001b[K     |████████████████████████████████| 133kB 14.2MB/s \n",
            "\u001b[?25hCollecting shortuuid>=0.5.0\n",
            "  Downloading https://files.pythonhosted.org/packages/25/a6/2ecc1daa6a304e7f1b216f0896b26156b78e7c38e1211e9b798b4716c53d/shortuuid-1.0.1-py3-none-any.whl\n",
            "Requirement already satisfied: psutil>=5.0.0 in /usr/local/lib/python3.7/dist-packages (from wandb) (5.4.8)\n",
            "Collecting GitPython>=1.0.0\n",
            "\u001b[?25l  Downloading https://files.pythonhosted.org/packages/a6/99/98019716955ba243657daedd1de8f3a88ca1f5b75057c38e959db22fb87b/GitPython-3.1.14-py3-none-any.whl (159kB)\n",
            "\u001b[K     |████████████████████████████████| 163kB 31.3MB/s \n",
            "\u001b[?25hCollecting docker-pycreds>=0.4.0\n",
            "  Downloading https://files.pythonhosted.org/packages/f5/e8/f6bd1eee09314e7e6dee49cbe2c5e22314ccdb38db16c9fc72d2fa80d054/docker_pycreds-0.4.0-py2.py3-none-any.whl\n",
            "Requirement already satisfied: python-dateutil>=2.6.1 in /usr/local/lib/python3.7/dist-packages (from wandb) (2.8.1)\n",
            "Collecting configparser>=3.8.1\n",
            "  Downloading https://files.pythonhosted.org/packages/fd/01/ff260a18caaf4457eb028c96eeb405c4a230ca06c8ec9c1379f813caa52e/configparser-5.0.2-py3-none-any.whl\n",
            "Requirement already satisfied: certifi>=2017.4.17 in /usr/local/lib/python3.7/dist-packages (from requests<3,>=2.0.0->wandb) (2021.5.30)\n",
            "Requirement already satisfied: chardet<4,>=3.0.2 in /usr/local/lib/python3.7/dist-packages (from requests<3,>=2.0.0->wandb) (3.0.4)\n",
            "Requirement already satisfied: urllib3!=1.25.0,!=1.25.1,<1.26,>=1.21.1 in /usr/local/lib/python3.7/dist-packages (from requests<3,>=2.0.0->wandb) (1.24.3)\n",
            "Requirement already satisfied: idna<3,>=2.5 in /usr/local/lib/python3.7/dist-packages (from requests<3,>=2.0.0->wandb) (2.10)\n",
            "Requirement already satisfied: setuptools in /usr/local/lib/python3.7/dist-packages (from protobuf>=3.12.0->wandb) (57.0.0)\n",
            "Collecting gitdb<5,>=4.0.1\n",
            "\u001b[?25l  Downloading https://files.pythonhosted.org/packages/ea/e8/f414d1a4f0bbc668ed441f74f44c116d9816833a48bf81d22b697090dba8/gitdb-4.0.7-py3-none-any.whl (63kB)\n",
            "\u001b[K     |████████████████████████████████| 71kB 7.7MB/s \n",
            "\u001b[?25hCollecting smmap<5,>=3.0.1\n",
            "  Downloading https://files.pythonhosted.org/packages/68/ee/d540eb5e5996eb81c26ceffac6ee49041d473bc5125f2aa995cf51ec1cf1/smmap-4.0.0-py2.py3-none-any.whl\n",
            "Building wheels for collected packages: subprocess32, pathtools\n",
            "  Building wheel for subprocess32 (setup.py) ... \u001b[?25l\u001b[?25hdone\n",
            "  Created wheel for subprocess32: filename=subprocess32-3.5.4-cp37-none-any.whl size=6502 sha256=d8a842e554dac792d97e78e91e4851f2f20ab748d46bfa1154b11b67c4c58726\n",
            "  Stored in directory: /root/.cache/pip/wheels/68/39/1a/5e402bdfdf004af1786c8b853fd92f8c4a04f22aad179654d1\n",
            "  Building wheel for pathtools (setup.py) ... \u001b[?25l\u001b[?25hdone\n",
            "  Created wheel for pathtools: filename=pathtools-0.1.2-cp37-none-any.whl size=8807 sha256=043981020fb032b0d58a04c53534c05a922d894391bb9b848b40bc92421df456\n",
            "  Stored in directory: /root/.cache/pip/wheels/0b/04/79/c3b0c3a0266a3cb4376da31e5bfe8bba0c489246968a68e843\n",
            "Successfully built subprocess32 pathtools\n",
            "Installing collected packages: subprocess32, pathtools, sentry-sdk, shortuuid, smmap, gitdb, GitPython, docker-pycreds, configparser, wandb\n",
            "Successfully installed GitPython-3.1.14 configparser-5.0.2 docker-pycreds-0.4.0 gitdb-4.0.7 pathtools-0.1.2 sentry-sdk-1.1.0 shortuuid-1.0.1 smmap-4.0.0 subprocess32-3.5.4 wandb-0.10.32\n",
            "Uninstalling Pillow-7.1.2:\n",
            "  Successfully uninstalled Pillow-7.1.2\n",
            "Collecting pillow-simd\n",
            "\u001b[?25l  Downloading https://files.pythonhosted.org/packages/a0/6a/30d21c886293cca3755b8e55de34137a5068b77eba1c0644d3632080516b/Pillow-SIMD-7.0.0.post3.tar.gz (630kB)\n",
            "\u001b[K     |████████████████████████████████| 634kB 5.4MB/s \n",
            "\u001b[?25hBuilding wheels for collected packages: pillow-simd\n",
            "  Building wheel for pillow-simd (setup.py) ... \u001b[?25l\u001b[?25hdone\n",
            "  Created wheel for pillow-simd: filename=Pillow_SIMD-7.0.0.post3-cp37-cp37m-linux_x86_64.whl size=1215555 sha256=c7a9f4807f352e3391d6e2d93fd3eca8915cfebf88365682910e7611f1e01204\n",
            "  Stored in directory: /tmp/pip-ephem-wheel-cache-wfe6hbjn/wheels/d3/ac/4f/4cdf8febba528e5f1b09fc58d5181e1c12ed1e8655dcd583b8\n",
            "Successfully built pillow-simd\n",
            "Installing collected packages: pillow-simd\n",
            "Successfully installed pillow-simd-7.0.0.post3\n"
          ],
          "name": "stdout"
        }
      ]
    },
    {
      "cell_type": "markdown",
      "metadata": {
        "id": "1oicoHubCt_r"
      },
      "source": [
        "### Download dataset:"
      ]
    },
    {
      "cell_type": "code",
      "metadata": {
        "id": "bxMvVxoalCUi",
        "colab": {
          "base_uri": "https://localhost:8080/",
          "height": 83,
          "referenced_widgets": [
            "24cef70fa6b84f6784839adbb8aef5d8",
            "134faa03c31a4fa08be121a34540f8d8",
            "1b161dfb8ded4df899593cdefbf160cf",
            "b2792ce0eb9647f69fe6e742a160c35c",
            "5057fc1b4f924087b81f20472e11a8c4",
            "8898be8729814501b6dcb3d3e48eea12",
            "b90101ebd5f3477eb3feac18cf9b8c8a",
            "337b210219fe418ab49af8cbacb92fd7"
          ]
        },
        "outputId": "38d00d1e-69a9-400a-d967-83d19bbacab9"
      },
      "source": [
        "# Download dataset:\n",
        "from torchvision.datasets import CIFAR10\n",
        "\n",
        "CIFAR10(\"./cifar10\", train=True, download=True);"
      ],
      "execution_count": 2,
      "outputs": [
        {
          "output_type": "stream",
          "text": [
            "Downloading https://www.cs.toronto.edu/~kriz/cifar-10-python.tar.gz to ./cifar10/cifar-10-python.tar.gz\n"
          ],
          "name": "stdout"
        },
        {
          "output_type": "display_data",
          "data": {
            "application/vnd.jupyter.widget-view+json": {
              "model_id": "24cef70fa6b84f6784839adbb8aef5d8",
              "version_minor": 0,
              "version_major": 2
            },
            "text/plain": [
              "HBox(children=(FloatProgress(value=1.0, bar_style='info', max=1.0), HTML(value='')))"
            ]
          },
          "metadata": {
            "tags": []
          }
        },
        {
          "output_type": "stream",
          "text": [
            "Extracting ./cifar10/cifar-10-python.tar.gz to ./cifar10\n"
          ],
          "name": "stdout"
        }
      ]
    },
    {
      "cell_type": "markdown",
      "metadata": {
        "id": "BS-0uom3CxF0"
      },
      "source": [
        "### Get the code:"
      ]
    },
    {
      "cell_type": "code",
      "metadata": {
        "id": "HQU8AkGUUnrG",
        "colab": {
          "base_uri": "https://localhost:8080/"
        },
        "outputId": "528169f8-f53c-4cb2-8c9f-7b2097d82587"
      },
      "source": [
        "!git clone https://github.com/secutron/FixMatch-pytorch/\n",
        "#!git clone https://github.com/vfdev-5/FixMatch-pytorch/\n"
      ],
      "execution_count": 3,
      "outputs": [
        {
          "output_type": "stream",
          "text": [
            "Cloning into 'FixMatch-pytorch'...\n",
            "remote: Enumerating objects: 248, done.\u001b[K\n",
            "remote: Counting objects: 100% (248/248), done.\u001b[K\n",
            "remote: Compressing objects: 100% (150/150), done.\u001b[K\n",
            "remote: Total 248 (delta 139), reused 164 (delta 76), pack-reused 0\u001b[K\n",
            "Receiving objects: 100% (248/248), 78.18 KiB | 1.78 MiB/s, done.\n",
            "Resolving deltas: 100% (139/139), done.\n"
          ],
          "name": "stdout"
        }
      ]
    },
    {
      "cell_type": "markdown",
      "metadata": {
        "id": "2-45vgIcDCgj"
      },
      "source": [
        "#### Optionally, login to `W&B`\n",
        "\n",
        "To skip logging to `W&B`, please set `online_exp_tracking.wandb=false` "
      ]
    },
    {
      "cell_type": "code",
      "metadata": {
        "id": "TOTdc6wXU94W"
      },
      "source": [
        "# !wandb login <token>"
      ],
      "execution_count": 4,
      "outputs": []
    },
    {
      "cell_type": "code",
      "metadata": {
        "id": "8Gf3KwELZUYw"
      },
      "source": [
        ""
      ],
      "execution_count": 4,
      "outputs": []
    },
    {
      "cell_type": "code",
      "metadata": {
        "id": "43YEeThcZUWK",
        "outputId": "7938da9d-3c00-4492-dfa5-a7d5928f632f",
        "colab": {
          "base_uri": "https://localhost:8080/"
        }
      },
      "source": [
        "%cd FixMatch-pytorch/"
      ],
      "execution_count": 4,
      "outputs": [
        {
          "output_type": "stream",
          "text": [
            "/content/FixMatch-pytorch\n"
          ],
          "name": "stdout"
        }
      ]
    },
    {
      "cell_type": "code",
      "metadata": {
        "id": "y5AvnxQZZ0tO"
      },
      "source": [
        "import torch\n",
        "\n",
        "import ignite.distributed as idist\n",
        "from ignite.engine import Events\n",
        "from ignite.utils import manual_seed, setup_logger\n",
        "\n",
        "import hydra\n",
        "from hydra.utils import instantiate\n",
        "from omegaconf import DictConfig\n",
        "\n",
        "import utils\n",
        "import trainers\n",
        "from ctaugment import get_default_cta, OPS, interleave, deinterleave\n",
        "\n",
        "\n",
        "sorted_op_names = sorted(list(OPS.keys()))"
      ],
      "execution_count": 5,
      "outputs": []
    },
    {
      "cell_type": "code",
      "metadata": {
        "id": "SbnO_kfCZUTj",
        "outputId": "7f7905f5-86c2-481c-f50b-1bd268f1034e",
        "colab": {
          "base_uri": "https://localhost:8080/"
        }
      },
      "source": [
        "from hydra import initialize, initialize_config_module, initialize_config_dir, compose\n",
        "from omegaconf import OmegaConf\n",
        "\n",
        "with initialize(config_path=\"config\"):\n",
        "    cfg=compose(config_name=\"fixmatch.yaml\")\n",
        "    print(OmegaConf.to_yaml(cfg))"
      ],
      "execution_count": 7,
      "outputs": [
        {
          "output_type": "stream",
          "text": [
            "dataflow:\n",
            "  name: cifar10\n",
            "  data_path: /tmp/cifar10\n",
            "  batch_size: 64\n",
            "  num_workers: 12\n",
            "solver:\n",
            "  num_epochs: 1024\n",
            "  epoch_length: 128\n",
            "  checkpoint_every: 500\n",
            "  validate_every: 1\n",
            "  resume_from: null\n",
            "  optimizer:\n",
            "    cls: torch.optim.SGD\n",
            "    params:\n",
            "      lr: 0.03\n",
            "      momentum: 0.9\n",
            "      weight_decay: 0.0001\n",
            "      nesterov: false\n",
            "  supervised_criterion:\n",
            "    cls: torch.nn.CrossEntropyLoss\n",
            "  lr_scheduler:\n",
            "    cls: torch.optim.lr_scheduler.CosineAnnealingLR\n",
            "    params:\n",
            "      eta_min: 0.0\n",
            "      T_max: null\n",
            "  unsupervised_criterion:\n",
            "    cls: torch.nn.CrossEntropyLoss\n",
            "    params:\n",
            "      reduction: none\n",
            "ssl:\n",
            "  num_train_samples_per_class: 25\n",
            "  confidence_threshold: 0.95\n",
            "  lambda_u: 1.0\n",
            "  mu_ratio: 7\n",
            "  cta_update_every: 1\n",
            "name: fixmatch\n",
            "seed: 543\n",
            "debug: false\n",
            "model: resnet18\n",
            "num_classes: 10\n",
            "ema_decay: 0.999\n",
            "distributed:\n",
            "  backend: null\n",
            "  nproc_per_node: null\n",
            "online_exp_tracking:\n",
            "  wandb: false\n",
            "\n"
          ],
          "name": "stdout"
        },
        {
          "output_type": "stream",
          "text": [
            "/usr/local/lib/python3.7/dist-packages/hydra/core/default_element.py:127: UserWarning: In 'ssl/cta_pseudo': Usage of deprecated keyword in package header '# @package _group_'.\n",
            "See https://hydra.cc/docs/next/upgrades/1.0_to_1.1/changes_to_package_header for more information\n",
            "  See {url} for more information\"\"\"\n",
            "/usr/local/lib/python3.7/dist-packages/hydra/core/default_element.py:127: UserWarning: In 'solver/default': Usage of deprecated keyword in package header '# @package _group_'.\n",
            "See https://hydra.cc/docs/next/upgrades/1.0_to_1.1/changes_to_package_header for more information\n",
            "  See {url} for more information\"\"\"\n",
            "/usr/local/lib/python3.7/dist-packages/hydra/core/default_element.py:127: UserWarning: In 'dataflow/cifar10': Usage of deprecated keyword in package header '# @package _group_'.\n",
            "See https://hydra.cc/docs/next/upgrades/1.0_to_1.1/changes_to_package_header for more information\n",
            "  See {url} for more information\"\"\"\n"
          ],
          "name": "stderr"
        }
      ]
    },
    {
      "cell_type": "code",
      "metadata": {
        "id": "n1T0lTmFZUO-",
        "outputId": "14d6ff70-2d6e-4110-90a5-9b4025f2b92c",
        "colab": {
          "base_uri": "https://localhost:8080/"
        }
      },
      "source": [
        "cfg.distributed.backend = \"xla-tpu\"\n",
        "cfg.distributed.nproc_per_node = 8\n",
        "cfg.online_exp_tracking.wandb = \"true\"\n",
        "cfg.solver.num_epochs = 50\n",
        "cfg.ssl.confidence_threshold = 0.7\n",
        "cfg.ema_decay = 0.9\n",
        "cfg.ssl.cta_update_every = 15\n",
        "cfg.solver.optimizer.params.lr = 0.1\n",
        "#cfg.solver.optimizer.param_groups.lr = 0.1\n",
        "\n",
        "\n",
        "print(OmegaConf.to_yaml(cfg))"
      ],
      "execution_count": 8,
      "outputs": [
        {
          "output_type": "stream",
          "text": [
            "dataflow:\n",
            "  name: cifar10\n",
            "  data_path: /tmp/cifar10\n",
            "  batch_size: 64\n",
            "  num_workers: 12\n",
            "solver:\n",
            "  num_epochs: 50\n",
            "  epoch_length: 128\n",
            "  checkpoint_every: 500\n",
            "  validate_every: 1\n",
            "  resume_from: null\n",
            "  optimizer:\n",
            "    cls: torch.optim.SGD\n",
            "    params:\n",
            "      lr: 0.1\n",
            "      momentum: 0.9\n",
            "      weight_decay: 0.0001\n",
            "      nesterov: false\n",
            "  supervised_criterion:\n",
            "    cls: torch.nn.CrossEntropyLoss\n",
            "  lr_scheduler:\n",
            "    cls: torch.optim.lr_scheduler.CosineAnnealingLR\n",
            "    params:\n",
            "      eta_min: 0.0\n",
            "      T_max: null\n",
            "  unsupervised_criterion:\n",
            "    cls: torch.nn.CrossEntropyLoss\n",
            "    params:\n",
            "      reduction: none\n",
            "ssl:\n",
            "  num_train_samples_per_class: 25\n",
            "  confidence_threshold: 0.7\n",
            "  lambda_u: 1.0\n",
            "  mu_ratio: 7\n",
            "  cta_update_every: 15\n",
            "name: fixmatch\n",
            "seed: 543\n",
            "debug: false\n",
            "model: resnet18\n",
            "num_classes: 10\n",
            "ema_decay: 0.9\n",
            "distributed:\n",
            "  backend: xla-tpu\n",
            "  nproc_per_node: 8\n",
            "online_exp_tracking:\n",
            "  wandb: 'true'\n",
            "\n"
          ],
          "name": "stdout"
        }
      ]
    },
    {
      "cell_type": "code",
      "metadata": {
        "id": "p1OkRgT-aHEm"
      },
      "source": [
        "model, ema_model, optimizer, sup_criterion, lr_scheduler = utils.initialize(cfg)"
      ],
      "execution_count": 9,
      "outputs": []
    },
    {
      "cell_type": "code",
      "metadata": {
        "id": "7IgrxTi-aHCQ",
        "outputId": "dda19638-9d83-4187-8fa3-926db3cf07d5",
        "colab": {
          "base_uri": "https://localhost:8080/"
        }
      },
      "source": [
        "lr_scheduler"
      ],
      "execution_count": 10,
      "outputs": [
        {
          "output_type": "execute_result",
          "data": {
            "text/plain": [
              "{'cls': 'torch.optim.lr_scheduler.CosineAnnealingLR', 'params': {'eta_min': 0.0, 'T_max': None}, 'T_max': 6400}"
            ]
          },
          "metadata": {
            "tags": []
          },
          "execution_count": 10
        }
      ]
    },
    {
      "cell_type": "code",
      "metadata": {
        "id": "n2j3ZGnEaG89",
        "outputId": "0b00c112-2142-419d-b1c7-03c9362ff058",
        "colab": {
          "base_uri": "https://localhost:8080/"
        }
      },
      "source": [
        "optimizer"
      ],
      "execution_count": 11,
      "outputs": [
        {
          "output_type": "execute_result",
          "data": {
            "text/plain": [
              "{'cls': 'torch.optim.SGD', 'params': {'lr': 0.1, 'momentum': 0.9, 'weight_decay': 0.0001, 'nesterov': False}}"
            ]
          },
          "metadata": {
            "tags": []
          },
          "execution_count": 11
        }
      ]
    },
    {
      "cell_type": "code",
      "metadata": {
        "id": "1jorybsRZUKf",
        "outputId": "22947168-b940-4859-e521-bbab1b706019",
        "colab": {
          "base_uri": "https://localhost:8080/"
        }
      },
      "source": [
        "%cd /content"
      ],
      "execution_count": 6,
      "outputs": [
        {
          "output_type": "stream",
          "text": [
            "/content\n"
          ],
          "name": "stdout"
        }
      ]
    },
    {
      "cell_type": "markdown",
      "metadata": {
        "id": "jGu44tDFDkjQ"
      },
      "source": [
        "### Let's train ResNet18 model in a faster mode"
      ]
    },
    {
      "cell_type": "code",
      "metadata": {
        "id": "poJkPrRCPJDz",
        "colab": {
          "base_uri": "https://localhost:8080/"
        },
        "outputId": "b63926c2-e46f-4ab6-9e4f-5f8fc922ae4e"
      },
      "source": [
        "!cd FixMatch-pytorch && export PYTHONPATH=$PWD:$PYTHONPATH && \\\n",
        "  python main_fixmatch.py distributed.backend=xla-tpu distributed.nproc_per_node=8 online_exp_tracking.wandb=true solver.num_epochs=50 \\\n",
        "    ssl.confidence_threshold=0.7 ema_decay=0.9 ssl.cta_update_every=15 solver.optimizer.params.lr=0.1"
      ],
      "execution_count": 4,
      "outputs": [
        {
          "output_type": "stream",
          "text": [
            "/usr/local/lib/python3.7/dist-packages/hydra/core/default_element.py:127: UserWarning: In 'ssl/cta_pseudo': Usage of deprecated keyword in package header '# @package _group_'.\n",
            "See https://hydra.cc/docs/next/upgrades/1.0_to_1.1/changes_to_package_header for more information\n",
            "  See {url} for more information\"\"\"\n",
            "/usr/local/lib/python3.7/dist-packages/hydra/core/default_element.py:127: UserWarning: In 'solver/default': Usage of deprecated keyword in package header '# @package _group_'.\n",
            "See https://hydra.cc/docs/next/upgrades/1.0_to_1.1/changes_to_package_header for more information\n",
            "  See {url} for more information\"\"\"\n",
            "/usr/local/lib/python3.7/dist-packages/hydra/core/default_element.py:127: UserWarning: In 'dataflow/cifar10': Usage of deprecated keyword in package header '# @package _group_'.\n",
            "See https://hydra.cc/docs/next/upgrades/1.0_to_1.1/changes_to_package_header for more information\n",
            "  See {url} for more information\"\"\"\n",
            "2021-06-17 04:31:00,037 ignite.distributed.launcher.Parallel INFO: Initialized distributed launcher with backend: 'xla-tpu'\n",
            "2021-06-17 04:31:00,038 ignite.distributed.launcher.Parallel INFO: - Parameters to spawn processes: \n",
            "\tnproc_per_node: 8\n",
            "\tnnodes: 1\n",
            "\tnode_rank: 0\n",
            "2021-06-17 04:31:00,038 ignite.distributed.launcher.Parallel INFO: Spawn function '<function training at 0x7f4d574a4ef0>' in 8 processes\n",
            "2021-06-17 04:31:47,676 FixMatch Training INFO: {'dataflow': {'name': 'cifar10', 'data_path': '/content/cifar10', 'batch_size': 64, 'num_workers': 12}, 'solver': {'num_epochs': 50, 'epoch_length': 128, 'checkpoint_every': 500, 'validate_every': 1, 'resume_from': None, 'optimizer': {'cls': 'torch.optim.SGD', 'params': {'lr': 0.1, 'momentum': 0.9, 'weight_decay': 0.0001, 'nesterov': False}, 'param_groups': {'lr': 0.03, 'momentum': 0.9, 'weight_decay': 0.0001, 'nesterov': False}}, 'supervised_criterion': {'cls': 'torch.nn.CrossEntropyLoss'}, 'lr_scheduler': {'cls': 'torch.optim.lr_scheduler.CosineAnnealingLR', 'params': {'eta_min': 0.0, 'T_max': None}, 'param_groups': {'eta_min': 0.0, 'T_max': None}}, 'unsupervised_criterion': {'cls': 'torch.nn.CrossEntropyLoss', 'params': {'reduction': 'none'}}}, 'ssl': {'num_train_samples_per_class': 25, 'confidence_threshold': 0.7, 'lambda_u': 1.0, 'mu_ratio': 7, 'cta_update_every': 15}, 'name': 'fixmatch', 'seed': 543, 'debug': False, 'model': 'resnet18', 'num_classes': 10, 'ema_decay': 0.9, 'distributed': {'backend': 'xla-tpu', 'nproc_per_node': 8}, 'online_exp_tracking': {'wandb': True}}\n",
            "Files already downloaded and verified\n",
            "Files already downloaded and verified\n",
            "Files already downloaded and verified\n",
            "Files already downloaded and verified\n",
            "Files already downloaded and verified\n",
            "Files already downloaded and verified\n",
            "Files already downloaded and verified\n",
            "Files already downloaded and verified\n",
            "Files already downloaded and verified\n",
            "Files already downloaded and verified\n",
            "2021-06-17 04:32:04,421 ignite.distributed.auto.auto_dataloader INFO: Use data loader kwargs for dataset '<dataflow.Transforme': \n",
            "\t{'batch_size': 8, 'num_workers': 6, 'pin_memory': False, 'drop_last': True, 'sampler': <torch.utils.data.distributed.DistributedSampler object at 0x7f4d56328510>}\n",
            "2021-06-17 04:32:04,421 ignite.distributed.auto.auto_dataloader INFO: DataLoader is wrapped by `MpDeviceLoader` on XLA\n",
            "Files already downloaded and verified\n",
            "Files already downloaded and verified\n",
            "Files already downloaded and verified\n",
            "Files already downloaded and verified\n",
            "Files already downloaded and verified\n",
            "Files already downloaded and verified\n",
            "Files already downloaded and verified\n",
            "Files already downloaded and verified\n",
            "2021-06-17 04:32:08,930 ignite.distributed.auto.auto_dataloader INFO: Use data loader kwargs for dataset '<dataflow.Transforme': \n",
            "\t{'batch_size': 8, 'num_workers': 2, 'pin_memory': False, 'drop_last': False, 'sampler': <torch.utils.data.distributed.DistributedSampler object at 0x7f4d56376090>}\n",
            "2021-06-17 04:32:08,932 ignite.distributed.auto.auto_dataloader INFO: DataLoader is wrapped by `MpDeviceLoader` on XLA\n",
            "Files already downloaded and verified\n",
            "Files already downloaded and verified\n",
            "Files already downloaded and verified\n",
            "Files already downloaded and verified\n",
            "Files already downloaded and verified\n",
            "Files already downloaded and verified\n",
            "Files already downloaded and verified\n",
            "Files already downloaded and verified\n",
            "2021-06-17 04:32:15,337 ignite.distributed.auto.auto_dataloader INFO: Use data loader kwargs for dataset '<dataflow.Transforme': \n",
            "\t{'batch_size': 56, 'num_workers': 6, 'drop_last': True, 'pin_memory': False, 'sampler': <torch.utils.data.distributed.DistributedSampler object at 0x7f4d562b8250>}\n",
            "2021-06-17 04:32:15,337 ignite.distributed.auto.auto_dataloader INFO: DataLoader is wrapped by `MpDeviceLoader` on XLA\n",
            "Files already downloaded and verified\n",
            "Files already downloaded and verified\n",
            "Files already downloaded and verified\n",
            "Files already downloaded and verified\n",
            "Files already downloaded and verified\n",
            "Files already downloaded and verified\n",
            "Exception in device=TPU:7: 'DictConfig' object is not callable\n",
            "Traceback (most recent call last):\n",
            "  File \"/usr/local/lib/python3.7/dist-packages/torch_xla/distributed/xla_multiprocessing.py\", line 231, in _start_fn\n",
            "    fn(gindex, *args)\n",
            "  File \"/usr/local/lib/python3.7/dist-packages/ignite/distributed/comp_models/xla.py\", line 107, in _dist_worker_task_fn\n",
            "    fn(local_rank, *args, **kwargs_dict)\n",
            "  File \"main_fixmatch.py\", line 147, in training\n",
            "    cta_probe_loader=cta_probe_loader,\n",
            "  File \"/content/FixMatch-pytorch/trainers/basic.py\", line 64, in create_trainer\n",
            "    clear_cuda_cache=False,\n",
            "  File \"/usr/local/lib/python3.7/dist-packages/ignite/contrib/engines/common.py\", line 108, in setup_common_training_handlers\n",
            "    **kwargs,\n",
            "  File \"/usr/local/lib/python3.7/dist-packages/ignite/contrib/engines/common.py\", line 258, in _setup_common_distrib_training_handlers\n",
            "    **kwargs,\n",
            "  File \"/usr/local/lib/python3.7/dist-packages/ignite/contrib/engines/common.py\", line 171, in _setup_common_training_handlers\n",
            "    trainer.add_event_handler(Events.ITERATION_STARTED, lr_scheduler)\n",
            "  File \"/usr/local/lib/python3.7/dist-packages/ignite/engine/engine.py\", line 308, in add_event_handler\n",
            "    _check_signature(handler, \"handler\", self, *(event_args + args), **kwargs)\n",
            "  File \"/usr/local/lib/python3.7/dist-packages/ignite/engine/utils.py\", line 8, in _check_signature\n",
            "    signature = inspect.signature(fn._parent())  # type: ignore[attr-defined]\n",
            "TypeError: 'DictConfig' object is not callable\n",
            "Exception in device=TPU:6: 'DictConfig' object is not callable\n",
            "Traceback (most recent call last):\n",
            "  File \"/usr/local/lib/python3.7/dist-packages/torch_xla/distributed/xla_multiprocessing.py\", line 231, in _start_fn\n",
            "    fn(gindex, *args)\n",
            "  File \"/usr/local/lib/python3.7/dist-packages/ignite/distributed/comp_models/xla.py\", line 107, in _dist_worker_task_fn\n",
            "    fn(local_rank, *args, **kwargs_dict)\n",
            "  File \"main_fixmatch.py\", line 147, in training\n",
            "    cta_probe_loader=cta_probe_loader,\n",
            "  File \"/content/FixMatch-pytorch/trainers/basic.py\", line 64, in create_trainer\n",
            "    clear_cuda_cache=False,\n",
            "  File \"/usr/local/lib/python3.7/dist-packages/ignite/contrib/engines/common.py\", line 108, in setup_common_training_handlers\n",
            "    **kwargs,\n",
            "  File \"/usr/local/lib/python3.7/dist-packages/ignite/contrib/engines/common.py\", line 258, in _setup_common_distrib_training_handlers\n",
            "    **kwargs,\n",
            "  File \"/usr/local/lib/python3.7/dist-packages/ignite/contrib/engines/common.py\", line 171, in _setup_common_training_handlers\n",
            "    trainer.add_event_handler(Events.ITERATION_STARTED, lr_scheduler)\n",
            "  File \"/usr/local/lib/python3.7/dist-packages/ignite/engine/engine.py\", line 308, in add_event_handler\n",
            "    _check_signature(handler, \"handler\", self, *(event_args + args), **kwargs)\n",
            "  File \"/usr/local/lib/python3.7/dist-packages/ignite/engine/utils.py\", line 8, in _check_signature\n",
            "    signature = inspect.signature(fn._parent())  # type: ignore[attr-defined]\n",
            "TypeError: 'DictConfig' object is not callable\n",
            "Exception in device=TPU:1: 'DictConfig' object is not callable\n",
            "Traceback (most recent call last):\n",
            "  File \"/usr/local/lib/python3.7/dist-packages/torch_xla/distributed/xla_multiprocessing.py\", line 231, in _start_fn\n",
            "    fn(gindex, *args)\n",
            "  File \"/usr/local/lib/python3.7/dist-packages/ignite/distributed/comp_models/xla.py\", line 107, in _dist_worker_task_fn\n",
            "    fn(local_rank, *args, **kwargs_dict)\n",
            "  File \"main_fixmatch.py\", line 147, in training\n",
            "    cta_probe_loader=cta_probe_loader,\n",
            "  File \"/content/FixMatch-pytorch/trainers/basic.py\", line 64, in create_trainer\n",
            "    clear_cuda_cache=False,\n",
            "  File \"/usr/local/lib/python3.7/dist-packages/ignite/contrib/engines/common.py\", line 108, in setup_common_training_handlers\n",
            "    **kwargs,\n",
            "  File \"/usr/local/lib/python3.7/dist-packages/ignite/contrib/engines/common.py\", line 258, in _setup_common_distrib_training_handlers\n",
            "    **kwargs,\n",
            "  File \"/usr/local/lib/python3.7/dist-packages/ignite/contrib/engines/common.py\", line 171, in _setup_common_training_handlers\n",
            "    trainer.add_event_handler(Events.ITERATION_STARTED, lr_scheduler)\n",
            "  File \"/usr/local/lib/python3.7/dist-packages/ignite/engine/engine.py\", line 308, in add_event_handler\n",
            "    _check_signature(handler, \"handler\", self, *(event_args + args), **kwargs)\n",
            "  File \"/usr/local/lib/python3.7/dist-packages/ignite/engine/utils.py\", line 8, in _check_signature\n",
            "    signature = inspect.signature(fn._parent())  # type: ignore[attr-defined]\n",
            "TypeError: 'DictConfig' object is not callable\n",
            "Exception in device=TPU:4: 'DictConfig' object is not callable\n",
            "Traceback (most recent call last):\n",
            "  File \"/usr/local/lib/python3.7/dist-packages/torch_xla/distributed/xla_multiprocessing.py\", line 231, in _start_fn\n",
            "    fn(gindex, *args)\n",
            "  File \"/usr/local/lib/python3.7/dist-packages/ignite/distributed/comp_models/xla.py\", line 107, in _dist_worker_task_fn\n",
            "    fn(local_rank, *args, **kwargs_dict)\n",
            "  File \"main_fixmatch.py\", line 147, in training\n",
            "    cta_probe_loader=cta_probe_loader,\n",
            "  File \"/content/FixMatch-pytorch/trainers/basic.py\", line 64, in create_trainer\n",
            "    clear_cuda_cache=False,\n",
            "  File \"/usr/local/lib/python3.7/dist-packages/ignite/contrib/engines/common.py\", line 108, in setup_common_training_handlers\n",
            "    **kwargs,\n",
            "  File \"/usr/local/lib/python3.7/dist-packages/ignite/contrib/engines/common.py\", line 258, in _setup_common_distrib_training_handlers\n",
            "    **kwargs,\n",
            "  File \"/usr/local/lib/python3.7/dist-packages/ignite/contrib/engines/common.py\", line 171, in _setup_common_training_handlers\n",
            "    trainer.add_event_handler(Events.ITERATION_STARTED, lr_scheduler)\n",
            "  File \"/usr/local/lib/python3.7/dist-packages/ignite/engine/engine.py\", line 308, in add_event_handler\n",
            "    _check_signature(handler, \"handler\", self, *(event_args + args), **kwargs)\n",
            "  File \"/usr/local/lib/python3.7/dist-packages/ignite/engine/utils.py\", line 8, in _check_signature\n",
            "    signature = inspect.signature(fn._parent())  # type: ignore[attr-defined]\n",
            "TypeError: 'DictConfig' object is not callable\n",
            "Error executing job with overrides: ['distributed.backend=xla-tpu', 'distributed.nproc_per_node=8', 'online_exp_tracking.wandb=true', 'solver.num_epochs=50', 'ssl.confidence_threshold=0.7', 'ema_decay=0.9', 'ssl.cta_update_every=15', 'solver.optimizer.params.lr=0.1']\n",
            "Traceback (most recent call last):\n",
            "  File \"main_fixmatch.py\", line 211, in main\n",
            "    parallel.run(training, cfg)\n",
            "  File \"/usr/local/lib/python3.7/dist-packages/ignite/distributed/launcher.py\", line 307, in run\n",
            "    idist.spawn(self.backend, func, args=args, kwargs_dict=kwargs, **self._spawn_params)\n",
            "  File \"/usr/local/lib/python3.7/dist-packages/ignite/distributed/utils.py\", line 324, in spawn\n",
            "    fn, args=args, kwargs_dict=kwargs_dict, nproc_per_node=nproc_per_node, backend=backend, **kwargs\n",
            "  File \"/usr/local/lib/python3.7/dist-packages/ignite/distributed/comp_models/xla.py\", line 128, in spawn\n",
            "    **kwargs,\n",
            "  File \"/usr/local/lib/python3.7/dist-packages/torch_xla/distributed/xla_multiprocessing.py\", line 296, in spawn\n",
            "    start_method=start_method)\n",
            "  File \"/usr/local/lib/python3.7/dist-packages/torch/multiprocessing/spawn.py\", line 158, in start_processes\n",
            "    while not context.join():\n",
            "  File \"/usr/local/lib/python3.7/dist-packages/torch/multiprocessing/spawn.py\", line 113, in join\n",
            "    (error_index, exitcode)\n",
            "Exception: process 7 terminated with exit code 17\n",
            "\n",
            "Set the environment variable HYDRA_FULL_ERROR=1 for a complete stack trace.\n"
          ],
          "name": "stdout"
        }
      ]
    },
    {
      "cell_type": "code",
      "metadata": {
        "id": "cm9LrTRbPI2L"
      },
      "source": [
        ""
      ],
      "execution_count": null,
      "outputs": []
    },
    {
      "cell_type": "markdown",
      "metadata": {
        "id": "msMIIkIWDddp"
      },
      "source": [
        "### Let's train WRN-28-2 model"
      ]
    },
    {
      "cell_type": "code",
      "metadata": {
        "id": "viaP4TVVdGaV"
      },
      "source": [
        "!cd FixMatch-pytorch && export PYTHONPATH=$PWD:$PYTHONPATH && \\\n",
        "  python -u main_fixmatch.py model=WRN-28-2 distributed.backend=xla-tpu distributed.nproc_per_node=8 online_exp_tracking.wandb=true"
      ],
      "execution_count": null,
      "outputs": []
    },
    {
      "cell_type": "code",
      "metadata": {
        "id": "7MK5SvZ7DkV4"
      },
      "source": [
        ""
      ],
      "execution_count": null,
      "outputs": []
    }
  ]
}