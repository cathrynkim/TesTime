{
  "nbformat": 4,
  "nbformat_minor": 0,
  "metadata": {
    "colab": {
      "provenance": [],
      "authorship_tag": "ABX9TyOf6FlNE2fA6FywB0jjOElg",
      "include_colab_link": true
    },
    "kernelspec": {
      "name": "python3",
      "display_name": "Python 3"
    },
    "language_info": {
      "name": "python"
    }
  },
  "cells": [
    {
      "cell_type": "markdown",
      "metadata": {
        "id": "view-in-github",
        "colab_type": "text"
      },
      "source": [
        "<a href=\"https://colab.research.google.com/github/secutron/TesTime/blob/main/test_chatgpt_api.ipynb\" target=\"_parent\"><img src=\"https://colab.research.google.com/assets/colab-badge.svg\" alt=\"Open In Colab\"/></a>"
      ]
    },
    {
      "cell_type": "markdown",
      "source": [
        "# ChatGPT api 테스트 **"
      ],
      "metadata": {
        "id": "Phk7Is6r_NCs"
      }
    },
    {
      "cell_type": "markdown",
      "source": [
        "#주의!\n",
        "- 쿼터 소진 등의 경우 아래와 같은 메시지를 반환합니다.\n",
        "\n",
        "   - ***RateLimitError: You exceeded your current quota, please check your plan and billing details.***\n",
        "   \n"
      ],
      "metadata": {
        "id": "v0_xf7NsJ3oc"
      }
    },
    {
      "cell_type": "markdown",
      "source": [
        "## openai 패키지 설치"
      ],
      "metadata": {
        "id": "K2TOEU_zEbzL"
      }
    },
    {
      "cell_type": "code",
      "source": [
        "!pip install openai==0.27.0"
      ],
      "metadata": {
        "id": "7djkN6xREWjQ"
      },
      "execution_count": null,
      "outputs": []
    },
    {
      "cell_type": "markdown",
      "source": [
        "## 패키지 import"
      ],
      "metadata": {
        "id": "Uveqkc60EjZ2"
      }
    },
    {
      "cell_type": "code",
      "execution_count": null,
      "metadata": {
        "id": "K7HxybfzELB6"
      },
      "outputs": [],
      "source": [
        "import openai"
      ]
    },
    {
      "cell_type": "markdown",
      "source": [
        "## api key 불러오기"
      ],
      "metadata": {
        "id": "CjT_tl63FEAz"
      }
    },
    {
      "cell_type": "markdown",
      "source": [
        "- 키 보호를 위해 구글 드라이브로부터 읽어오도록 설정함 "
      ],
      "metadata": {
        "id": "Tve0KS_lGgd9"
      }
    },
    {
      "cell_type": "code",
      "source": [
        "import os\n",
        "from google.colab import drive\n",
        "\n",
        "ROOT = \"/content/gdrive\"\n",
        "drive.mount(ROOT)"
      ],
      "metadata": {
        "id": "CLaJFxWYEL2R"
      },
      "execution_count": null,
      "outputs": []
    },
    {
      "cell_type": "code",
      "source": [
        "f = open(\"/content/gdrive/MyDrive/secutron_chatgpt_key.txt\", \"r\")\n",
        "API_KEY = f.readline()\n",
        "f.close()"
      ],
      "metadata": {
        "id": "pRJJS1y8Fcaq"
      },
      "execution_count": null,
      "outputs": []
    },
    {
      "cell_type": "code",
      "source": [
        "# API_KEY = \"API 키 직접 입력력\""
      ],
      "metadata": {
        "id": "eXX60wDG2gU_"
      },
      "execution_count": null,
      "outputs": []
    },
    {
      "cell_type": "code",
      "source": [
        "os.environ['OPENAI_API_KEY'] = API_KEY\n",
        "openai.api_key = os.getenv(\"OPENAI_API_KEY\")"
      ],
      "metadata": {
        "id": "maHpA633GsrS"
      },
      "execution_count": null,
      "outputs": []
    },
    {
      "cell_type": "markdown",
      "source": [
        "# api 호출 테스트"
      ],
      "metadata": {
        "id": "mhnAewGTG0i2"
      }
    },
    {
      "cell_type": "markdown",
      "source": [
        "- 테스트 1번"
      ],
      "metadata": {
        "id": "OC2UPiYGINtP"
      }
    },
    {
      "cell_type": "code",
      "source": [
        "messages = [\n",
        "    {\"role\": \"user\", \"content\": \"안녕?\"},\n",
        "]\n",
        "\n",
        "response = openai.ChatCompletion.create(\n",
        "    model = \"gpt-3.5-turbo\",\n",
        "    messages = messages\n",
        ") #user follow-up question or suggestion by the developer\n"
      ],
      "metadata": {
        "id": "6BP8ViH1GtWX"
      },
      "execution_count": null,
      "outputs": []
    },
    {
      "cell_type": "markdown",
      "source": [
        "- 결과"
      ],
      "metadata": {
        "id": "9FGIflbKHRVm"
      }
    },
    {
      "cell_type": "code",
      "source": [
        "print(response)"
      ],
      "metadata": {
        "id": "lbkHxhO6HMX4"
      },
      "execution_count": null,
      "outputs": []
    },
    {
      "cell_type": "markdown",
      "source": [
        "- 테스트 2번"
      ],
      "metadata": {
        "id": "fGoLujOxIVbN"
      }
    },
    {
      "cell_type": "code",
      "source": [
        "messages = [\n",
        "            {\"role\": \"system\", \"content\": \"너는 20대 여성 컨설턴트야.\"}, \n",
        "            {\"role\": \"user\", \"content\": \"만일 내가 50대 남성인데 안녕 이라고 너에게 인사한다면 어떤 인사를 해줄래?\"},\n",
        "        ]\n",
        "\n",
        "response = openai.ChatCompletion.create(\n",
        "    model = \"gpt-3.5-turbo\",\n",
        "    messages = messages\n",
        ")"
      ],
      "metadata": {
        "id": "Cfc2TJnQIdVI"
      },
      "execution_count": null,
      "outputs": []
    },
    {
      "cell_type": "markdown",
      "source": [
        "- 결과"
      ],
      "metadata": {
        "id": "ZTF8Z4KsIVNJ"
      }
    },
    {
      "cell_type": "code",
      "source": [
        "print(response)"
      ],
      "metadata": {
        "id": "0lpIbA4tJZm4"
      },
      "execution_count": null,
      "outputs": []
    }
  ]
}