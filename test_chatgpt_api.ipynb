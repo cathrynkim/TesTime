{
  "cells": [
    {
      "cell_type": "markdown",
      "metadata": {
        "colab_type": "text",
        "id": "view-in-github"
      },
      "source": [
        "<a href=\"https://colab.research.google.com/github/secutron/TesTime/blob/main/test_chatgpt_api.ipynb\" target=\"_parent\"><img src=\"https://colab.research.google.com/assets/colab-badge.svg\" alt=\"Open In Colab\"/></a>"
      ]
    },
    {
      "attachments": {},
      "cell_type": "markdown",
      "metadata": {
        "id": "Phk7Is6r_NCs"
      },
      "source": [
        "# ** ChatGPT api 테스트 "
      ]
    },
    {
      "cell_type": "markdown",
      "metadata": {
        "id": "v0_xf7NsJ3oc"
      },
      "source": [
        "#주의!\n",
        "- 쿼터 소진 등의 경우 아래와 같은 메시지를 반환합니다.\n",
        "\n",
        "   - ***RateLimitError: You exceeded your current quota, please check your plan and billing details.***\n",
        "   \n"
      ]
    },
    {
      "cell_type": "markdown",
      "metadata": {},
      "source": []
    },
    {
      "cell_type": "markdown",
      "metadata": {
        "id": "K2TOEU_zEbzL"
      },
      "source": [
        "## openai 패키지 설치"
      ]
    },
    {
      "cell_type": "code",
      "execution_count": null,
      "metadata": {
        "id": "7djkN6xREWjQ"
      },
      "outputs": [],
      "source": [
        "!pip install openai==0.27.0"
      ]
    },
    {
      "cell_type": "markdown",
      "metadata": {
        "id": "Uveqkc60EjZ2"
      },
      "source": [
        "## 패키지 import"
      ]
    },
    {
      "cell_type": "code",
      "execution_count": null,
      "metadata": {
        "id": "K7HxybfzELB6"
      },
      "outputs": [],
      "source": [
        "import openai"
      ]
    },
    {
      "cell_type": "markdown",
      "metadata": {
        "id": "CjT_tl63FEAz"
      },
      "source": [
        "## api key 불러오기"
      ]
    },
    {
      "cell_type": "markdown",
      "metadata": {
        "id": "Tve0KS_lGgd9"
      },
      "source": [
        "- 키 보호를 위해 구글 드라이브로부터 읽어오도록 설정함 "
      ]
    },
    {
      "cell_type": "code",
      "execution_count": null,
      "metadata": {
        "id": "CLaJFxWYEL2R"
      },
      "outputs": [],
      "source": [
        "import os\n",
        "from google.colab import drive\n",
        "\n",
        "ROOT = \"/content/gdrive\"\n",
        "drive.mount(ROOT)"
      ]
    },
    {
      "cell_type": "code",
      "execution_count": null,
      "metadata": {
        "id": "pRJJS1y8Fcaq"
      },
      "outputs": [],
      "source": [
        "f = open(\"/content/gdrive/MyDrive/secutron_chatgpt_key.txt\", \"r\")\n",
        "API_KEY = f.readline()\n",
        "f.close()"
      ]
    },
    {
      "cell_type": "code",
      "execution_count": null,
      "metadata": {
        "id": "eXX60wDG2gU_"
      },
      "outputs": [],
      "source": [
        "# API_KEY = \"API 키 직접 입력력\""
      ]
    },
    {
      "cell_type": "code",
      "execution_count": null,
      "metadata": {
        "id": "maHpA633GsrS"
      },
      "outputs": [],
      "source": [
        "os.environ['OPENAI_API_KEY'] = API_KEY\n",
        "openai.api_key = os.getenv(\"OPENAI_API_KEY\")"
      ]
    },
    {
      "cell_type": "markdown",
      "metadata": {
        "id": "mhnAewGTG0i2"
      },
      "source": [
        "# api 호출 테스트"
      ]
    },
    {
      "cell_type": "markdown",
      "metadata": {
        "id": "OC2UPiYGINtP"
      },
      "source": [
        "- 테스트 1번"
      ]
    },
    {
      "cell_type": "code",
      "execution_count": null,
      "metadata": {
        "id": "6BP8ViH1GtWX"
      },
      "outputs": [],
      "source": [
        "messages = [\n",
        "    {\"role\": \"user\", \"content\": \"안녕?\"},\n",
        "]\n",
        "\n",
        "response = openai.ChatCompletion.create(\n",
        "    model = \"gpt-3.5-turbo\",\n",
        "    messages = messages\n",
        ") #user follow-up question or suggestion by the developer\n"
      ]
    },
    {
      "cell_type": "markdown",
      "metadata": {
        "id": "9FGIflbKHRVm"
      },
      "source": [
        "- 결과"
      ]
    },
    {
      "cell_type": "code",
      "execution_count": null,
      "metadata": {
        "id": "lbkHxhO6HMX4"
      },
      "outputs": [],
      "source": [
        "print(response)"
      ]
    },
    {
      "cell_type": "markdown",
      "metadata": {
        "id": "fGoLujOxIVbN"
      },
      "source": [
        "- 테스트 2번"
      ]
    },
    {
      "cell_type": "code",
      "execution_count": null,
      "metadata": {
        "id": "Cfc2TJnQIdVI"
      },
      "outputs": [],
      "source": [
        "messages = [\n",
        "            {\"role\": \"system\", \"content\": \"너는 20대 여성 컨설턴트야.\"}, \n",
        "            {\"role\": \"user\", \"content\": \"만일 내가 50대 남성인데 안녕 이라고 너에게 인사한다면 어떤 인사를 해줄래?\"},\n",
        "        ]\n",
        "\n",
        "response = openai.ChatCompletion.create(\n",
        "    model = \"gpt-3.5-turbo\",\n",
        "    messages = messages\n",
        ")"
      ]
    },
    {
      "cell_type": "markdown",
      "metadata": {
        "id": "ZTF8Z4KsIVNJ"
      },
      "source": [
        "- 결과"
      ]
    },
    {
      "cell_type": "code",
      "execution_count": null,
      "metadata": {
        "id": "0lpIbA4tJZm4"
      },
      "outputs": [],
      "source": [
        "print(response)"
      ]
    }
  ],
  "metadata": {
    "colab": {
      "authorship_tag": "ABX9TyMlSebemxivF2Bp/6V4BP++",
      "include_colab_link": true,
      "provenance": []
    },
    "kernelspec": {
      "display_name": "Python 3",
      "name": "python3"
    },
    "language_info": {
      "name": "python"
    }
  },
  "nbformat": 4,
  "nbformat_minor": 0
}
