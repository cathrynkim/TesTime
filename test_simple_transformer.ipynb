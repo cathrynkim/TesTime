{
  "metadata": {
    "language_info": {
      "codemirror_mode": {
        "name": "ipython",
        "version": 3
      },
      "file_extension": ".py",
      "mimetype": "text/x-python",
      "name": "python",
      "nbconvert_exporter": "python",
      "pygments_lexer": "ipython3",
      "version": "3.6.8-final"
    },
    "orig_nbformat": 2,
    "kernelspec": {
      "name": "python3",
      "display_name": "Python 3.6.8 64-bit ('torch': conda)",
      "metadata": {
        "interpreter": {
          "hash": "dec07700a42e8f7bf9194d93f214643bfcd7b0c2f0585fcb6b708716d7668b22"
        }
      }
    },
    "colab": {
      "provenance": [],
      "include_colab_link": true
    }
  },
  "nbformat": 4,
  "nbformat_minor": 0,
  "cells": [
    {
      "cell_type": "markdown",
      "metadata": {
        "id": "view-in-github",
        "colab_type": "text"
      },
      "source": [
        "<a href=\"https://colab.research.google.com/github/secutron/TesTime/blob/main/test_simple_transformer.ipynb\" target=\"_parent\"><img src=\"https://colab.research.google.com/assets/colab-badge.svg\" alt=\"Open In Colab\"/></a>"
      ]
    },
    {
      "cell_type": "code",
      "execution_count": 7,
      "metadata": {
        "id": "f-E07ckqFYc2",
        "outputId": "0f6a0e81-e483-42ae-ad6d-5b98d1b8b892",
        "colab": {
          "base_uri": "https://localhost:8080/"
        }
      },
      "outputs": [
        {
          "output_type": "stream",
          "name": "stdout",
          "text": [
            "cpu\n"
          ]
        }
      ],
      "source": [
        "import torch\n",
        "import torch.nn as nn\n",
        "import torch.optim as optim\n",
        "import torch.nn.functional as F \n",
        "\n",
        "import math\n",
        "import numpy as np \n",
        "import random\n",
        "\n",
        "#import visdom\n",
        "\n",
        "device = torch.device('cuda' if torch.cuda.is_available() else 'cpu')\n",
        "print(device)\n",
        "\n",
        "#vis = visdom.Visdom()"
      ]
    },
    {
      "cell_type": "code",
      "source": [
        "test = torch.rand((10, 32, 512))\n",
        "print(test[0].shape)\n",
        "print(test[0])\n",
        "print(test[0][0][0])\n",
        "print(test[0][0][1])\n",
        "print(test[0][0][0])"
      ],
      "metadata": {
        "id": "Fth-K5VtBI3H",
        "outputId": "31171978-d531-4af4-8604-1865a8655111",
        "colab": {
          "base_uri": "https://localhost:8080/"
        }
      },
      "execution_count": 8,
      "outputs": [
        {
          "output_type": "stream",
          "name": "stdout",
          "text": [
            "torch.Size([32, 512])\n",
            "tensor([[0.7375, 0.3450, 0.8279,  ..., 0.6848, 0.1344, 0.9631],\n",
            "        [0.7574, 0.5396, 0.6970,  ..., 0.9857, 0.5977, 0.1941],\n",
            "        [0.6836, 0.3459, 0.9136,  ..., 0.0622, 0.0353, 0.2817],\n",
            "        ...,\n",
            "        [0.3039, 0.0235, 0.1730,  ..., 0.3120, 0.5535, 0.0482],\n",
            "        [0.1764, 0.2989, 0.9795,  ..., 0.5931, 0.3994, 0.7647],\n",
            "        [0.8492, 0.1733, 0.2576,  ..., 0.6306, 0.0979, 0.0671]])\n",
            "tensor(0.7375)\n",
            "tensor(0.3450)\n",
            "tensor(0.7375)\n"
          ]
        }
      ]
    },
    {
      "cell_type": "markdown",
      "source": [
        "nn.Transfomer : https://pytorch.org/docs/stable/generated/torch.nn.Transformer.html#transformer\n",
        "\n",
        "디폴트값:\n",
        "\n",
        "    d_model=512, \n",
        "    nhead=8, \n",
        "    num_encoder_layers=6, \n",
        "    num_decoder_layers=6, \n",
        "    dim_feedforward=2048, \n",
        "    dropout=0.1, \n",
        "    activation=<function relu>, \n",
        "    custom_encoder=None, \n",
        "    custom_decoder=None, \n",
        "    layer_norm_eps=1e-05, \n",
        "    batch_first=False, \n",
        "    norm_first=False, \n",
        "    device=None, \n",
        "    dtype=None"
      ],
      "metadata": {
        "id": "cWggSekqCYo4"
      }
    },
    {
      "cell_type": "code",
      "execution_count": 9,
      "metadata": {
        "id": "xjcceDupFYc6"
      },
      "outputs": [],
      "source": [
        "class Transformer(nn.Module):\n",
        "    def __init__(self, num_tokens, dim_model, num_heads, num_encoder_layers, num_decoder_layers, dropout_p, ):\n",
        "        super().__init__()\n",
        "\n",
        "        # Layers\n",
        "        self.transformer = nn.Transformer(\n",
        "            d_model=dim_model,\n",
        "            nhead=num_heads,\n",
        "            num_encoder_layers=num_encoder_layers,\n",
        "            num_decoder_layers=num_decoder_layers,\n",
        "            dropout=dropout_p,\n",
        "        )\n",
        "\n",
        "    def forward(self):\n",
        "        pass"
      ]
    },
    {
      "cell_type": "markdown",
      "source": [
        "# 포지셔널 인코딩"
      ],
      "metadata": {
        "id": "aFfOk76DEtoH"
      }
    },
    {
      "cell_type": "markdown",
      "source": [
        "![제목 없음.png](data:image/png;base64,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)\n"
      ],
      "metadata": {
        "id": "6YSl9BBiDvgP"
      }
    },
    {
      "cell_type": "markdown",
      "source": [
        "self.register_buffer(\"pos_encoding\", pos_encoding)\n",
        "\n",
        "- register_buffer로 layer를 등록하면 optimizer가 업데이트 하지 않는다."
      ],
      "metadata": {
        "id": "6fzZo7ukEsdK"
      }
    },
    {
      "cell_type": "code",
      "execution_count": null,
      "metadata": {
        "id": "E24GhLDvFYc7"
      },
      "outputs": [],
      "source": [
        "class PositionalEncoding(nn.Module):\n",
        "    def __init__(self, dim_model, dropout_p, max_len):\n",
        "        super().__init__()\n",
        "        \n",
        "        self.dropout = nn.Dropout(dropout_p)\n",
        "\n",
        "        # Encoding - From formula\n",
        "        pos_encoding = torch.zeros(max_len, dim_model)\n",
        "        positions_list = torch.arange(0, max_len, dtype=torch.float).view(-1, 1) # 0, 1, 2, 3, 4, 5\n",
        "        division_term = torch.exp(torch.arange(0, dim_model, 2).float() * (-math.log(10000.0)) / dim_model) # 1000^(2i/dim_model)\n",
        "\n",
        "        pos_encoding[:, 0::2] = torch.sin(positions_list * division_term)\n",
        "        pos_encoding[:, 1::2] = torch.cos(positions_list * division_term)\n",
        "\n",
        "        # Saving buffer (same as parameter without gradients needed)\n",
        "        pos_encoding = pos_encoding.unsqueeze(0).transpose(0, 1)\n",
        "        self.register_buffer(\"pos_encoding\", pos_encoding)\n",
        "\n",
        "    def forward(self, token_embedding: torch.tensor) -> torch.tensor:\n",
        "        # Residual connection + pos encoding\n",
        "        return self.dropout(token_embedding + self.pos_encoding[:token_embedding.size(0), :])                      \n",
        "                                    "
      ]
    },
    {
      "cell_type": "code",
      "execution_count": null,
      "metadata": {
        "id": "99tn-e8nFYc8"
      },
      "outputs": [],
      "source": [
        "model = fxnnxc().to(device)\n",
        "criterion = torch.nn.CrossEntropyLoss()\n",
        "optimizer = torch.optim.Adam(model.parameters(), lr=1e-4)\n",
        "\n",
        "EPOCH = 1\n",
        "c = 0\n",
        "for t in range(EPOCH): # EPOCH\n",
        "    for i, (sample, target) in enumerate(train_loader): #BATCH\n",
        "        sample = sample.to(device)\n",
        "        target = target.to(device)\n",
        "        y = model(sample)\n",
        "\n",
        "        loss = criterion(y, target)\n",
        "\n",
        "        optimizer.zero_grad()\n",
        "        loss.backward()\n",
        "        optimizer.step()\n",
        "        \n",
        "        vis.line(X=[c], Y=[loss.item()], win=\"loss\",name=\"TransformerEncoder\" , \n",
        "                    update='append',opts=dict(showlegend=True))\n",
        "        c+=1"
      ]
    },
    {
      "cell_type": "code",
      "execution_count": null,
      "metadata": {
        "id": "K45m4CRuFYc8",
        "outputId": "6685d1a7-6ad4-4e95-c44a-8761d5a14cd5"
      },
      "outputs": [
        {
          "output_type": "stream",
          "name": "stdout",
          "text": [
            "87.03999999999999\n"
          ]
        }
      ],
      "source": [
        "# Test\n",
        "\n",
        "correct = 0\n",
        "total = 0\n",
        "with torch.no_grad(): \n",
        "    for data in test_loader:\n",
        "        images, labels = data\n",
        "        images = images.to(device)\n",
        "        labels = labels.to(device)\n",
        "        outputs = model(images)\n",
        "        _, predicted = torch.max(outputs.data, 1)\n",
        "        total += labels.size(0)\n",
        "        correct += (predicted == labels).sum().item()\n",
        "\n",
        "print(correct/total*100)"
      ]
    },
    {
      "cell_type": "code",
      "execution_count": null,
      "metadata": {
        "id": "SQnTzb6fFYc9"
      },
      "outputs": [],
      "source": []
    },
    {
      "cell_type": "code",
      "execution_count": null,
      "metadata": {
        "id": "dgbyMa7mFYc9"
      },
      "outputs": [],
      "source": []
    }
  ]
}