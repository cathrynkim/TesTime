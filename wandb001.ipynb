{
  "nbformat": 4,
  "nbformat_minor": 0,
  "metadata": {
    "colab": {
      "name": "wandb001.ipynb",
      "provenance": [],
      "authorship_tag": "ABX9TyOu1VXbAIQzwEzHZu44vyeu",
      "include_colab_link": true
    },
    "kernelspec": {
      "name": "python3",
      "display_name": "Python 3"
    },
    "language_info": {
      "name": "python"
    },
    "accelerator": "GPU"
  },
  "cells": [
    {
      "cell_type": "markdown",
      "metadata": {
        "id": "view-in-github",
        "colab_type": "text"
      },
      "source": [
        "<a href=\"https://colab.research.google.com/github/secutron/TesTime/blob/main/wandb001.ipynb\" target=\"_parent\"><img src=\"https://colab.research.google.com/assets/colab-badge.svg\" alt=\"Open In Colab\"/></a>"
      ]
    },
    {
      "cell_type": "code",
      "metadata": {
        "id": "S7vrgyo8dklW",
        "outputId": "4bd1e880-99b7-4905-f6c6-bef84222a4a1",
        "colab": {
          "base_uri": "https://localhost:8080/"
        }
      },
      "source": [
        "!pip install wandb"
      ],
      "execution_count": 1,
      "outputs": [
        {
          "output_type": "stream",
          "name": "stdout",
          "text": [
            "Collecting wandb\n",
            "  Downloading wandb-0.12.4-py2.py3-none-any.whl (1.7 MB)\n",
            "\u001b[?25l\r\u001b[K     |▏                               | 10 kB 22.0 MB/s eta 0:00:01\r\u001b[K     |▍                               | 20 kB 26.9 MB/s eta 0:00:01\r\u001b[K     |▋                               | 30 kB 23.8 MB/s eta 0:00:01\r\u001b[K     |▉                               | 40 kB 18.2 MB/s eta 0:00:01\r\u001b[K     |█                               | 51 kB 8.9 MB/s eta 0:00:01\r\u001b[K     |█▏                              | 61 kB 10.3 MB/s eta 0:00:01\r\u001b[K     |█▍                              | 71 kB 9.7 MB/s eta 0:00:01\r\u001b[K     |█▋                              | 81 kB 10.7 MB/s eta 0:00:01\r\u001b[K     |█▉                              | 92 kB 8.2 MB/s eta 0:00:01\r\u001b[K     |██                              | 102 kB 8.7 MB/s eta 0:00:01\r\u001b[K     |██▏                             | 112 kB 8.7 MB/s eta 0:00:01\r\u001b[K     |██▍                             | 122 kB 8.7 MB/s eta 0:00:01\r\u001b[K     |██▋                             | 133 kB 8.7 MB/s eta 0:00:01\r\u001b[K     |██▊                             | 143 kB 8.7 MB/s eta 0:00:01\r\u001b[K     |███                             | 153 kB 8.7 MB/s eta 0:00:01\r\u001b[K     |███▏                            | 163 kB 8.7 MB/s eta 0:00:01\r\u001b[K     |███▍                            | 174 kB 8.7 MB/s eta 0:00:01\r\u001b[K     |███▋                            | 184 kB 8.7 MB/s eta 0:00:01\r\u001b[K     |███▊                            | 194 kB 8.7 MB/s eta 0:00:01\r\u001b[K     |████                            | 204 kB 8.7 MB/s eta 0:00:01\r\u001b[K     |████▏                           | 215 kB 8.7 MB/s eta 0:00:01\r\u001b[K     |████▍                           | 225 kB 8.7 MB/s eta 0:00:01\r\u001b[K     |████▋                           | 235 kB 8.7 MB/s eta 0:00:01\r\u001b[K     |████▊                           | 245 kB 8.7 MB/s eta 0:00:01\r\u001b[K     |█████                           | 256 kB 8.7 MB/s eta 0:00:01\r\u001b[K     |█████▏                          | 266 kB 8.7 MB/s eta 0:00:01\r\u001b[K     |█████▍                          | 276 kB 8.7 MB/s eta 0:00:01\r\u001b[K     |█████▌                          | 286 kB 8.7 MB/s eta 0:00:01\r\u001b[K     |█████▊                          | 296 kB 8.7 MB/s eta 0:00:01\r\u001b[K     |██████                          | 307 kB 8.7 MB/s eta 0:00:01\r\u001b[K     |██████▏                         | 317 kB 8.7 MB/s eta 0:00:01\r\u001b[K     |██████▍                         | 327 kB 8.7 MB/s eta 0:00:01\r\u001b[K     |██████▌                         | 337 kB 8.7 MB/s eta 0:00:01\r\u001b[K     |██████▊                         | 348 kB 8.7 MB/s eta 0:00:01\r\u001b[K     |███████                         | 358 kB 8.7 MB/s eta 0:00:01\r\u001b[K     |███████▏                        | 368 kB 8.7 MB/s eta 0:00:01\r\u001b[K     |███████▎                        | 378 kB 8.7 MB/s eta 0:00:01\r\u001b[K     |███████▌                        | 389 kB 8.7 MB/s eta 0:00:01\r\u001b[K     |███████▊                        | 399 kB 8.7 MB/s eta 0:00:01\r\u001b[K     |████████                        | 409 kB 8.7 MB/s eta 0:00:01\r\u001b[K     |████████▏                       | 419 kB 8.7 MB/s eta 0:00:01\r\u001b[K     |████████▎                       | 430 kB 8.7 MB/s eta 0:00:01\r\u001b[K     |████████▌                       | 440 kB 8.7 MB/s eta 0:00:01\r\u001b[K     |████████▊                       | 450 kB 8.7 MB/s eta 0:00:01\r\u001b[K     |█████████                       | 460 kB 8.7 MB/s eta 0:00:01\r\u001b[K     |█████████▏                      | 471 kB 8.7 MB/s eta 0:00:01\r\u001b[K     |█████████▎                      | 481 kB 8.7 MB/s eta 0:00:01\r\u001b[K     |█████████▌                      | 491 kB 8.7 MB/s eta 0:00:01\r\u001b[K     |█████████▊                      | 501 kB 8.7 MB/s eta 0:00:01\r\u001b[K     |██████████                      | 512 kB 8.7 MB/s eta 0:00:01\r\u001b[K     |██████████                      | 522 kB 8.7 MB/s eta 0:00:01\r\u001b[K     |██████████▎                     | 532 kB 8.7 MB/s eta 0:00:01\r\u001b[K     |██████████▌                     | 542 kB 8.7 MB/s eta 0:00:01\r\u001b[K     |██████████▊                     | 552 kB 8.7 MB/s eta 0:00:01\r\u001b[K     |███████████                     | 563 kB 8.7 MB/s eta 0:00:01\r\u001b[K     |███████████                     | 573 kB 8.7 MB/s eta 0:00:01\r\u001b[K     |███████████▎                    | 583 kB 8.7 MB/s eta 0:00:01\r\u001b[K     |███████████▌                    | 593 kB 8.7 MB/s eta 0:00:01\r\u001b[K     |███████████▊                    | 604 kB 8.7 MB/s eta 0:00:01\r\u001b[K     |███████████▉                    | 614 kB 8.7 MB/s eta 0:00:01\r\u001b[K     |████████████                    | 624 kB 8.7 MB/s eta 0:00:01\r\u001b[K     |████████████▎                   | 634 kB 8.7 MB/s eta 0:00:01\r\u001b[K     |████████████▌                   | 645 kB 8.7 MB/s eta 0:00:01\r\u001b[K     |████████████▊                   | 655 kB 8.7 MB/s eta 0:00:01\r\u001b[K     |████████████▉                   | 665 kB 8.7 MB/s eta 0:00:01\r\u001b[K     |█████████████                   | 675 kB 8.7 MB/s eta 0:00:01\r\u001b[K     |█████████████▎                  | 686 kB 8.7 MB/s eta 0:00:01\r\u001b[K     |█████████████▌                  | 696 kB 8.7 MB/s eta 0:00:01\r\u001b[K     |█████████████▊                  | 706 kB 8.7 MB/s eta 0:00:01\r\u001b[K     |█████████████▉                  | 716 kB 8.7 MB/s eta 0:00:01\r\u001b[K     |██████████████                  | 727 kB 8.7 MB/s eta 0:00:01\r\u001b[K     |██████████████▎                 | 737 kB 8.7 MB/s eta 0:00:01\r\u001b[K     |██████████████▌                 | 747 kB 8.7 MB/s eta 0:00:01\r\u001b[K     |██████████████▋                 | 757 kB 8.7 MB/s eta 0:00:01\r\u001b[K     |██████████████▉                 | 768 kB 8.7 MB/s eta 0:00:01\r\u001b[K     |███████████████                 | 778 kB 8.7 MB/s eta 0:00:01\r\u001b[K     |███████████████▎                | 788 kB 8.7 MB/s eta 0:00:01\r\u001b[K     |███████████████▌                | 798 kB 8.7 MB/s eta 0:00:01\r\u001b[K     |███████████████▋                | 808 kB 8.7 MB/s eta 0:00:01\r\u001b[K     |███████████████▉                | 819 kB 8.7 MB/s eta 0:00:01\r\u001b[K     |████████████████                | 829 kB 8.7 MB/s eta 0:00:01\r\u001b[K     |████████████████▎               | 839 kB 8.7 MB/s eta 0:00:01\r\u001b[K     |████████████████▍               | 849 kB 8.7 MB/s eta 0:00:01\r\u001b[K     |████████████████▋               | 860 kB 8.7 MB/s eta 0:00:01\r\u001b[K     |████████████████▉               | 870 kB 8.7 MB/s eta 0:00:01\r\u001b[K     |█████████████████               | 880 kB 8.7 MB/s eta 0:00:01\r\u001b[K     |█████████████████▎              | 890 kB 8.7 MB/s eta 0:00:01\r\u001b[K     |█████████████████▍              | 901 kB 8.7 MB/s eta 0:00:01\r\u001b[K     |█████████████████▋              | 911 kB 8.7 MB/s eta 0:00:01\r\u001b[K     |█████████████████▉              | 921 kB 8.7 MB/s eta 0:00:01\r\u001b[K     |██████████████████              | 931 kB 8.7 MB/s eta 0:00:01\r\u001b[K     |██████████████████▎             | 942 kB 8.7 MB/s eta 0:00:01\r\u001b[K     |██████████████████▍             | 952 kB 8.7 MB/s eta 0:00:01\r\u001b[K     |██████████████████▋             | 962 kB 8.7 MB/s eta 0:00:01\r\u001b[K     |██████████████████▉             | 972 kB 8.7 MB/s eta 0:00:01\r\u001b[K     |███████████████████             | 983 kB 8.7 MB/s eta 0:00:01\r\u001b[K     |███████████████████▏            | 993 kB 8.7 MB/s eta 0:00:01\r\u001b[K     |███████████████████▍            | 1.0 MB 8.7 MB/s eta 0:00:01\r\u001b[K     |███████████████████▋            | 1.0 MB 8.7 MB/s eta 0:00:01\r\u001b[K     |███████████████████▉            | 1.0 MB 8.7 MB/s eta 0:00:01\r\u001b[K     |████████████████████            | 1.0 MB 8.7 MB/s eta 0:00:01\r\u001b[K     |████████████████████▏           | 1.0 MB 8.7 MB/s eta 0:00:01\r\u001b[K     |████████████████████▍           | 1.1 MB 8.7 MB/s eta 0:00:01\r\u001b[K     |████████████████████▋           | 1.1 MB 8.7 MB/s eta 0:00:01\r\u001b[K     |████████████████████▉           | 1.1 MB 8.7 MB/s eta 0:00:01\r\u001b[K     |█████████████████████           | 1.1 MB 8.7 MB/s eta 0:00:01\r\u001b[K     |█████████████████████▏          | 1.1 MB 8.7 MB/s eta 0:00:01\r\u001b[K     |█████████████████████▍          | 1.1 MB 8.7 MB/s eta 0:00:01\r\u001b[K     |█████████████████████▋          | 1.1 MB 8.7 MB/s eta 0:00:01\r\u001b[K     |█████████████████████▉          | 1.1 MB 8.7 MB/s eta 0:00:01\r\u001b[K     |██████████████████████          | 1.1 MB 8.7 MB/s eta 0:00:01\r\u001b[K     |██████████████████████▏         | 1.1 MB 8.7 MB/s eta 0:00:01\r\u001b[K     |██████████████████████▍         | 1.2 MB 8.7 MB/s eta 0:00:01\r\u001b[K     |██████████████████████▋         | 1.2 MB 8.7 MB/s eta 0:00:01\r\u001b[K     |██████████████████████▉         | 1.2 MB 8.7 MB/s eta 0:00:01\r\u001b[K     |███████████████████████         | 1.2 MB 8.7 MB/s eta 0:00:01\r\u001b[K     |███████████████████████▏        | 1.2 MB 8.7 MB/s eta 0:00:01\r\u001b[K     |███████████████████████▍        | 1.2 MB 8.7 MB/s eta 0:00:01\r\u001b[K     |███████████████████████▋        | 1.2 MB 8.7 MB/s eta 0:00:01\r\u001b[K     |███████████████████████▊        | 1.2 MB 8.7 MB/s eta 0:00:01\r\u001b[K     |████████████████████████        | 1.2 MB 8.7 MB/s eta 0:00:01\r\u001b[K     |████████████████████████▏       | 1.2 MB 8.7 MB/s eta 0:00:01\r\u001b[K     |████████████████████████▍       | 1.3 MB 8.7 MB/s eta 0:00:01\r\u001b[K     |████████████████████████▋       | 1.3 MB 8.7 MB/s eta 0:00:01\r\u001b[K     |████████████████████████▊       | 1.3 MB 8.7 MB/s eta 0:00:01\r\u001b[K     |█████████████████████████       | 1.3 MB 8.7 MB/s eta 0:00:01\r\u001b[K     |█████████████████████████▏      | 1.3 MB 8.7 MB/s eta 0:00:01\r\u001b[K     |█████████████████████████▍      | 1.3 MB 8.7 MB/s eta 0:00:01\r\u001b[K     |█████████████████████████▋      | 1.3 MB 8.7 MB/s eta 0:00:01\r\u001b[K     |█████████████████████████▊      | 1.3 MB 8.7 MB/s eta 0:00:01\r\u001b[K     |██████████████████████████      | 1.3 MB 8.7 MB/s eta 0:00:01\r\u001b[K     |██████████████████████████▏     | 1.4 MB 8.7 MB/s eta 0:00:01\r\u001b[K     |██████████████████████████▍     | 1.4 MB 8.7 MB/s eta 0:00:01\r\u001b[K     |██████████████████████████▌     | 1.4 MB 8.7 MB/s eta 0:00:01\r\u001b[K     |██████████████████████████▊     | 1.4 MB 8.7 MB/s eta 0:00:01\r\u001b[K     |███████████████████████████     | 1.4 MB 8.7 MB/s eta 0:00:01\r\u001b[K     |███████████████████████████▏    | 1.4 MB 8.7 MB/s eta 0:00:01\r\u001b[K     |███████████████████████████▍    | 1.4 MB 8.7 MB/s eta 0:00:01\r\u001b[K     |███████████████████████████▌    | 1.4 MB 8.7 MB/s eta 0:00:01\r\u001b[K     |███████████████████████████▊    | 1.4 MB 8.7 MB/s eta 0:00:01\r\u001b[K     |████████████████████████████    | 1.4 MB 8.7 MB/s eta 0:00:01\r\u001b[K     |████████████████████████████▏   | 1.5 MB 8.7 MB/s eta 0:00:01\r\u001b[K     |████████████████████████████▎   | 1.5 MB 8.7 MB/s eta 0:00:01\r\u001b[K     |████████████████████████████▌   | 1.5 MB 8.7 MB/s eta 0:00:01\r\u001b[K     |████████████████████████████▊   | 1.5 MB 8.7 MB/s eta 0:00:01\r\u001b[K     |█████████████████████████████   | 1.5 MB 8.7 MB/s eta 0:00:01\r\u001b[K     |█████████████████████████████▏  | 1.5 MB 8.7 MB/s eta 0:00:01\r\u001b[K     |█████████████████████████████▎  | 1.5 MB 8.7 MB/s eta 0:00:01\r\u001b[K     |█████████████████████████████▌  | 1.5 MB 8.7 MB/s eta 0:00:01\r\u001b[K     |█████████████████████████████▊  | 1.5 MB 8.7 MB/s eta 0:00:01\r\u001b[K     |██████████████████████████████  | 1.5 MB 8.7 MB/s eta 0:00:01\r\u001b[K     |██████████████████████████████▏ | 1.6 MB 8.7 MB/s eta 0:00:01\r\u001b[K     |██████████████████████████████▎ | 1.6 MB 8.7 MB/s eta 0:00:01\r\u001b[K     |██████████████████████████████▌ | 1.6 MB 8.7 MB/s eta 0:00:01\r\u001b[K     |██████████████████████████████▊ | 1.6 MB 8.7 MB/s eta 0:00:01\r\u001b[K     |███████████████████████████████ | 1.6 MB 8.7 MB/s eta 0:00:01\r\u001b[K     |███████████████████████████████ | 1.6 MB 8.7 MB/s eta 0:00:01\r\u001b[K     |███████████████████████████████▎| 1.6 MB 8.7 MB/s eta 0:00:01\r\u001b[K     |███████████████████████████████▌| 1.6 MB 8.7 MB/s eta 0:00:01\r\u001b[K     |███████████████████████████████▊| 1.6 MB 8.7 MB/s eta 0:00:01\r\u001b[K     |████████████████████████████████| 1.6 MB 8.7 MB/s eta 0:00:01\r\u001b[K     |████████████████████████████████| 1.7 MB 8.7 MB/s \n",
            "\u001b[?25hRequirement already satisfied: six>=1.13.0 in /usr/local/lib/python3.7/dist-packages (from wandb) (1.15.0)\n",
            "Collecting configparser>=3.8.1\n",
            "  Downloading configparser-5.0.2-py3-none-any.whl (19 kB)\n",
            "Requirement already satisfied: PyYAML in /usr/local/lib/python3.7/dist-packages (from wandb) (3.13)\n",
            "Collecting docker-pycreds>=0.4.0\n",
            "  Downloading docker_pycreds-0.4.0-py2.py3-none-any.whl (9.0 kB)\n",
            "Collecting shortuuid>=0.5.0\n",
            "  Downloading shortuuid-1.0.1-py3-none-any.whl (7.5 kB)\n",
            "Collecting pathtools\n",
            "  Downloading pathtools-0.1.2.tar.gz (11 kB)\n",
            "Requirement already satisfied: Click!=8.0.0,>=7.0 in /usr/local/lib/python3.7/dist-packages (from wandb) (7.1.2)\n",
            "Requirement already satisfied: protobuf>=3.12.0 in /usr/local/lib/python3.7/dist-packages (from wandb) (3.17.3)\n",
            "Requirement already satisfied: requests<3,>=2.0.0 in /usr/local/lib/python3.7/dist-packages (from wandb) (2.23.0)\n",
            "Requirement already satisfied: python-dateutil>=2.6.1 in /usr/local/lib/python3.7/dist-packages (from wandb) (2.8.2)\n",
            "Collecting sentry-sdk>=1.0.0\n",
            "  Downloading sentry_sdk-1.4.3-py2.py3-none-any.whl (139 kB)\n",
            "\u001b[K     |████████████████████████████████| 139 kB 44.4 MB/s \n",
            "\u001b[?25hCollecting yaspin>=1.0.0\n",
            "  Downloading yaspin-2.1.0-py3-none-any.whl (18 kB)\n",
            "Collecting GitPython>=1.0.0\n",
            "  Downloading GitPython-3.1.24-py3-none-any.whl (180 kB)\n",
            "\u001b[K     |████████████████████████████████| 180 kB 39.7 MB/s \n",
            "\u001b[?25hRequirement already satisfied: promise<3,>=2.0 in /usr/local/lib/python3.7/dist-packages (from wandb) (2.3)\n",
            "Requirement already satisfied: psutil>=5.0.0 in /usr/local/lib/python3.7/dist-packages (from wandb) (5.4.8)\n",
            "Collecting subprocess32>=3.5.3\n",
            "  Downloading subprocess32-3.5.4.tar.gz (97 kB)\n",
            "\u001b[K     |████████████████████████████████| 97 kB 4.2 MB/s \n",
            "\u001b[?25hCollecting gitdb<5,>=4.0.1\n",
            "  Downloading gitdb-4.0.7-py3-none-any.whl (63 kB)\n",
            "\u001b[K     |████████████████████████████████| 63 kB 1.1 MB/s \n",
            "\u001b[?25hRequirement already satisfied: typing-extensions>=3.7.4.3 in /usr/local/lib/python3.7/dist-packages (from GitPython>=1.0.0->wandb) (3.7.4.3)\n",
            "Collecting smmap<5,>=3.0.1\n",
            "  Downloading smmap-4.0.0-py2.py3-none-any.whl (24 kB)\n",
            "Requirement already satisfied: chardet<4,>=3.0.2 in /usr/local/lib/python3.7/dist-packages (from requests<3,>=2.0.0->wandb) (3.0.4)\n",
            "Requirement already satisfied: certifi>=2017.4.17 in /usr/local/lib/python3.7/dist-packages (from requests<3,>=2.0.0->wandb) (2021.5.30)\n",
            "Requirement already satisfied: idna<3,>=2.5 in /usr/local/lib/python3.7/dist-packages (from requests<3,>=2.0.0->wandb) (2.10)\n",
            "Requirement already satisfied: urllib3!=1.25.0,!=1.25.1,<1.26,>=1.21.1 in /usr/local/lib/python3.7/dist-packages (from requests<3,>=2.0.0->wandb) (1.24.3)\n",
            "Requirement already satisfied: termcolor<2.0.0,>=1.1.0 in /usr/local/lib/python3.7/dist-packages (from yaspin>=1.0.0->wandb) (1.1.0)\n",
            "Building wheels for collected packages: subprocess32, pathtools\n",
            "  Building wheel for subprocess32 (setup.py) ... \u001b[?25l\u001b[?25hdone\n",
            "  Created wheel for subprocess32: filename=subprocess32-3.5.4-py3-none-any.whl size=6502 sha256=68b1567ee6862efdced689300454338f8b5dd1f78eb812470482ad173f316de2\n",
            "  Stored in directory: /root/.cache/pip/wheels/50/ca/fa/8fca8d246e64f19488d07567547ddec8eb084e8c0d7a59226a\n",
            "  Building wheel for pathtools (setup.py) ... \u001b[?25l\u001b[?25hdone\n",
            "  Created wheel for pathtools: filename=pathtools-0.1.2-py3-none-any.whl size=8807 sha256=d0c08138908862e402c04e698031b5bfd0399435286f26891076cb86670a18a8\n",
            "  Stored in directory: /root/.cache/pip/wheels/3e/31/09/fa59cef12cdcfecc627b3d24273699f390e71828921b2cbba2\n",
            "Successfully built subprocess32 pathtools\n",
            "Installing collected packages: smmap, gitdb, yaspin, subprocess32, shortuuid, sentry-sdk, pathtools, GitPython, docker-pycreds, configparser, wandb\n",
            "Successfully installed GitPython-3.1.24 configparser-5.0.2 docker-pycreds-0.4.0 gitdb-4.0.7 pathtools-0.1.2 sentry-sdk-1.4.3 shortuuid-1.0.1 smmap-4.0.0 subprocess32-3.5.4 wandb-0.12.4 yaspin-2.1.0\n"
          ]
        }
      ]
    },
    {
      "cell_type": "code",
      "metadata": {
        "id": "xO-pIcEOd26m",
        "outputId": "891106c4-82c2-4fc0-b252-6d06165d089e",
        "colab": {
          "base_uri": "https://localhost:8080/"
        }
      },
      "source": [
        "import wandb\n",
        "!wandb login"
      ],
      "execution_count": 2,
      "outputs": [
        {
          "output_type": "stream",
          "name": "stdout",
          "text": [
            "\u001b[34m\u001b[1mwandb\u001b[0m: You can find your API key in your browser here: https://wandb.ai/authorize\n",
            "\u001b[34m\u001b[1mwandb\u001b[0m: Paste an API key from your profile and hit enter: \n",
            "\u001b[34m\u001b[1mwandb\u001b[0m: Appending key for api.wandb.ai to your netrc file: /root/.netrc\n"
          ]
        }
      ]
    },
    {
      "cell_type": "code",
      "metadata": {
        "id": "7hWL3SDYd_r_"
      },
      "source": [
        ""
      ],
      "execution_count": null,
      "outputs": []
    }
  ]
}